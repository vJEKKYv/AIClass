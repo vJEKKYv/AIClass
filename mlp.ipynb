{
 "cells": [
  {
   "cell_type": "code",
   "execution_count": 1,
   "id": "32e296cf-e760-4597-98ce-248881642a26",
   "metadata": {
    "scrolled": true
   },
   "outputs": [],
   "source": [
    "import numpy as np\n",
    "from keras.datasets import mnist\n",
    "from keras.utils import to_categorical\n",
    "import matplotlib.pyplot as plt\n",
    "import random\n",
    "\n",
    "(train_images, train_labels), (test_images, test_labels) = mnist.load_data()\n",
    "\n",
    "train_images = train_images.reshape((60000, 28 * 28)).astype('float32') / 255.0\n",
    "test_images = test_images.reshape((10000, 28 * 28)).astype('float32') / 255.0\n",
    "\n",
    "train_labels = to_categorical(train_labels)\n",
    "test_labels = to_categorical(test_labels)"
   ]
  },
  {
   "cell_type": "code",
   "execution_count": 2,
   "id": "db3703ce-6769-4ced-b9c1-629d9ec7d3df",
   "metadata": {},
   "outputs": [],
   "source": [
    "# hyperparameters\n",
    "training_epochs = 10\n",
    "batch_size = 100\n",
    "\n",
    "learning_rate = 0.1\n",
    "\n",
    "input_size = 784    # 28x28 image       # 고정된 값 (이미지 크기)\n",
    "hidden_size = 100   # 임의의 값           # 임의의 값 (hidden layer의 노드 개수)\n",
    "output_size = 10    # 0~9               # 고정된 값 (분류할 클래스 개수)"
   ]
  },
  {
   "cell_type": "code",
   "execution_count": 3,
   "id": "3cae027e-151d-415e-bb53-440120a1919f",
   "metadata": {},
   "outputs": [],
   "source": [
    "#활성화 함수 정의\n",
    "def sigmoid(x):\n",
    "    y = 1 /(1+np.exp(-(x)))\n",
    "    return y\n",
    "def linear(x,x_size, y_size):\n",
    "    y = (y_size / x_size) * x\n",
    "    return y\n",
    "def ReLU(x):\n",
    "    y = np.where(Array_A<=0,0,Array_A)    # 0 이하는 0, 나머지는 자기자신 반환\n",
    "    return y\n",
    "def softmax(x):\n",
    "    expX = np.exp(x)\n",
    "    y = (1 / sum(expX)) * expX\n",
    "    return y"
   ]
  },
  {
   "cell_type": "code",
   "execution_count": 4,
   "id": "4c01f437-d77a-47f1-a820-33cf2ed5ea17",
   "metadata": {},
   "outputs": [],
   "source": [
    "# 손실 함수 정의\n",
    "def adam(gfx, x, ir=1000, alpha = 0.1, beta1 = 0.9, beta2 = 0.999,\n",
    "                epsilon = 10e-8, th=0.00001):\n",
    "    m = 0\n",
    "    v = 0\n",
    "    t = 1\n",
    "    log = np.array([])\n",
    "    while t < ir:\n",
    "        log = np.append(log, x)\n",
    "        gx = gfx(x)\n",
    "        m = beta1 * m + (1 - beta1) * gx\n",
    "        v = beta2 * v + (1- beta2) * gx **2\n",
    "        mh = m / (1 - beta1 ** t)  # m hat\n",
    "        vh = v / (1 - beta2 ** t)  # v hat\n",
    "        x_new = x - alpha * mh / (vh ** (1/2) + epsilon)\n",
    "        if(sum(abs(x-x_new)) <th):\n",
    "                break\n",
    "        x = x_new\n",
    "        t += 1\n",
    "    log = log.reshape(len(log)//2, 2)\n",
    "    return x, t, log\n",
    "    \n",
    "def SGD(x, y, b, w, learning_rate=0.01, epoch=1000, batch_size=16):\n",
    "    if type(w) != np.ndarray:\n",
    "        w = float(w)\n",
    "        w = np.reshape(w, (1, 1))\n",
    "    if x.size == x.shape[0]:\n",
    "        x = x.reshape(x.shape[0], 1)\n",
    "    if y.size == y.shape[0]:\n",
    "        y = y.reshape(y.shape[0], 1)\n",
    "\n",
    "    for epochs in range(epoch):\n",
    "        batch_mask = np.random.choice(x.shape[0], batch_size)\n",
    "        x_batch = x[batch_mask]\n",
    "        y_batch = y[batch_mask]\n",
    "\n",
    "        pred = x_batch.dot(w) + b\n",
    "        dw = ((pred - y_batch) * x_batch).mean(0)\n",
    "        dw = dw.reshape(dw.shape[0], 1)\n",
    "        db = (pred - y_batch).mean()\n",
    "        w -= dw * learning_rate\n",
    "        b -= db * learning_rate\n",
    "        if epochs % (epoch / 10) == 0:\n",
    "            pred = x.dot(w) + b\n",
    "            err = np.mean(np.square(pred - y))\n",
    "            print(\"error : \", err)\n",
    "    return w, b"
   ]
  },
  {
   "cell_type": "code",
   "execution_count": null,
   "id": "96f1a775-23ea-4163-ac23-3833fe9994f4",
   "metadata": {},
   "outputs": [],
   "source": [
    "#MLP 정의\n",
    "class MLP():\n",
    "    def __init__(self):\n",
    "        "
   ]
  },
  {
   "cell_type": "code",
   "execution_count": null,
   "id": "5bb1d3a0-27df-49be-88b4-b57433864440",
   "metadata": {},
   "outputs": [],
   "source": []
  }
 ],
 "metadata": {
  "kernelspec": {
   "display_name": "Python 3 (ipykernel)",
   "language": "python",
   "name": "python3"
  },
  "language_info": {
   "codemirror_mode": {
    "name": "ipython",
    "version": 3
   },
   "file_extension": ".py",
   "mimetype": "text/x-python",
   "name": "python",
   "nbconvert_exporter": "python",
   "pygments_lexer": "ipython3",
   "version": "3.10.13"
  }
 },
 "nbformat": 4,
 "nbformat_minor": 5
}
