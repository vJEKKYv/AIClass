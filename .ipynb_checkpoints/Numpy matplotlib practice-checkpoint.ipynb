{
 "cells": [
  {
   "cell_type": "markdown",
   "id": "8969e584-3abf-4dc4-afd5-1b94909ba384",
   "metadata": {},
   "source": [
    "# Numpy matplotlib 활용 실습"
   ]
  },
  {
   "cell_type": "code",
   "execution_count": 1,
   "id": "b33bdf52-dfb6-4ca9-8a8d-7df606ba30cf",
   "metadata": {},
   "outputs": [],
   "source": [
    "import numpy as np\n",
    "import matplotlib.pyplot as plt\n",
    "import math"
   ]
  },
  {
   "cell_type": "markdown",
   "id": "ad775225-9ace-41b0-a4bf-70ff9bfad629",
   "metadata": {},
   "source": [
    "## scalar, vector, matrix tensor"
   ]
  },
  {
   "cell_type": "code",
   "execution_count": 2,
   "id": "facf2430-826f-42dc-84eb-d4f2bb812d19",
   "metadata": {},
   "outputs": [
    {
     "name": "stdout",
     "output_type": "stream",
     "text": [
      "[0 2 4]\n"
     ]
    }
   ],
   "source": [
    "vector_x = np.arange(5)\n",
    "print(vector_x[0:5:2])"
   ]
  },
  {
   "cell_type": "code",
   "execution_count": 3,
   "id": "275c9a37-37e1-4e27-aefe-1b8fe6bc9f9b",
   "metadata": {},
   "outputs": [
    {
     "name": "stdout",
     "output_type": "stream",
     "text": [
      "[0 4 8]\n"
     ]
    }
   ],
   "source": [
    "matrix_A = np.arange(12).reshape(4,3)\n",
    "print(np.diag(matrix_A))"
   ]
  },
  {
   "cell_type": "code",
   "execution_count": 4,
   "id": "86992f48-febb-4e89-8207-2ba2c5f45e09",
   "metadata": {},
   "outputs": [
    {
     "name": "stdout",
     "output_type": "stream",
     "text": [
      "[[[0. 0.]\n",
      "  [0. 0.]\n",
      "  [0. 0.]]\n",
      "\n",
      " [[0. 0.]\n",
      "  [0. 0.]\n",
      "  [0. 0.]]\n",
      "\n",
      " [[1. 1.]\n",
      "  [1. 1.]\n",
      "  [1. 1.]]\n",
      "\n",
      " [[0. 0.]\n",
      "  [0. 0.]\n",
      "  [0. 0.]]\n",
      "\n",
      " [[0. 0.]\n",
      "  [0. 0.]\n",
      "  [0. 0.]]]\n"
     ]
    }
   ],
   "source": [
    "Tensor_H = np.zeros((5,3,2))\n",
    "Tensor_H[2:3,:,:] = 1\n",
    "print(Tensor_H)"
   ]
  },
  {
   "cell_type": "markdown",
   "id": "a1a4ed42-8216-4181-8e28-7aa183774885",
   "metadata": {},
   "source": [
    "## transpose, dot"
   ]
  },
  {
   "cell_type": "code",
   "execution_count": 5,
   "id": "30a1da49-27ce-45be-b051-52ed92074b45",
   "metadata": {},
   "outputs": [
    {
     "name": "stdout",
     "output_type": "stream",
     "text": [
      "[[ 0  4  8]\n",
      " [ 1  5  9]\n",
      " [ 2  6 10]\n",
      " [ 3  7 11]]\n"
     ]
    }
   ],
   "source": [
    "matrix_B = np.arange(12).reshape(3,4)\n",
    "print(np.transpose(matrix_B))"
   ]
  },
  {
   "cell_type": "code",
   "execution_count": 6,
   "id": "4295b11b-dfb9-463f-888d-ff5324a75bfc",
   "metadata": {},
   "outputs": [
    {
     "name": "stdout",
     "output_type": "stream",
     "text": [
      "[[ 0  1  2]\n",
      " [ 3  4  5]\n",
      " [ 6  7  8]\n",
      " [ 9 10 11]]\n",
      "[[ 0.  3.  6.  9.]\n",
      " [ 1.  4.  7. 10.]\n",
      " [ 2.  5.  8. 11.]]\n"
     ]
    }
   ],
   "source": [
    "def transpose(A):\n",
    "    row = len(A)\n",
    "    column = len(A[0])\n",
    "    B = np.zeros(row*column).reshape(column, row)\n",
    "    for i in range(row):\n",
    "        for j in range(column):\n",
    "            B[j,i] = A[i,j]\n",
    "    return B\n",
    "matrix_C =  np.arange(12).reshape(4,3)\n",
    "print(matrix_C)\n",
    "print(transpose(matrix_C))"
   ]
  },
  {
   "cell_type": "code",
   "execution_count": 7,
   "id": "e592cf37-c63e-4e33-ae13-4aa75cc378cc",
   "metadata": {},
   "outputs": [
    {
     "name": "stdout",
     "output_type": "stream",
     "text": [
      "[[ 42.  48.  54.]\n",
      " [114. 136. 158.]\n",
      " [186. 224. 262.]]\n",
      "[[ 42  48  54]\n",
      " [114 136 158]\n",
      " [186 224 262]]\n"
     ]
    }
   ],
   "source": [
    "def dot(A,B):\n",
    "    Arow = int(len(A))\n",
    "    Acolumn = int(len(A[0]))\n",
    "    Brow = int(len(B))\n",
    "    Bcolumn = int(len(B[0]))\n",
    "    if Arow!=Bcolumn or Brow!=Acolumn:\n",
    "        return \"내적 불가능한 matrix 입니다\"\n",
    "    else:\n",
    "        C = np.zeros(Arow*Bcolumn).reshape(Arow,Bcolumn)\n",
    "        for i in range(Arow):\n",
    "            for j in range(Bcolumn):\n",
    "                for k in range(Acolumn):\n",
    "                    C[i,j] += A[i,k]*B[k,j]\n",
    "        return C\n",
    "matrix_A = np.arange(12).reshape(3,4)\n",
    "matrix_B = np.arange(12).reshape(4,3)\n",
    "print(dot(matrix_A, matrix_B))\n",
    "print(np.dot(matrix_A, matrix_B))"
   ]
  },
  {
   "cell_type": "markdown",
   "id": "a311a557-de1f-429f-a425-9f840a7a1e8c",
   "metadata": {},
   "source": [
    "## norm"
   ]
  },
  {
   "cell_type": "code",
   "execution_count": 8,
   "id": "465481e9-4590-4618-bac1-0276f1fc1d8d",
   "metadata": {},
   "outputs": [
    {
     "name": "stdout",
     "output_type": "stream",
     "text": [
      "[0 1 2 3 4 5 6 7 8]\n",
      "vector_x의 L1 norm:  36.0\n",
      "vector_x의 L2 norm:  14.2828568570857\n",
      "Matrix_A의 L2 norm:  22.494443758403985\n",
      "36\n",
      "14.2828568570857\n",
      "22.494443758403985\n"
     ]
    }
   ],
   "source": [
    "vector_x = np.arange(9)\n",
    "Matrix_A = np.arange(9).reshape(3,3)\n",
    "print(vector_x)\n",
    "print(\"vector_x의 L1 norm: \",np.linalg.norm(vector_x,1))\n",
    "print(\"vector_x의 L2 norm: \",np.linalg.norm(vector_x,2))\n",
    "print(\"Matrix_A의 L2 norm: \",np.linalg.norm(matrix_A, 'fro'))\n",
    "def norm(A, order = {1,2,'fro'}):\n",
    "    if A.ndim == 1:\n",
    "        if order == 1:\n",
    "            return np.sum(np.abs(A))\n",
    "        elif order == 2:\n",
    "            return np.sqrt(np.sum(A**2))\n",
    "    else:\n",
    "        return np.sqrt(np.sum(A**2))\n",
    "print(norm(vector_x,1))\n",
    "print(norm(vector_x,2))\n",
    "print(norm(matrix_A,'fro'))"
   ]
  },
  {
   "cell_type": "markdown",
   "id": "66993334-1d68-45c5-a742-1ff5931fcee5",
   "metadata": {},
   "source": [
    "## data Sacaling"
   ]
  },
  {
   "cell_type": "code",
   "execution_count": 9,
   "id": "84891bc5-fa97-41e8-b072-53ce27e4718a",
   "metadata": {},
   "outputs": [
    {
     "name": "stdout",
     "output_type": "stream",
     "text": [
      "Normalization Matrix_A:  [[0.         0.09090909 0.18181818 0.27272727]\n",
      " [0.36363636 0.45454545 0.54545455 0.63636364]\n",
      " [0.72727273 0.81818182 0.90909091 1.        ]]\n",
      "Standardization Matrix_A:  [[-1.59325501 -1.30357228 -1.01388955 -0.72420682]\n",
      " [-0.43452409 -0.14484136  0.14484136  0.43452409]\n",
      " [ 0.72420682  1.01388955  1.30357228  1.59325501]]\n"
     ]
    }
   ],
   "source": [
    "def Normalization(A):\n",
    "    return (A-np.min(A))/(np.max(A)-np.min(A))\n",
    "def Standardization(A):\n",
    "    return (A-np.mean(A))/np.std(A)\n",
    "Matrix_A = np.arange(12).reshape(3,4)\n",
    "print(\"Normalization Matrix_A: \", Normalization(matrix_A))\n",
    "print(\"Standardization Matrix_A: \", Standardization(matrix_A))"
   ]
  },
  {
   "cell_type": "code",
   "execution_count": null,
   "id": "95b3e56f-20c7-489e-a6c4-82c5c245f8f3",
   "metadata": {},
   "outputs": [],
   "source": []
  }
 ],
 "metadata": {
  "kernelspec": {
   "display_name": "Python 3 (ipykernel)",
   "language": "python",
   "name": "python3"
  },
  "language_info": {
   "codemirror_mode": {
    "name": "ipython",
    "version": 3
   },
   "file_extension": ".py",
   "mimetype": "text/x-python",
   "name": "python",
   "nbconvert_exporter": "python",
   "pygments_lexer": "ipython3",
   "version": "3.10.13"
  }
 },
 "nbformat": 4,
 "nbformat_minor": 5
}
