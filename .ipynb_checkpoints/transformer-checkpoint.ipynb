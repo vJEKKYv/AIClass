{
 "cells": [
  {
   "cell_type": "markdown",
   "metadata": {},
   "source": [
    "# 데이터 준비"
   ]
  },
  {
   "cell_type": "code",
   "execution_count": 37,
   "metadata": {},
   "outputs": [],
   "source": [
    "import torch\n",
    "import torch.nn as nn\n",
    "import torch.optim as optim\n",
    "from torch.utils.data import Dataset, DataLoader\n",
    "from torchtext.data.utils import get_tokenizer\n",
    "from torch.nn.utils.rnn import pad_sequence\n",
    "from torchtext.vocab import build_vocab_from_iterator\n",
    "import pandas as pd\n",
    "from tqdm import tqdm\n",
    "from sklearn.model_selection import train_test_split\n",
    "\n",
    "import torchtext\n",
    "torchtext.disable_torchtext_deprecation_warning()\n",
    "\n",
    "# 데이터셋 클래스 정의\n",
    "class IMDBDataset(Dataset):\n",
    "    def __init__(self, csv_file, tokenizer, vocab):\n",
    "        self.data = pd.read_csv(csv_file)\n",
    "        self.tokenizer = tokenizer\n",
    "        self.vocab = vocab\n",
    "\n",
    "    def __len__(self):\n",
    "        return len(self.data)\n",
    "\n",
    "    def __getitem__(self, idx):\n",
    "        review = self.data.iloc[idx, 0]\n",
    "        label = self.data.iloc[idx, 1]\n",
    "\n",
    "        tokens = self.tokenizer(review)\n",
    "        token_ids = [self.vocab[token] for token in tokens if token in self.vocab]\n",
    "\n",
    "        return torch.tensor(token_ids), torch.tensor(label)\n",
    "\n",
    "def collate_batch(batch):\n",
    "    data = [item[0] for item in batch]\n",
    "    targets = [item[1] for item in batch]\n",
    "    data = pad_sequence(data, batch_first=True, padding_value=0)  # 패딩 값은 0으로 설정\n",
    "    targets = torch.tensor(targets)\n",
    "    return data, targets\n",
    "\n",
    "\n",
    "# 데이터 전처리 및 준비\n",
    "data = pd.read_csv('C:/Users/do150/Desktop/IMDB Dataset.csv')\n",
    "data['sentiment'] = data['sentiment'].apply(lambda x: 1 if x == 'positive' else 0)\n",
    "\n",
    "# train 데이터셋 줄이기\n",
    "train_data = data.iloc[:5000]  # 처음 5000개의 데이터만 사용\n",
    "\n",
    "# train, valid, test 데이터셋 생성\n",
    "train_data.to_csv('train.csv', index=False)\n",
    "valid_data, test_data = train_test_split(data.iloc[5000:], test_size=0.5, random_state=42)\n",
    "valid_data.to_csv('valid.csv', index=False)\n",
    "test_data.to_csv('test.csv', index=False)\n",
    "\n",
    "# 데이터셋과 데이터 로더 설정\n",
    "batch_size = 16\n",
    "tokenizer = get_tokenizer('basic_english')\n",
    "vocab = build_vocab_from_iterator(map(tokenizer, train_data['review']), specials=['<unk>', '<pad>', '<bos>', '<eos>'])\n",
    "\n",
    "train_dataset = IMDBDataset('train.csv', tokenizer, vocab)\n",
    "valid_dataset = IMDBDataset('valid.csv', tokenizer, vocab)\n",
    "test_dataset = IMDBDataset('test.csv', tokenizer, vocab)\n",
    "\n",
    "# Transformer용 DataLoader 설정\n",
    "train_loader = DataLoader(train_dataset, batch_size=batch_size, shuffle=True, collate_fn=collate_batch)\n",
    "valid_loader = DataLoader(valid_dataset, batch_size=batch_size, shuffle=False, collate_fn=collate_batch)\n",
    "test_loader = DataLoader(test_dataset, batch_size=batch_size, shuffle=False, collate_fn=collate_batch)\n"
   ]
  },
  {
   "cell_type": "markdown",
   "metadata": {},
   "source": [
    "# Transformer"
   ]
  },
  {
   "cell_type": "code",
   "execution_count": 15,
   "metadata": {},
   "outputs": [
    {
     "name": "stderr",
     "output_type": "stream",
     "text": [
      "c:\\Users\\do150\\anaconda3\\envs\\eh\\lib\\site-packages\\torch\\nn\\modules\\transformer.py:306: UserWarning: enable_nested_tensor is True, but self.use_nested_tensor is False because encoder_layer.self_attn.batch_first was not True(use batch_first for better inference performance)\n",
      "  warnings.warn(f\"enable_nested_tensor is True, but self.use_nested_tensor is False because {why_not_sparsity_fast_path}\")\n"
     ]
    }
   ],
   "source": [
    "# Transformer 모델 정의\n",
    "class TransformerModel(nn.Module):\n",
    "    def __init__(self, vocab_size, embed_dim, nhead, nhid, nlayers, dropout=0.5):\n",
    "        super(TransformerModel, self).__init__()\n",
    "        self.embedding = nn.Embedding(vocab_size, embed_dim)\n",
    "        encoder_layers = nn.TransformerEncoderLayer(embed_dim, nhead, nhid, dropout)\n",
    "        self.transformer_encoder = nn.TransformerEncoder(encoder_layers, nlayers)\n",
    "        self.fc = nn.Linear(embed_dim, 2)  # 이진 분류 (긍정, 부정)\n",
    "\n",
    "    def forward(self, src):\n",
    "        src = self.embedding(src)\n",
    "        output = self.transformer_encoder(src)\n",
    "        output = output.mean(dim=1)  # 모든 시간 단계의 평균을 취함\n",
    "        output = self.fc(output)\n",
    "        return output\n",
    "\n",
    "# 모델 초기화 및 하이퍼파라미터 설정\n",
    "vocab_size = len(vocab)\n",
    "embed_dim = 256\n",
    "nhead = 8\n",
    "nhid = 512\n",
    "nlayers = 6\n",
    "dropout = 0.2\n",
    "\n",
    "model = TransformerModel(vocab_size, embed_dim, nhead, nhid, nlayers, dropout)\n",
    "\n",
    "# 손실 함수와 옵티마이저 설정\n",
    "criterion = nn.CrossEntropyLoss()\n",
    "optimizer = optim.Adam(model.parameters(), lr=0.0001)\n",
    "\n",
    "def train(model, iterator, optimizer, criterion):\n",
    "    model.train()\n",
    "    epoch_loss = 0\n",
    "    for inputs, labels in tqdm(iterator, desc='Training', leave=False):\n",
    "        optimizer.zero_grad()\n",
    "        outputs = model(inputs)\n",
    "        loss = criterion(outputs, labels)\n",
    "        loss.backward()\n",
    "        optimizer.step()\n",
    "        epoch_loss += loss.item()\n",
    "    return epoch_loss / len(iterator)\n",
    "\n",
    "def evaluate(model, iterator, criterion):\n",
    "    model.eval()\n",
    "    epoch_loss = 0\n",
    "    with torch.no_grad():\n",
    "        for inputs, labels in tqdm(iterator, desc='Evaluating', leave=False):\n",
    "            outputs = model(inputs)\n",
    "            loss = criterion(outputs, labels)\n",
    "            epoch_loss += loss.item()\n",
    "    return epoch_loss / len(iterator)"
   ]
  },
  {
   "cell_type": "code",
   "execution_count": 16,
   "metadata": {},
   "outputs": [
    {
     "name": "stderr",
     "output_type": "stream",
     "text": [
      "                                                           \r"
     ]
    },
    {
     "name": "stdout",
     "output_type": "stream",
     "text": [
      "Epoch: 01 | Train Loss: 0.704\n"
     ]
    },
    {
     "name": "stderr",
     "output_type": "stream",
     "text": [
      "                                                           \r"
     ]
    },
    {
     "name": "stdout",
     "output_type": "stream",
     "text": [
      "Epoch: 02 | Train Loss: 0.688\n"
     ]
    },
    {
     "name": "stderr",
     "output_type": "stream",
     "text": [
      "                                                           \r"
     ]
    },
    {
     "name": "stdout",
     "output_type": "stream",
     "text": [
      "Epoch: 03 | Train Loss: 0.645\n"
     ]
    },
    {
     "name": "stderr",
     "output_type": "stream",
     "text": [
      "                                                           \r"
     ]
    },
    {
     "name": "stdout",
     "output_type": "stream",
     "text": [
      "Epoch: 04 | Train Loss: 0.607\n"
     ]
    },
    {
     "name": "stderr",
     "output_type": "stream",
     "text": [
      "                                                           \r"
     ]
    },
    {
     "name": "stdout",
     "output_type": "stream",
     "text": [
      "Epoch: 05 | Train Loss: 0.593\n"
     ]
    },
    {
     "name": "stderr",
     "output_type": "stream",
     "text": [
      "                                                           \r"
     ]
    },
    {
     "name": "stdout",
     "output_type": "stream",
     "text": [
      "Epoch: 06 | Train Loss: 0.576\n"
     ]
    },
    {
     "name": "stderr",
     "output_type": "stream",
     "text": [
      "                                                           \r"
     ]
    },
    {
     "name": "stdout",
     "output_type": "stream",
     "text": [
      "Epoch: 07 | Train Loss: 0.584\n"
     ]
    },
    {
     "name": "stderr",
     "output_type": "stream",
     "text": [
      "                                                           \r"
     ]
    },
    {
     "name": "stdout",
     "output_type": "stream",
     "text": [
      "Epoch: 08 | Train Loss: 0.586\n"
     ]
    },
    {
     "name": "stderr",
     "output_type": "stream",
     "text": [
      "                                                           \r"
     ]
    },
    {
     "name": "stdout",
     "output_type": "stream",
     "text": [
      "Epoch: 09 | Train Loss: 0.576\n"
     ]
    },
    {
     "name": "stderr",
     "output_type": "stream",
     "text": [
      "                                                           "
     ]
    },
    {
     "name": "stdout",
     "output_type": "stream",
     "text": [
      "Epoch: 10 | Train Loss: 0.577\n"
     ]
    },
    {
     "name": "stderr",
     "output_type": "stream",
     "text": [
      "\r"
     ]
    }
   ],
   "source": [
    "# 모델 훈련 및 검증\n",
    "epochs = 10\n",
    "best_valid_loss = float('inf')\n",
    "for epoch in range(epochs):\n",
    "    train_loss = train(model, train_loader, optimizer, criterion)\n",
    "\n",
    "    if train_loss < best_valid_loss:\n",
    "        best_valid_loss = train_loss\n",
    "        torch.save(model.state_dict(), 'transformer_model.pth')\n",
    "\n",
    "    print(f'Epoch: {epoch+1:02} | Train Loss: {train_loss:.3f}')"
   ]
  },
  {
   "cell_type": "code",
   "execution_count": 17,
   "metadata": {},
   "outputs": [
    {
     "name": "stderr",
     "output_type": "stream",
     "text": [
      "                                                               "
     ]
    },
    {
     "name": "stdout",
     "output_type": "stream",
     "text": [
      "Test Loss: 0.595\n"
     ]
    },
    {
     "name": "stderr",
     "output_type": "stream",
     "text": [
      "\r"
     ]
    }
   ],
   "source": [
    "# 테스트 데이터셋에서 평가\n",
    "model.load_state_dict(torch.load('transformer_model.pth'))\n",
    "test_loss = evaluate(model, test_loader, criterion)\n",
    "print(f'Test Loss: {test_loss:.3f}')"
   ]
  },
  {
   "cell_type": "markdown",
   "metadata": {},
   "source": [
    "# 임베딩 + 포지셔널 인코딩"
   ]
  },
  {
   "attachments": {
    "image.png": {
     "image/png": "[encoded data removed]"
    }
   },
   "cell_type": "markdown",
   "metadata": {},
   "source": [
    "![image.png](attachment:image.png)"
   ]
  },
  {
   "cell_type": "code",
   "execution_count": 10,
   "metadata": {},
   "outputs": [
    {
     "name": "stdout",
     "output_type": "stream",
     "text": [
      "Input Embeddings (All Zeros):\n",
      " [[0. 0. 0. ... 0. 0. 0.]\n",
      " [0. 0. 0. ... 0. 0. 0.]\n",
      " [0. 0. 0. ... 0. 0. 0.]\n",
      " ...\n",
      " [0. 0. 0. ... 0. 0. 0.]\n",
      " [0. 0. 0. ... 0. 0. 0.]\n",
      " [0. 0. 0. ... 0. 0. 0.]]\n",
      "Positional Encodings:\n",
      " [[ 0.00000000e+00  1.00000000e+00  0.00000000e+00 ...  1.00000000e+00\n",
      "   0.00000000e+00  1.00000000e+00]\n",
      " [ 8.41470985e-01  6.47905872e-01  6.81561350e-01 ...  1.00000000e+00\n",
      "   1.33352143e-08  1.00000000e+00]\n",
      " [ 9.09297427e-01 -1.60435961e-01  9.97479998e-01 ...  1.00000000e+00\n",
      "   2.66704286e-08  1.00000000e+00]\n",
      " ...\n",
      " [ 1.23573123e-01 -9.90162717e-01 -6.34613764e-01 ...  1.00000000e+00\n",
      "   6.26755073e-07  1.00000000e+00]\n",
      " [-7.68254661e-01 -7.48112670e-01 -9.91116276e-01 ...  1.00000000e+00\n",
      "   6.40090287e-07  1.00000000e+00]\n",
      " [-9.53752653e-01  2.07495320e-02 -8.15906662e-01 ...  1.00000000e+00\n",
      "   6.53425502e-07  1.00000000e+00]]\n",
      "Output Embeddings with Positional Encoding:\n",
      " [[ 0.00000000e+00  1.00000000e+00  0.00000000e+00 ...  1.00000000e+00\n",
      "   0.00000000e+00  1.00000000e+00]\n",
      " [ 8.41470985e-01  6.47905872e-01  6.81561350e-01 ...  1.00000000e+00\n",
      "   1.33352143e-08  1.00000000e+00]\n",
      " [ 9.09297427e-01 -1.60435961e-01  9.97479998e-01 ...  1.00000000e+00\n",
      "   2.66704286e-08  1.00000000e+00]\n",
      " ...\n",
      " [ 1.23573123e-01 -9.90162717e-01 -6.34613764e-01 ...  1.00000000e+00\n",
      "   6.26755073e-07  1.00000000e+00]\n",
      " [-7.68254661e-01 -7.48112670e-01 -9.91116276e-01 ...  1.00000000e+00\n",
      "   6.40090287e-07  1.00000000e+00]\n",
      " [-9.53752653e-01  2.07495320e-02 -8.15906662e-01 ...  1.00000000e+00\n",
      "   6.53425502e-07  1.00000000e+00]]\n"
     ]
    },
    {
     "data": {
      "image/png": "[encoded data removed]",
      "text/plain": [
       "<Figure size 1200x600 with 2 Axes>"
      ]
     },
     "metadata": {},
     "output_type": "display_data"
    }
   ],
   "source": [
    "import numpy as np\n",
    "import matplotlib.pyplot as plt\n",
    "import math\n",
    "\n",
    "# 단어 임베딩 생성 (단순히 랜덤하게 초기화)\n",
    "def create_embeddings(vocab_size, embedding_dim):\n",
    "    # 코드 작성\n",
    "    output = np.random.randn(vocab_size, embedding_dim)\n",
    "    \n",
    "    return output\n",
    "\n",
    "# 포지셔널 인코딩 생성\n",
    "def positional_encoding(seq_len, d_model):\n",
    "    pe = np.zeros((seq_len, d_model))\n",
    "    for i in range(seq_len):\n",
    "        for j in range(d_model):\n",
    "            if j % 2 == 0:  # 짝수 번째 일 때\n",
    "                pe[i, j] = np.sin(i / (10000 ** (2 * j / d_model)))\n",
    "                #pe[i, j] = np.sin((i+1) / (10000 ** (2 * (j+1) / d_model)))\n",
    "            else:  # 홀수 번째 일 때\n",
    "                pe[i, j] = np.cos(i / (10000 ** (2 * j / d_model)))\n",
    "                #pe[i, j] = np.cos((i+1) / (10000 ** (2 * (j+1) / d_model)))\n",
    "                \n",
    "    return pe\n",
    "\n",
    "# 입력 토큰의 수와 임베딩 차원 설정\n",
    "seq_len = 50  # 입력 시퀀스 길이\n",
    "embedding_dim = 128  # 임베딩 차원\n",
    "\n",
    "# 임베딩 값이 모두 0인 입력 생성\n",
    "input_embeddings = np.zeros((seq_len, embedding_dim))\n",
    "print(\"Input Embeddings (All Zeros):\\n\", input_embeddings)\n",
    "\n",
    "# 포지셔널 인코딩 추가\n",
    "positional_encodings = positional_encoding(seq_len, embedding_dim)\n",
    "output_embeddings = input_embeddings + positional_encodings\n",
    "\n",
    "print(\"Positional Encodings:\\n\", positional_encodings)\n",
    "print(\"Output Embeddings with Positional Encoding:\\n\", output_embeddings)\n",
    "\n",
    "plt.figure(figsize=(12, 6))\n",
    "plt.imshow(output_embeddings, cmap='viridis', aspect='auto')\n",
    "plt.colorbar()\n",
    "plt.xlabel('Dimension')\n",
    "plt.ylabel('Position')\n",
    "plt.title('Positional Encodings')\n",
    "plt.show()"
   ]
  },
  {
   "cell_type": "markdown",
   "metadata": {},
   "source": [
    "# 쿼리, 키, 값 + 셀프 어텐션"
   ]
  },
  {
   "cell_type": "code",
   "execution_count": 2,
   "metadata": {},
   "outputs": [
    {
     "ename": "NameError",
     "evalue": "name 'Q' is not defined",
     "output_type": "error",
     "traceback": [
      "\u001b[1;31m---------------------------------------------------------------------------\u001b[0m",
      "\u001b[1;31mNameError\u001b[0m                                 Traceback (most recent call last)",
      "Cell \u001b[1;32mIn[2], line 13\u001b[0m\n\u001b[0;32m      8\u001b[0m \u001b[38;5;28;01mdef\u001b[39;00m \u001b[38;5;21mattention\u001b[39m(Q, K, V):\n\u001b[0;32m      9\u001b[0m     \u001b[38;5;66;03m# 코드 추가\u001b[39;00m\n\u001b[0;32m     11\u001b[0m     \u001b[38;5;28;01mreturn\u001b[39;00m output, attention_weights\n\u001b[1;32m---> 13\u001b[0m Q, K, V \u001b[38;5;241m=\u001b[39m \u001b[43mcalculate_qkv\u001b[49m\u001b[43m(\u001b[49m\u001b[43moutput_embeddings\u001b[49m\u001b[43m,\u001b[49m\u001b[43m \u001b[49m\u001b[43membedding_dim\u001b[49m\u001b[43m)\u001b[49m\n\u001b[0;32m     15\u001b[0m \u001b[38;5;66;03m# 어텐션 계산\u001b[39;00m\n\u001b[0;32m     16\u001b[0m output, attention_weights \u001b[38;5;241m=\u001b[39m attention(Q, K, V)\n",
      "Cell \u001b[1;32mIn[2], line 5\u001b[0m, in \u001b[0;36mcalculate_qkv\u001b[1;34m(embeddings, d_k)\u001b[0m\n\u001b[0;32m      2\u001b[0m \u001b[38;5;28;01mdef\u001b[39;00m \u001b[38;5;21mcalculate_qkv\u001b[39m(embeddings, d_k):\n\u001b[0;32m      3\u001b[0m     \u001b[38;5;66;03m# 코드 추가\u001b[39;00m\n\u001b[1;32m----> 5\u001b[0m     \u001b[38;5;28;01mreturn\u001b[39;00m \u001b[43mQ\u001b[49m, K, V\n",
      "\u001b[1;31mNameError\u001b[0m: name 'Q' is not defined"
     ]
    }
   ],
   "source": [
    "# Query, Key, Value 계산\n",
    "def calculate_qkv(embeddings, d_k):\n",
    "    # 코드 추가\n",
    "    \n",
    "    return Q, K, V\n",
    "\n",
    "# 어텐션 스코어 계산\n",
    "def attention(Q, K, V):\n",
    "    # 코드 추가\n",
    "    \n",
    "    return output, attention_weights\n",
    "\n",
    "Q, K, V = calculate_qkv(output_embeddings, embedding_dim)\n",
    "\n",
    "# 어텐션 계산\n",
    "output, attention_weights = attention(Q, K, V)\n",
    "\n",
    "print(\"Attention Output:\\n\", output)\n",
    "print(\"Attention Weights:\\n\", attention_weights)"
   ]
  },
  {
   "cell_type": "markdown",
   "metadata": {},
   "source": [
    "## 쿼리, 키, 값 + 어텐션 부분의 경우 값이 제대로 안나옴\n",
    "## -> 실제 사용하는 데이터를 가져와서 임베딩 + 포지셔널 인코딩 부분을 변경"
   ]
  }
 ],
 "metadata": {
  "kernelspec": {
   "display_name": "Python 3 (ipykernel)",
   "language": "python",
   "name": "python3"
  },
  "language_info": {
   "codemirror_mode": {
    "name": "ipython",
    "version": 3
   },
   "file_extension": ".py",
   "mimetype": "text/x-python",
   "name": "python",
   "nbconvert_exporter": "python",
   "pygments_lexer": "ipython3",
   "version": "3.10.13"
  }
 },
 "nbformat": 4,
 "nbformat_minor": 4
}
