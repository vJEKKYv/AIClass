{
 "cells": [
  {
   "cell_type": "markdown",
   "metadata": {},
   "source": [
    "# RNN"
   ]
  },
  {
   "cell_type": "code",
   "execution_count": 1,
   "metadata": {
    "executionInfo": {
     "elapsed": 2,
     "status": "ok",
     "timestamp": 1717505693224,
     "user": {
      "displayName": "구숭모/소프트웨어전공/학생",
      "userId": "10928247944007895356"
     },
     "user_tz": -540
    },
    "id": "8vqjGy2a2XfX"
   },
   "outputs": [],
   "source": [
    "from __future__ import unicode_literals, print_function, division\n",
    "from io import open\n",
    "import glob\n",
    "import os\n",
    "\n",
    "import unicodedata\n",
    "import string"
   ]
  },
  {
   "cell_type": "code",
   "execution_count": 2,
   "metadata": {
    "colab": {
     "base_uri": "https://localhost:8080/"
    },
    "executionInfo": {
     "elapsed": 7805,
     "status": "ok",
     "timestamp": 1717505884042,
     "user": {
      "displayName": "구숭모/소프트웨어전공/학생",
      "userId": "10928247944007895356"
     },
     "user_tz": -540
    },
    "id": "INPrKLP8wROJ",
    "outputId": "3a3d89ce-e9ab-49fd-8b7b-b50b2ffc61e6"
   },
   "outputs": [
    {
     "name": "stdout",
     "output_type": "stream",
     "text": [
      "['C:/Users/jewon/AIClass/names\\\\Arabic.txt', 'C:/Users/jewon/AIClass/names\\\\Chinese.txt', 'C:/Users/jewon/AIClass/names\\\\Czech.txt', 'C:/Users/jewon/AIClass/names\\\\Dutch.txt', 'C:/Users/jewon/AIClass/names\\\\English.txt', 'C:/Users/jewon/AIClass/names\\\\French.txt', 'C:/Users/jewon/AIClass/names\\\\German.txt', 'C:/Users/jewon/AIClass/names\\\\Greek.txt', 'C:/Users/jewon/AIClass/names\\\\Irish.txt', 'C:/Users/jewon/AIClass/names\\\\Italian.txt', 'C:/Users/jewon/AIClass/names\\\\Japanese.txt', 'C:/Users/jewon/AIClass/names\\\\Korean.txt', 'C:/Users/jewon/AIClass/names\\\\Polish.txt', 'C:/Users/jewon/AIClass/names\\\\Portuguese.txt', 'C:/Users/jewon/AIClass/names\\\\Russian.txt', 'C:/Users/jewon/AIClass/names\\\\Scottish.txt', 'C:/Users/jewon/AIClass/names\\\\Spanish.txt', 'C:/Users/jewon/AIClass/names\\\\Vietnamese.txt']\n",
      "Slusarski\n"
     ]
    }
   ],
   "source": [
    "# 받은 데이터 파일의 디렉도리 주소로 주기\n",
    "path = 'C:/Users/jewon/AIClass/names'\n",
    "def findFiles(path): return glob.glob(path)\n",
    "print(findFiles(path+'/*.txt'))\n",
    "\n",
    "all_letters = string.ascii_letters + \" .,;'\"\n",
    "n_letters = len(all_letters)\n",
    "\n",
    "# 유니코드 문자열을 ASCII로 변환, https://stackoverflow.com/a/518232/2809427\n",
    "def unicodeToAscii(s):\n",
    "    return ''.join(\n",
    "        c for c in unicodedata.normalize('NFD', s)\n",
    "        if unicodedata.category(c) != 'Mn' # 성조를 유니코드에 맞게 변경\n",
    "        and c in all_letters\n",
    "    )\n",
    "\n",
    "print(unicodeToAscii('Ślusàrski'))"
   ]
  },
  {
   "cell_type": "code",
   "execution_count": 3,
   "metadata": {
    "colab": {
     "base_uri": "https://localhost:8080/"
    },
    "executionInfo": {
     "elapsed": 733,
     "status": "ok",
     "timestamp": 1717506405129,
     "user": {
      "displayName": "구숭모/소프트웨어전공/학생",
      "userId": "10928247944007895356"
     },
     "user_tz": -540
    },
    "id": "DlB3mbq0WLJV",
    "outputId": "32f1a6dc-4bc3-4743-853e-2206c334d104"
   },
   "outputs": [
    {
     "name": "stdout",
     "output_type": "stream",
     "text": [
      "18\n"
     ]
    }
   ],
   "source": [
    "# 각 언어의 이름 목록인 category_lines 사전 생성\n",
    "category_lines = {}\n",
    "all_categories = []\n",
    "\n",
    "# 파일을 읽고 줄 단위로 분리\n",
    "def readLines(filename):\n",
    "    lines = open(filename, encoding='utf-8').read().strip().split('\\n')\n",
    "    return [unicodeToAscii(line) for line in lines]\n",
    "\n",
    "for filename in findFiles(path+'/*.txt'):\n",
    "    category = os.path.splitext(os.path.basename(filename))[0] # 나라별 이름이 들어간다\n",
    "    all_categories.append(category)\n",
    "    lines = readLines(filename)\n",
    "    category_lines[category] = lines # {나라:[이름 배열]}\n",
    "\n",
    "n_categories = len(all_categories) # 나라 종류\n",
    "print(n_categories)"
   ]
  },
  {
   "cell_type": "code",
   "execution_count": 4,
   "metadata": {},
   "outputs": [
    {
     "data": {
      "text/plain": [
       "['Arabic',\n",
       " 'Chinese',\n",
       " 'Czech',\n",
       " 'Dutch',\n",
       " 'English',\n",
       " 'French',\n",
       " 'German',\n",
       " 'Greek',\n",
       " 'Irish',\n",
       " 'Italian',\n",
       " 'Japanese',\n",
       " 'Korean',\n",
       " 'Polish',\n",
       " 'Portuguese',\n",
       " 'Russian',\n",
       " 'Scottish',\n",
       " 'Spanish',\n",
       " 'Vietnamese']"
      ]
     },
     "execution_count": 4,
     "metadata": {},
     "output_type": "execute_result"
    }
   ],
   "source": [
    "all_categories"
   ]
  },
  {
   "cell_type": "code",
   "execution_count": 5,
   "metadata": {
    "colab": {
     "base_uri": "https://localhost:8080/"
    },
    "executionInfo": {
     "elapsed": 293,
     "status": "ok",
     "timestamp": 1717506437102,
     "user": {
      "displayName": "구숭모/소프트웨어전공/학생",
      "userId": "10928247944007895356"
     },
     "user_tz": -540
    },
    "id": "Z8uldOZdyYX5",
    "outputId": "ce3160b1-2ee7-4531-9660-d32623f7200b"
   },
   "outputs": [
    {
     "name": "stdout",
     "output_type": "stream",
     "text": [
      "['Abandonato', 'Abatangelo', 'Abatantuono', 'Abate', 'Abategiovanni']\n"
     ]
    }
   ],
   "source": [
    "print(category_lines['Italian'][:5]) # 이탈리아 이름 예시"
   ]
  },
  {
   "cell_type": "code",
   "execution_count": 6,
   "metadata": {
    "colab": {
     "base_uri": "https://localhost:8080/"
    },
    "executionInfo": {
     "elapsed": 4613,
     "status": "ok",
     "timestamp": 1717505901600,
     "user": {
      "displayName": "구숭모/소프트웨어전공/학생",
      "userId": "10928247944007895356"
     },
     "user_tz": -540
    },
    "id": "ttPvGOClyzls",
    "outputId": "f697c601-d100-4131-edf3-0f0737d69a54"
   },
   "outputs": [],
   "source": [
    "import torch\n",
    "\n",
    "# all_letters 로 문자의 주소 찾기, 예시 \"a\" = 0\n",
    "def letterToIndex(letter):\n",
    "    return all_letters.find(letter)\n",
    "\n",
    "# 검증을 위해서 한 개의 문자를 <1 x n_letters> Tensor로 변환\n",
    "def letterToTensor(letter):\n",
    "    tensor = torch.zeros(1, n_letters)\n",
    "    tensor[0][letterToIndex(letter)] = 1\n",
    "    return tensor\n",
    "\n",
    "# 한 줄(이름)을  <line_length x 1 x n_letters>,\n",
    "# 또는 One-Hot 문자 벡터의 Array로 변경\n",
    "def lineToTensor(line):\n",
    "    tensor = torch.zeros(len(line), 1, n_letters)\n",
    "    for li, letter in enumerate(line): # enumerate는 인덱싱 번호와 해당 값을 튜플로 반환. \n",
    "        tensor[li][0][letterToIndex(letter)] = 1\n",
    "    return tensor"
   ]
  },
  {
   "cell_type": "code",
   "execution_count": 7,
   "metadata": {
    "colab": {
     "base_uri": "https://localhost:8080/"
    },
    "executionInfo": {
     "elapsed": 360,
     "status": "ok",
     "timestamp": 1717506679849,
     "user": {
      "displayName": "구숭모/소프트웨어전공/학생",
      "userId": "10928247944007895356"
     },
     "user_tz": -540
    },
    "id": "I5RuZpmxXe-c",
    "outputId": "b44c32e9-ee70-4e6e-b02f-4e69c6e1ef43"
   },
   "outputs": [
    {
     "name": "stdout",
     "output_type": "stream",
     "text": [
      "0\n",
      "56\n"
     ]
    }
   ],
   "source": [
    "print(letterToIndex('a')) # 모든 알파벳과 .,;' 합친 순서 리턴\n",
    "print(letterToIndex('\\'')) # a는 0부터 '는56 까지"
   ]
  },
  {
   "cell_type": "code",
   "execution_count": 8,
   "metadata": {
    "colab": {
     "base_uri": "https://localhost:8080/"
    },
    "executionInfo": {
     "elapsed": 341,
     "status": "ok",
     "timestamp": 1717506743991,
     "user": {
      "displayName": "구숭모/소프트웨어전공/학생",
      "userId": "10928247944007895356"
     },
     "user_tz": -540
    },
    "id": "oikc5UjyXdqY",
    "outputId": "ca1de372-0952-4085-e66a-3e8f9be93181"
   },
   "outputs": [
    {
     "name": "stdout",
     "output_type": "stream",
     "text": [
      "tensor([[0., 0., 0., 0., 0., 0., 0., 0., 0., 0., 0., 0., 0., 0., 0., 0., 0., 0.,\n",
      "         0., 0., 0., 0., 0., 0., 0., 0., 0., 0., 0., 0., 0., 0., 0., 0., 0., 1.,\n",
      "         0., 0., 0., 0., 0., 0., 0., 0., 0., 0., 0., 0., 0., 0., 0., 0., 0., 0.,\n",
      "         0., 0., 0.]])\n",
      "torch.Size([5, 1, 57])\n"
     ]
    }
   ],
   "source": [
    "print(letterToTensor('J')) # 인덱스를 텐서로 변환\n",
    "print(lineToTensor('Jones').size()) # 각 문자를 one-hot encoding한 문자열 길이의 텐서로 만든다"
   ]
  },
  {
   "cell_type": "code",
   "execution_count": 9,
   "metadata": {
    "executionInfo": {
     "elapsed": 527,
     "status": "ok",
     "timestamp": 1717507115964,
     "user": {
      "displayName": "구숭모/소프트웨어전공/학생",
      "userId": "10928247944007895356"
     },
     "user_tz": -540
    },
    "id": "ASgD-qaFzBxN"
   },
   "outputs": [],
   "source": [
    "import torch.nn as nn\n",
    "\n",
    "class RNN(nn.Module):\n",
    "    def __init__(self, input_size, hidden_size, output_size):\n",
    "        super(RNN, self).__init__()\n",
    "\n",
    "        self.hidden_size = hidden_size\n",
    "\n",
    "        self.i2h = nn.Linear(input_size + hidden_size, hidden_size)\n",
    "        self.i2o = nn.Linear(input_size + hidden_size, output_size)\n",
    "        self.softmax = nn.LogSoftmax(dim=1)\n",
    "\n",
    "    def forward(self, input, hidden):\n",
    "        combined = torch.cat((input, hidden), 1) # 입력과 히든 레이어 결과를 concat한다\n",
    "        hidden = self.i2h(combined) # hidden 레이어\n",
    "        output = self.i2o(combined) # output 레이어\n",
    "        output = self.softmax(output) # 클래스별 분류를 위한 activation function\n",
    "        return output, hidden # 결과와 hidden layer 값 반환\n",
    "\n",
    "    def initHidden(self):\n",
    "        return torch.zeros(1, self.hidden_size)\n",
    "\n",
    "n_hidden = 128 # 히든 레이터의 feature 크기를 128로 지정\n",
    "rnn = RNN(n_letters, n_hidden, n_categories) # 글자 개수, 히든 레이어 크기 (128), 나라 개수 (학습 후 결과로 나올 나라의 수)"
   ]
  },
  {
   "cell_type": "code",
   "execution_count": 10,
   "metadata": {
    "executionInfo": {
     "elapsed": 1,
     "status": "ok",
     "timestamp": 1717507115964,
     "user": {
      "displayName": "구숭모/소프트웨어전공/학생",
      "userId": "10928247944007895356"
     },
     "user_tz": -540
    },
    "id": "rhelkyvn0LEz"
   },
   "outputs": [],
   "source": [
    "input = letterToTensor('A')\n",
    "hidden = torch.zeros(1, n_hidden)\n",
    "output, next_hidden = rnn(input, hidden)"
   ]
  },
  {
   "cell_type": "code",
   "execution_count": 11,
   "metadata": {
    "colab": {
     "base_uri": "https://localhost:8080/"
    },
    "executionInfo": {
     "elapsed": 306,
     "status": "ok",
     "timestamp": 1717507133223,
     "user": {
      "displayName": "구숭모/소프트웨어전공/학생",
      "userId": "10928247944007895356"
     },
     "user_tz": -540
    },
    "id": "84oNvMcbZYyH",
    "outputId": "21cfa3ee-cebe-44e4-afab-7a9e6d84f49f"
   },
   "outputs": [
    {
     "name": "stdout",
     "output_type": "stream",
     "text": [
      "torch.Size([1, 57])\n",
      "torch.Size([1, 18]) torch.Size([1, 128])\n"
     ]
    }
   ],
   "source": [
    "print(input.size()) # a의 벡터화 된\n",
    "print(output.size(), next_hidden.size()) # 반환된 output과 hidden vector의 크기"
   ]
  },
  {
   "cell_type": "code",
   "execution_count": 12,
   "metadata": {
    "colab": {
     "base_uri": "https://localhost:8080/"
    },
    "executionInfo": {
     "elapsed": 385,
     "status": "ok",
     "timestamp": 1717507175036,
     "user": {
      "displayName": "구숭모/소프트웨어전공/학생",
      "userId": "10928247944007895356"
     },
     "user_tz": -540
    },
    "id": "V4P6DgJcZ6ZT",
    "outputId": "97dbfb04-b175-4071-fcfb-f04484501bee"
   },
   "outputs": [
    {
     "data": {
      "text/plain": [
       "tensor([[-2.8983, -2.9700, -2.8881, -2.9201, -2.7689, -2.9206, -2.8102, -2.8761,\n",
       "         -2.8190, -2.9229, -2.9104, -2.9465, -2.8952, -2.9267, -2.9553, -2.8636,\n",
       "         -2.9313, -2.8293]], grad_fn=<LogSoftmaxBackward0>)"
      ]
     },
     "execution_count": 12,
     "metadata": {},
     "output_type": "execute_result"
    }
   ],
   "source": [
    "output"
   ]
  },
  {
   "cell_type": "code",
   "execution_count": 13,
   "metadata": {
    "colab": {
     "base_uri": "https://localhost:8080/"
    },
    "executionInfo": {
     "elapsed": 516,
     "status": "ok",
     "timestamp": 1717507274666,
     "user": {
      "displayName": "구숭모/소프트웨어전공/학생",
      "userId": "10928247944007895356"
     },
     "user_tz": -540
    },
    "id": "1vd7lIl20mdZ",
    "outputId": "edf87a13-d7a1-4499-ac6b-7fa585ff84c2"
   },
   "outputs": [
    {
     "name": "stdout",
     "output_type": "stream",
     "text": [
      "('English', 4)\n"
     ]
    }
   ],
   "source": [
    "def categoryFromOutput(output):\n",
    "    top_n, top_i = output.topk(1)  # 텐서의 가장 큰 값 및 주소\n",
    "    category_i = top_i[0].item()   # 텐서에서 정수 값으로 변경, top_i는 [[17]] 형태\n",
    "    return all_categories[category_i], category_i # 클래스와 해당하는 나라 return\n",
    "\n",
    "print(categoryFromOutput(output))"
   ]
  },
  {
   "cell_type": "code",
   "execution_count": 14,
   "metadata": {
    "colab": {
     "base_uri": "https://localhost:8080/"
    },
    "executionInfo": {
     "elapsed": 296,
     "status": "ok",
     "timestamp": 1717507454533,
     "user": {
      "displayName": "구숭모/소프트웨어전공/학생",
      "userId": "10928247944007895356"
     },
     "user_tz": -540
    },
    "id": "W_Yuhjzi06zO",
    "outputId": "18e770df-678f-473d-c01b-222b48653b17"
   },
   "outputs": [
    {
     "name": "stdout",
     "output_type": "stream",
     "text": [
      "category = Chinese / line = Xie\n",
      "category = Chinese / line = Geng\n",
      "category = Dutch / line = Marquering\n",
      "category = Greek / line = Ruvelas\n",
      "category = Russian / line = Jukhtman\n",
      "category = Japanese / line = Nakagawa\n",
      "category = Scottish / line = Hay\n",
      "category = Portuguese / line = Alves\n",
      "category = Polish / line = Chmiel\n",
      "category = Dutch / line = Laren\n"
     ]
    }
   ],
   "source": [
    "import random\n",
    "\n",
    "def randomChoice(l):\n",
    "    return l[random.randint(0, len(l) - 1)]\n",
    "\n",
    "# 랜덤으로 선택된 국가와 라인(이름), 국가 인덱스, 라인 텐서 반환\n",
    "def randomTrainingExample():\n",
    "    category = randomChoice(all_categories) # 랜덤 국가\n",
    "    line = randomChoice(category_lines[category]) # 랜덤 이름\n",
    "    category_tensor = torch.tensor([all_categories.index(category)], dtype=torch.long)\n",
    "    line_tensor = lineToTensor(line)\n",
    "    return category, line, category_tensor, line_tensor\n",
    "\n",
    "for i in range(10):\n",
    "    category, line, category_tensor, line_tensor = randomTrainingExample()\n",
    "    print('category =', category, '/ line =', line)"
   ]
  },
  {
   "cell_type": "markdown",
   "metadata": {
    "id": "JyLyAlxhVPyq"
   },
   "source": [
    "## 네트워크 학습"
   ]
  },
  {
   "cell_type": "markdown",
   "metadata": {
    "id": "XdpJPGgLbIN1"
   },
   "source": [
    "## Negative Log-likelihood Loss\n",
    "$ NLLLoss = -∑^{n}_{1}{y_{i}\\log{\\hat{y}_i}} $  \n",
    "즉 CE Loss와 수식은 동일"
   ]
  },
  {
   "cell_type": "code",
   "execution_count": 15,
   "metadata": {
    "executionInfo": {
     "elapsed": 292,
     "status": "ok",
     "timestamp": 1717508233430,
     "user": {
      "displayName": "구숭모/소프트웨어전공/학생",
      "userId": "10928247944007895356"
     },
     "user_tz": -540
    },
    "id": "UPKOIqSOVOWV"
   },
   "outputs": [],
   "source": [
    "'''\n",
    "pytorch에서 CELoss와 차이는 softmax이다\n",
    "CELoss는 실제 값을 바로 받지만 NLLLoss는 확률값을 입력으로 받는다.\n",
    "즉, CELoss는 모델안에 마지막 활성화 함수가 Softmax가 아니어야 하지만\n",
    "    NLLLoss를 사용하기 위해서는 모델의 마지막에 Softmax가 필요하다.\n",
    "'''\n",
    "criterion = nn.NLLLoss()"
   ]
  },
  {
   "cell_type": "code",
   "execution_count": 16,
   "metadata": {
    "executionInfo": {
     "elapsed": 304,
     "status": "ok",
     "timestamp": 1717508237025,
     "user": {
      "displayName": "구숭모/소프트웨어전공/학생",
      "userId": "10928247944007895356"
     },
     "user_tz": -540
    },
    "id": "tCP4dVEeVTO3"
   },
   "outputs": [],
   "source": [
    "learning_rate = 0.005  # 학습률을 너무 높게 설정하면 발산할 수 있고, 너무 낮으면 학습이 되지 않을 수 있습니다.\n",
    "\n",
    "def train(category_tensor, line_tensor):\n",
    "    hidden = rnn.initHidden()\n",
    "\n",
    "    rnn.zero_grad()\n",
    "\n",
    "    for i in range(line_tensor.size()[0]):\n",
    "        output, hidden = rnn(line_tensor[i], hidden)\n",
    "\n",
    "    loss = criterion(output, category_tensor)\n",
    "    loss.backward()\n",
    "\n",
    "    # 매개변수의 경사도에 학습률을 곱해서 그 매개변수의 값에 더합니다.\n",
    "    for p in rnn.parameters():\n",
    "        p.data.add_(p.grad.data, alpha=-learning_rate)\n",
    "\n",
    "    return output, loss.item()"
   ]
  },
  {
   "cell_type": "code",
   "execution_count": 17,
   "metadata": {
    "colab": {
     "base_uri": "https://localhost:8080/"
    },
    "executionInfo": {
     "elapsed": 138526,
     "status": "ok",
     "timestamp": 1717509726355,
     "user": {
      "displayName": "구숭모/소프트웨어전공/학생",
      "userId": "10928247944007895356"
     },
     "user_tz": -540
    },
    "id": "rkYDWWVWVTi_",
    "outputId": "900dd621-122b-4e1d-e24f-46790bdb77d5"
   },
   "outputs": [
    {
     "name": "stdout",
     "output_type": "stream",
     "text": [
      "5000 5% (0m 3s) 2.5200 Ma / Korean ✓\n",
      "10000 10% (0m 7s) 2.2304 Machado / Japanese ✗ (Portuguese)\n",
      "15000 15% (0m 11s) 2.3209 Straub / Arabic ✗ (German)\n",
      "20000 20% (0m 15s) 1.2987 Fausti / Italian ✓\n",
      "25000 25% (0m 19s) 2.1458 Pelletier / German ✗ (French)\n",
      "30000 30% (0m 23s) 2.4436 Zamorano / Italian ✗ (Spanish)\n",
      "35000 35% (0m 27s) 1.9482 Pfeifer / German ✗ (Czech)\n",
      "40000 40% (0m 30s) 1.9404 Farrow / Scottish ✗ (English)\n",
      "45000 45% (0m 34s) 1.7602 Duncan / Irish ✗ (Scottish)\n",
      "50000 50% (0m 38s) 1.8331 Hellewege / Dutch ✗ (German)\n",
      "55000 55% (0m 42s) 0.3733 Jang / Korean ✓\n",
      "60000 60% (0m 45s) 0.0614 Zhizhilev / Russian ✓\n",
      "65000 65% (0m 49s) 0.0797 Pantelakos / Greek ✓\n",
      "70000 70% (0m 53s) 0.2085 Mcdonald / Scottish ✓\n",
      "75000 75% (0m 57s) 1.2297 Peatain / French ✗ (Irish)\n",
      "80000 80% (1m 1s) 1.1653 Schlimme / German ✓\n",
      "85000 85% (1m 5s) 1.2258 Ogura / Japanese ✓\n",
      "90000 90% (1m 9s) 0.8986 Alcheri / Italian ✓\n",
      "95000 95% (1m 12s) 0.0719 Jeon / Korean ✓\n",
      "100000 100% (1m 16s) 1.6026 Sitz / Spanish ✗ (German)\n"
     ]
    }
   ],
   "source": [
    "import time\n",
    "import math\n",
    "\n",
    "n_iters = 100000\n",
    "print_every = 5000\n",
    "plot_every = 1000\n",
    "\n",
    "# 도식화를 위한 손실 추적\n",
    "current_loss = 0\n",
    "all_losses = []\n",
    "\n",
    "def timeSince(since):\n",
    "    now = time.time()\n",
    "    s = now - since\n",
    "    m = math.floor(s / 60)\n",
    "    s -= m * 60\n",
    "    return '%dm %ds' % (m, s)\n",
    "\n",
    "start = time.time()\n",
    "\n",
    "for iter in range(1, n_iters + 1):\n",
    "    category, line, category_tensor, line_tensor = randomTrainingExample()\n",
    "    output, loss = train(category_tensor, line_tensor)\n",
    "    current_loss += loss\n",
    "\n",
    "    # ``iter`` 숫자, 손실, 이름, 추측 화면 출력\n",
    "    if iter % print_every == 0:\n",
    "        guess, guess_i = categoryFromOutput(output)\n",
    "        correct = '✓' if guess == category else '✗ (%s)' % category\n",
    "        print('%d %d%% (%s) %.4f %s / %s %s' % (iter, iter / n_iters * 100, timeSince(start), loss, line, guess, correct))\n",
    "\n",
    "    # 현재 평균 손실을 전체 손실 리스트에 추가\n",
    "    if iter % plot_every == 0:\n",
    "        all_losses.append(current_loss / plot_every)\n",
    "        current_loss = 0"
   ]
  },
  {
   "cell_type": "code",
   "execution_count": 18,
   "metadata": {
    "colab": {
     "base_uri": "https://localhost:8080/",
     "height": 448
    },
    "executionInfo": {
     "elapsed": 816,
     "status": "ok",
     "timestamp": 1717508857403,
     "user": {
      "displayName": "구숭모/소프트웨어전공/학생",
      "userId": "10928247944007895356"
     },
     "user_tz": -540
    },
    "id": "P8F0amBCVWTS",
    "outputId": "96497d0a-8ebb-465e-c8fa-eb5706b980e0"
   },
   "outputs": [
    {
     "data": {
      "text/plain": [
       "[<matplotlib.lines.Line2D at 0x218078b2710>]"
      ]
     },
     "execution_count": 18,
     "metadata": {},
     "output_type": "execute_result"
    },
    {
     "data": {
      "image/png": "[encoded data removed]",
      "text/plain": [
       "<Figure size 640x480 with 1 Axes>"
      ]
     },
     "metadata": {},
     "output_type": "display_data"
    }
   ],
   "source": [
    "import matplotlib.pyplot as plt\n",
    "import matplotlib.ticker as ticker\n",
    "\n",
    "plt.figure()\n",
    "plt.plot(all_losses)"
   ]
  },
  {
   "cell_type": "code",
   "execution_count": 19,
   "metadata": {
    "colab": {
     "base_uri": "https://localhost:8080/",
     "height": 579
    },
    "executionInfo": {
     "elapsed": 7900,
     "status": "ok",
     "timestamp": 1717508868332,
     "user": {
      "displayName": "구숭모/소프트웨어전공/학생",
      "userId": "10928247944007895356"
     },
     "user_tz": -540
    },
    "id": "R_QrCGBmVcAF",
    "outputId": "9bd933e6-aaa9-487c-9c03-f8fd2ad937b0"
   },
   "outputs": [
    {
     "name": "stderr",
     "output_type": "stream",
     "text": [
      "C:\\Users\\jewon\\AppData\\Local\\Temp\\ipykernel_332940\\2811754854.py:33: UserWarning: set_ticklabels() should only be used with a fixed number of ticks, i.e. after set_ticks() or using a FixedLocator.\n",
      "  ax.set_xticklabels([''] + all_categories, rotation=90)\n",
      "C:\\Users\\jewon\\AppData\\Local\\Temp\\ipykernel_332940\\2811754854.py:34: UserWarning: set_ticklabels() should only be used with a fixed number of ticks, i.e. after set_ticks() or using a FixedLocator.\n",
      "  ax.set_yticklabels([''] + all_categories)\n"
     ]
    },
    {
     "data": {
      "image/png": "[encoded data removed]",
      "text/plain": [
       "<Figure size 640x480 with 2 Axes>"
      ]
     },
     "metadata": {},
     "output_type": "display_data"
    }
   ],
   "source": [
    "# 혼란 행렬에서 정확한 추측을 추적\n",
    "confusion = torch.zeros(n_categories, n_categories)\n",
    "n_confusion = 10000\n",
    "\n",
    "# 주어진 라인의 출력 반환\n",
    "def evaluate(line_tensor):\n",
    "    hidden = rnn.initHidden()\n",
    "\n",
    "    for i in range(line_tensor.size()[0]):\n",
    "        output, hidden = rnn(line_tensor[i], hidden)\n",
    "\n",
    "    return output\n",
    "\n",
    "# 예시 중 어떤 것이 정확히 예측되었는지 기록\n",
    "for i in range(n_confusion):\n",
    "    category, line, category_tensor, line_tensor = randomTrainingExample()\n",
    "    output = evaluate(line_tensor)\n",
    "    guess, guess_i = categoryFromOutput(output)\n",
    "    category_i = all_categories.index(category)\n",
    "    confusion[category_i][guess_i] += 1\n",
    "\n",
    "# 모든 행을 합계로 나누어 정규화\n",
    "for i in range(n_categories):\n",
    "    confusion[i] = confusion[i] / confusion[i].sum()\n",
    "\n",
    "# 도식 설정\n",
    "fig = plt.figure()\n",
    "ax = fig.add_subplot(111)\n",
    "cax = ax.matshow(confusion.numpy())\n",
    "fig.colorbar(cax)\n",
    "\n",
    "# 축 설정\n",
    "ax.set_xticklabels([''] + all_categories, rotation=90)\n",
    "ax.set_yticklabels([''] + all_categories)\n",
    "\n",
    "# 모든 tick에서 레이블 지정\n",
    "ax.xaxis.set_major_locator(ticker.MultipleLocator(1))\n",
    "ax.yaxis.set_major_locator(ticker.MultipleLocator(1))\n",
    "\n",
    "# sphinx_gallery_thumbnail_number = 2\n",
    "plt.show()"
   ]
  },
  {
   "cell_type": "code",
   "execution_count": 20,
   "metadata": {
    "colab": {
     "base_uri": "https://localhost:8080/"
    },
    "executionInfo": {
     "elapsed": 309,
     "status": "ok",
     "timestamp": 1717508882478,
     "user": {
      "displayName": "구숭모/소프트웨어전공/학생",
      "userId": "10928247944007895356"
     },
     "user_tz": -540
    },
    "id": "MO1a6F4dVeE6",
    "outputId": "5ec72c17-15b6-4727-dac8-d510670bd497"
   },
   "outputs": [
    {
     "name": "stdout",
     "output_type": "stream",
     "text": [
      "\n",
      "> Dovesky\n",
      "(-0.17) Russian\n",
      "(-3.21) Czech\n",
      "(-3.29) English\n",
      "\n",
      "> Jackson\n",
      "(-0.09) Scottish\n",
      "(-2.71) English\n",
      "(-4.57) Russian\n",
      "\n",
      "> Satoshi\n",
      "(-1.21) Japanese\n",
      "(-1.28) Arabic\n",
      "(-1.67) Polish\n"
     ]
    }
   ],
   "source": [
    "def predict(input_line, n_predictions=3):\n",
    "    print('\\n> %s' % input_line)\n",
    "    with torch.no_grad():\n",
    "        output = evaluate(lineToTensor(input_line))\n",
    "\n",
    "        # Get top N categories\n",
    "        topv, topi = output.topk(n_predictions, 1, True)\n",
    "        predictions = []\n",
    "\n",
    "        for i in range(n_predictions):\n",
    "            value = topv[0][i].item()\n",
    "            category_index = topi[0][i].item()\n",
    "            print('(%.2f) %s' % (value, all_categories[category_index]))\n",
    "            predictions.append([value, all_categories[category_index]])\n",
    "\n",
    "predict('Dovesky')\n",
    "predict('Jackson')\n",
    "predict('Satoshi')"
   ]
  },
  {
   "cell_type": "markdown",
   "metadata": {},
   "source": [
    "# LSTM"
   ]
  },
  {
   "cell_type": "code",
   "execution_count": 21,
   "metadata": {},
   "outputs": [],
   "source": [
    "import torch.nn.functional as F\n",
    "from torch.autograd import Variable"
   ]
  },
  {
   "cell_type": "code",
   "execution_count": 22,
   "metadata": {
    "id": "VKSEiZ1vVfXH"
   },
   "outputs": [],
   "source": [
    "class LSTMCell(nn.Module) :\n",
    "  def __init__(self, input_size, hidden_size, bias=True) :\n",
    "    super(LSTMCell, self).__init__()\n",
    "    self.input_size = input_size\n",
    "    self.hidden_size = hidden_size\n",
    "    self.bias = bias\n",
    "    self.x2h = nn.Linear(input_size, 4*hidden_size, bias=bias)\n",
    "    self.h2h = nn.Linear(hidden_size, 4*hidden_size, bias=bias)\n",
    "    self.reset_parameters()\n",
    "\n",
    "  def reset_parameters(self) :\n",
    "    std = 1.0 / math.sqrt(self.hidden_size)\n",
    "    for w in self.parameters() :\n",
    "        w.data.uniform_(-std, std)\n",
    "\n",
    "  def forward(self, x, hidden) :\n",
    "    hx, cx = hidden\n",
    "    x = x.view(-1, x.size(1))\n",
    "\n",
    "    gates = self.x2h(x) + self.h2h(hx)\n",
    "    # gates = gates.squeeze()\n",
    "\n",
    "    ingate, forgetgate, cellgate, outgate = gates.chunk(4, 1)\n",
    "\n",
    "    ingate = F.sigmoid(ingate) # 입력 게이트에 시그모이드 적용\n",
    "    forgetgate = F.sigmoid(forgetgate) # 망각 게이트에 시그모이드 적용\n",
    "    cellgate = F.tanh(cellgate) # 셀 게이트에 탄젠트 적용\n",
    "    outgate = F.sigmoid(outgate) # 출력 게이트에 시그모이드 적용\n",
    "\n",
    "    cy = torch.mul(cx, forgetgate) + torch.mul(ingate, cellgate)\n",
    "    hy = torch.mul(outgate, F.tanh(cy))\n",
    "\n",
    "    return (hy, cy)"
   ]
  },
  {
   "cell_type": "code",
   "execution_count": 23,
   "metadata": {},
   "outputs": [],
   "source": [
    "class LSTMModel(nn.Module) :\n",
    "  def __init__(self, input_dim, hidden_dim, layer_dim, output_dim, bias=True) :\n",
    "    super(LSTMModel, self).__init__()\n",
    "    self.hidden_dim = hidden_dim\n",
    "\n",
    "    self.layer_dim = layer_dim\n",
    "    self.lstm = LSTMCell(input_dim, hidden_dim, layer_dim)\n",
    "    self.fc = nn.Linear(hidden_dim, output_dim)\n",
    "\n",
    "  def forward(self, x) :\n",
    "    h0 = Variable(torch.zeros(self.layer_dim, x.size(0), self.hidden_dim))\n",
    "    c0 = Variable(torch.zeros(self.layer_dim, x.size(0), self.hidden_dim))\n",
    "\n",
    "    outs = []\n",
    "    cn =  c0[0,:,:]\n",
    "    hn = h0[0,:,:]\n",
    "\n",
    "    for seq in range(x.size(1)) :\n",
    "        hn, cn = self.lstm(x, (hn, cn))\n",
    "        outs.append(hn)\n",
    "\n",
    "    out = outs[-1]#.squeeze()\n",
    "    out = self.fc(out)\n",
    "    return out"
   ]
  },
  {
   "cell_type": "code",
   "execution_count": 24,
   "metadata": {},
   "outputs": [],
   "source": [
    "lstm_input_dim=57\n",
    "lstm_hidden_dim=128\n",
    "lstm_layer_dim=1\n",
    "lstm_output_dim=18\n",
    "\n",
    "lstm_model =  LSTMModel(lstm_input_dim, lstm_hidden_dim, lstm_layer_dim, lstm_output_dim)"
   ]
  },
  {
   "cell_type": "code",
   "execution_count": 25,
   "metadata": {},
   "outputs": [],
   "source": [
    "learning_rate = 0.01\n",
    "def lstm_train(category_tensor, line_tensor):\n",
    "    lstm_model.zero_grad()\n",
    "\n",
    "    for i in range(line_tensor.size()[0]):\n",
    "        output = lstm_model(line_tensor[i])\n",
    "\n",
    "    loss = criterion(output, category_tensor)\n",
    "    loss.backward()\n",
    "\n",
    "    # 매개변수의 경사도에 학습률을 곱해서 그 매개변수의 값에 더합니다.\n",
    "    for p in lstm_model.parameters():\n",
    "        p.data.add_(p.grad.data, alpha=-learning_rate)\n",
    "\n",
    "    return output, loss.item()"
   ]
  },
  {
   "cell_type": "code",
   "execution_count": null,
   "metadata": {},
   "outputs": [
    {
     "name": "stdout",
     "output_type": "stream",
     "text": [
      "500 5% (0m 28s) -0.4649 Santos / Italian ✗ (Spanish)\n",
      "1000 10% (0m 58s) -5.5935 Hoang / German ✗ (Vietnamese)\n",
      "1500 15% (1m 27s) -37.7108 Shalhoub / Scottish ✗ (Arabic)\n",
      "2000 20% (1m 55s) -77.7049 Howell / Spanish ✗ (English)\n",
      "2500 25% (2m 22s) -103.8567 Cabral / Polish ✗ (Portuguese)\n"
     ]
    }
   ],
   "source": [
    "import time\n",
    "import math\n",
    "\n",
    "n_iters = 10000\n",
    "print_every = 500\n",
    "plot_every = 1000\n",
    "\n",
    "# 도식화를 위한 손실 추적\n",
    "lstm_current_loss = 0\n",
    "lstm_all_losses = []\n",
    "\n",
    "start = time.time()\n",
    "current_loss = 0\n",
    "\n",
    "for iter in range(1, n_iters + 1):\n",
    "    category, line, category_tensor, line_tensor = randomTrainingExample()\n",
    "    output, loss = lstm_train(category_tensor, line_tensor)\n",
    "    current_loss += loss\n",
    "\n",
    "    # ``iter`` 숫자, 손실, 이름, 추측 화면 출력\n",
    "    if iter % print_every == 0:\n",
    "        guess, guess_i = categoryFromOutput(output)\n",
    "        correct = '✓' if guess == category else '✗ (%s)' % category\n",
    "        print('%d %d%% (%s) %.4f %s / %s %s' % (iter, iter / n_iters * 100, timeSince(start), loss, line, guess, correct))\n",
    "\n",
    "    # 현재 평균 손실을 전체 손실 리스트에 추가\n",
    "    if iter % plot_every == 0:\n",
    "        lstm_all_losses.append(current_loss / plot_every)\n",
    "        current_loss = 0"
   ]
  },
  {
   "cell_type": "code",
   "execution_count": null,
   "metadata": {},
   "outputs": [],
   "source": [
    "import matplotlib.pyplot as plt\n",
    "import matplotlib.ticker as ticker\n",
    "\n",
    "plt.figure()\n",
    "plt.plot(lstm_all_losses)"
   ]
  },
  {
   "cell_type": "code",
   "execution_count": null,
   "metadata": {},
   "outputs": [],
   "source": [
    "# 혼란 행렬에서 정확한 추측을 추적\n",
    "confusion = torch.zeros(n_categories, n_categories)\n",
    "n_confusion = 1000\n",
    "\n",
    "# 주어진 라인의 출력 반환\n",
    "def evaluate(line_tensor):\n",
    "\n",
    "    for i in range(line_tensor.size()[0]):\n",
    "        output = lstm_model(line_tensor[i])\n",
    "\n",
    "    return output\n",
    "\n",
    "# 예시 중 어떤 것이 정확히 예측되었는지 기록\n",
    "for i in range(n_confusion):\n",
    "    category, line, category_tensor, line_tensor = randomTrainingExample()\n",
    "    output = evaluate(line_tensor)\n",
    "    guess, guess_i = categoryFromOutput(output)\n",
    "    category_i = all_categories.index(category)\n",
    "    confusion[category_i][guess_i] += 1\n",
    "\n",
    "# 모든 행을 합계로 나누어 정규화\n",
    "for i in range(n_categories):\n",
    "    confusion[i] = confusion[i] / confusion[i].sum()\n",
    "\n",
    "# 도식 설정\n",
    "fig = plt.figure()\n",
    "ax = fig.add_subplot(111)\n",
    "cax = ax.matshow(confusion.numpy())\n",
    "fig.colorbar(cax)\n",
    "\n",
    "# 축 설정\n",
    "ax.set_xticklabels([''] + all_categories, rotation=90)\n",
    "ax.set_yticklabels([''] + all_categories)\n",
    "\n",
    "# 모든 tick에서 레이블 지정\n",
    "ax.xaxis.set_major_locator(ticker.MultipleLocator(1))\n",
    "ax.yaxis.set_major_locator(ticker.MultipleLocator(1))\n",
    "\n",
    "# sphinx_gallery_thumbnail_number = 2\n",
    "plt.show()"
   ]
  }
 ],
 "metadata": {
  "colab": {
   "authorship_tag": "ABX9TyOiik5Emz6+5YSXY8vkR5un",
   "mount_file_id": "1ZTclfs0dPJWSeFLsqQvBncZBsLF4-DzU",
   "provenance": []
  },
  "kernelspec": {
   "display_name": "Python 3 (ipykernel)",
   "language": "python",
   "name": "python3"
  },
  "language_info": {
   "codemirror_mode": {
    "name": "ipython",
    "version": 3
   },
   "file_extension": ".py",
   "mimetype": "text/x-python",
   "name": "python",
   "nbconvert_exporter": "python",
   "pygments_lexer": "ipython3",
   "version": "3.10.13"
  }
 },
 "nbformat": 4,
 "nbformat_minor": 4
}
