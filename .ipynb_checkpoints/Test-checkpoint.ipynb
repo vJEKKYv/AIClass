{
 "cells": [
  {
   "cell_type": "code",
   "execution_count": 4,
   "id": "e120e896-315c-42c0-9e7a-965da5ff2b0c",
   "metadata": {},
   "outputs": [],
   "source": [
    "import numpy as np\n",
    "import matplotlib as plt"
   ]
  },
  {
   "cell_type": "code",
   "execution_count": 5,
   "id": "c1457b39-5bbc-4ca5-9080-34f63b16324f",
   "metadata": {},
   "outputs": [
    {
     "name": "stdout",
     "output_type": "stream",
     "text": [
      "1.26.4\n",
      "3.8.0\n"
     ]
    }
   ],
   "source": [
    "print(np.__version__)\n",
    "print(plt.__version__)"
   ]
  }
 ],
 "metadata": {
  "kernelspec": {
   "display_name": "Python 3 (ipykernel)",
   "language": "python",
   "name": "python3"
  },
  "language_info": {
   "codemirror_mode": {
    "name": "ipython",
    "version": 3
   },
   "file_extension": ".py",
   "mimetype": "text/x-python",
   "name": "python",
   "nbconvert_exporter": "python",
   "pygments_lexer": "ipython3",
   "version": "3.10.13"
  }
 },
 "nbformat": 4,
 "nbformat_minor": 5
}
