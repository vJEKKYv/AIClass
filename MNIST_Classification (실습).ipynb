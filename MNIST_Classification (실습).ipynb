{
 "cells": [
  {
   "attachments": {},
   "cell_type": "markdown",
   "metadata": {},
   "source": [
    "# MNIST Classification\n",
    "- 0 ~ 9의 숫자 데이터 셋\n",
    "- 28 * 28 픽셀의 이미지 데이터\n",
    "- 0 ~ 255의 픽셀 값\n",
    "- 60,000개의 트레이닝 데이터\n",
    "  - 55,000개의 트레이닝 데이터\n",
    "  - 5,000개의 검증 데이터\n",
    "- 10,000개의 테스트 데이터\n",
    "- 10개의 클래스 (0 ~ 9)\n",
    "- 10개의 클래스에 대한 확률값의 합은 1\n",
    "- 확률값이 가장 큰 클래스가 예측한 클래스 (argmax)\n",
    "- 10개의 클래스에 대한 확률값을 출력하는 신경망을 만들어 보자"
   ]
  },
  {
   "attachments": {},
   "cell_type": "markdown",
   "metadata": {},
   "source": [
    "### 참고 웹사이트\n",
    "\n",
    "- [MNIST 데이터셋](http://yann.lecun.com/exdb/mnist/)\n",
    "- [신경망 모델 구성하기](https://tutorials.pytorch.kr/beginner/basics/buildmodel_tutorial.html)\n",
    "- [Sequential 모델](https://www.tensorflow.org/guide/keras/overview?hl=ko)\n",
    "- [소프트맥스 회귀로 MNIST 데이터 분류하기](https://wikidocs.net/60324)"
   ]
  },
  {
   "attachments": {},
   "cell_type": "markdown",
   "metadata": {},
   "source": [
    "### 1. 데이터 준비\n",
    "- MNIST 데이터 셋을 다운로드 받아서 준비한다.\n",
    "- 데이터 셋 다운로드 방법\n",
    "  1. `keras.datasets.mnist.load_data()` 함수를 사용한다.\n",
    "  2. `torchvision.datasets.MNIST` 클래스를 사용한다.\n",
    "  3. `tensorflow.keras.datasets.mnist.load_data()` 함수를 사용한다.\n",
    "  4. `sklearn.datasets.fetch_openml()` 함수를 사용한다.\n",
    "  5. 원본을 직접 다운로드 받아서 사용한다. ([yann.lecun](http://yann.lecun.com/exdb/mnist/))\n",
    "       - 로그인 요구시 http로 접속 ([twitter](https://twitter.com/ylecun/status/1628746102827630593))\n",
    "  6. 다른 사람이 준비한 데이터 셋을 사용한다. ([openml.org](https://www.openml.org/d/554))"
   ]
  },
  {
   "attachments": {},
   "cell_type": "markdown",
   "metadata": {},
   "source": [
    "#### Shell commands to install pytorch and torchvision\n",
    "\n",
    "##### GPU version\n",
    "```shell\n",
    "conda install pytorch torchvision pytorch-cuda=11.8 matplotlib ipykernel -c pytorch -c nvidia\n",
    "```\n",
    "\n",
    "##### CPU version\n",
    "```shell\n",
    "conda install pytorch torchvision cpuonly matplotlib ipykernel -c pytorch\n",
    "```"
   ]
  },
  {
   "cell_type": "code",
   "execution_count": 1,
   "metadata": {},
   "outputs": [
    {
     "name": "stdout",
     "output_type": "stream",
     "text": [
      "PyTorch version:[2.2.2].\n",
      "torchvision version:[0.17.2].\n",
      "GPU 사용 가능 여부: False\n",
      "GPU 개수: 0\n",
      "CUDA 버전: None\n",
      "다음 기기로 학습합니다: cpu\n"
     ]
    }
   ],
   "source": [
    "import torch\n",
    "import torchvision\n",
    "import torchvision.datasets as dsets\n",
    "import torchvision.transforms as transforms\n",
    "from torch.utils.data import DataLoader\n",
    "import torch.nn as nn\n",
    "import matplotlib.pyplot as plt\n",
    "import random\n",
    "\n",
    "\n",
    "print(\"PyTorch version:[%s].\" % (torch.__version__))\n",
    "print(\"torchvision version:[%s].\" % (torchvision.__version__))\n",
    "print(\"GPU 사용 가능 여부: {}\".format(torch.cuda.is_available()))\n",
    "#print(\"GPU 이름: {}\".format(torch.cuda.get_device_name(0)))\n",
    "print(\"GPU 개수: {}\".format(torch.cuda.device_count()))\n",
    "print(\"CUDA 버전: {}\".format(torch.version.cuda))\n",
    "\n",
    "\n",
    "USE_CUDA = torch.cuda.is_available() # GPU를 사용가능하면 True, 아니라면 False를 리턴\n",
    "device = torch.device(\"cuda\" if USE_CUDA else \"cpu\") # GPU 사용 가능하면 사용하고 아니면 CPU 사용\n",
    "print(\"다음 기기로 학습합니다:\", device)"
   ]
  },
  {
   "cell_type": "code",
   "execution_count": 2,
   "metadata": {},
   "outputs": [],
   "source": [
    "# for reproducibility\n",
    "random.seed(777)\n",
    "torch.manual_seed(777)\n",
    "if device == 'cuda':\n",
    "    torch.cuda.manual_seed_all(777)"
   ]
  },
  {
   "cell_type": "code",
   "execution_count": 3,
   "metadata": {},
   "outputs": [],
   "source": [
    "# hyperparameters\n",
    "training_epochs = 10\n",
    "batch_size = 100\n",
    "\n",
    "learning_rate = 0.1\n",
    "\n",
    "input_size = 784    # 28x28 image       # 고정된 값 (이미지 크기)\n",
    "hidden_size = 100   # 임의의 값           # 임의의 값 (hidden layer의 노드 개수)\n",
    "output_size = 10    # 0~9               # 고정된 값 (분류할 클래스 개수)\n"
   ]
  },
  {
   "cell_type": "code",
   "execution_count": 4,
   "metadata": {},
   "outputs": [],
   "source": [
    "# MNIST dataset\n",
    "\n",
    "# 코드 실행 시 MNIST_data 폴더에 MNIST 데이터셋이 없다면 다운로드됨\n",
    "\n",
    "# .gz 파일은 압축된 파일 (다운로드 시 자동으로 압축 해제됨)\n",
    "# t10k-images-idx3-ubyte.gz: 0~9까지의 숫자 이미지 10,000개\n",
    "# t10k-labels-idx1-ubyte.gz: 0~9까지의 숫자 이미지에 대한 정답 레이블 10,000개\n",
    "# train-images-idx3-ubyte.gz: 0~9까지의 숫자 이미지 60,000개\n",
    "# train-labels-idx1-ubyte.gz: 0~9까지의 숫자 이미지에 대한 정답 레이블 60,000개\n",
    "\n",
    "# train=True: 학습 데이터를 리턴\n",
    "# train=False: 테스트 데이터를 리턴\n",
    "# download=True: MNIST 데이터셋이 없는 경우 인터넷에서 다운로드\n",
    "# root: MNIST 데이터가 저장될 경로\n",
    "# transform: 이미지와 레이블에 적용할 변형\n",
    "\n",
    "mnist_train = dsets.MNIST(\n",
    "    root=\"MNIST_data/\",\n",
    "    train=True,\n",
    "    transform=transforms.ToTensor(),\n",
    "    download=True,\n",
    ")\n",
    "\n",
    "mnist_test = dsets.MNIST(\n",
    "    root=\"MNIST_data/\",\n",
    "    train=False,\n",
    "    transform=transforms.ToTensor(),\n",
    "    download=True,\n",
    ")"
   ]
  },
  {
   "cell_type": "code",
   "execution_count": 5,
   "metadata": {},
   "outputs": [],
   "source": [
    "# dataset loader\n",
    "data_loader = DataLoader(\n",
    "    dataset=mnist_train,\n",
    "    batch_size=batch_size,\n",
    "    shuffle=True,\n",
    "    drop_last=True,  # 배치 크기는 100\n",
    ")"
   ]
  },
  {
   "cell_type": "code",
   "execution_count": 6,
   "metadata": {},
   "outputs": [
    {
     "name": "stdout",
     "output_type": "stream",
     "text": [
      "X: torch.Size([100, 1, 28, 28]) type: torch.FloatTensor\n",
      "Y: torch.Size([100]) type: torch.LongTensor\n"
     ]
    },
    {
     "data": {
      "image/png": "[encoded data removed]",
      "text/plain": [
       "<Figure size 640x480 with 1 Axes>"
      ]
     },
     "metadata": {},
     "output_type": "display_data"
    }
   ],
   "source": [
    "# Print sample data\n",
    "# 첫번째 미니배치의 첫번째 이미지 데이터를 불러옴\n",
    "# shape: [배치크기, 채널, 높이, 너비]\n",
    "# 채널: 1은 흑백, 3은 RGB\n",
    "for X, Y in data_loader:\n",
    "    print('X:', X.size(), 'type:', X.type())\n",
    "    print('Y:', Y.size(), 'type:', Y.type())\n",
    "\n",
    "    plt.imshow(X[0, 0, :, :].numpy(), cmap='gray')\n",
    "    plt.title('Class: ' + str(Y[0].item()))\n",
    "    plt.show()\n",
    "\n",
    "    break\n"
   ]
  },
  {
   "cell_type": "code",
   "execution_count": 19,
   "metadata": {},
   "outputs": [],
   "source": [
    "# MNIST data image of shape 28 * 28 = 784\n",
    "# linear = nn.Linear(input_size, output_size, bias=True).to(device)\n",
    "sigmoid = nn.Sigmoid()\n",
    "relu = nn.ReLU()\n",
    "tanh = nn.Tanh()\n",
    "leaky = nn.LeakyReLU()\n",
    "elu = nn.ELU()\n",
    "selu = nn.SELU()\n",
    "swish = nn.SiLU()\n",
    "class MLP(nn.Module):\n",
    "    \"\"\"\n",
    "    Model : 3-layered Neural Network (Multi-layer Perceptron)\n",
    "\n",
    "    Linear -> Sigmoid -> Linear -> Sigmoid -> Linear -> Softmax\n",
    "\n",
    "    ** 참고: pytorch에서는 softmax를 loss function에서 포함하고 있음 (따로 정의하지 않아도 됨)\n",
    "    \"\"\"\n",
    "    \n",
    "    def __init__(self):\n",
    "        super(MLP, self).__init__()\n",
    "\n",
    "        # 여기에 MLP 모델을 정의해주세요\n",
    "        self.sequential = nn.Sequential(\n",
    "\n",
    "            nn.Flatten(),   # 28x28 image를 784x1 vector로 변환\n",
    "            \n",
    "            # 1st layer\n",
    "            nn.Linear(784,100),\n",
    "            #sigmoid,\n",
    "            #relu,\n",
    "            tanh,\n",
    "            #leaky,\n",
    "            #elu,\n",
    "            #selu,\n",
    "            #swish,\n",
    "            \n",
    "            # 2nd layer\n",
    "            nn.Linear(100,100),\n",
    "            #sigmoid,\n",
    "            #relu,\n",
    "            tanh,\n",
    "            #leaky,\n",
    "            #elu,\n",
    "            #selu,\n",
    "            #swish,\n",
    "            # 3rd layer\n",
    "            nn.Linear(100,10),\n",
    "            #nn.Softmax()\n",
    "        )\n",
    "\n",
    "    def forward(self, x):\n",
    "        x = self.sequential(x)\n",
    "\n",
    "        return x  # 마지막 layer의 output을 리턴"
   ]
  },
  {
   "cell_type": "code",
   "execution_count": 20,
   "metadata": {},
   "outputs": [
    {
     "name": "stdout",
     "output_type": "stream",
     "text": [
      "MLP(\n",
      "  (sequential): Sequential(\n",
      "    (0): Flatten(start_dim=1, end_dim=-1)\n",
      "    (1): Linear(in_features=784, out_features=100, bias=True)\n",
      "    (2): Tanh()\n",
      "    (3): Linear(in_features=100, out_features=100, bias=True)\n",
      "    (4): Tanh()\n",
      "    (5): Linear(in_features=100, out_features=10, bias=True)\n",
      "  )\n",
      ")\n"
     ]
    }
   ],
   "source": [
    "# 작성한 모델 정의\n",
    "model = MLP().to(device)\n",
    "print(model)"
   ]
  },
  {
   "cell_type": "code",
   "execution_count": 21,
   "metadata": {},
   "outputs": [],
   "source": [
    "# 비용 함수와 옵티마이저 정의\n",
    "criterion = nn.CrossEntropyLoss().to(device) # 내부적으로 소프트맥스 함수를 포함하고 있음.\n",
    "optimizer = torch.optim.SGD(model.parameters(), lr=learning_rate)"
   ]
  },
  {
   "cell_type": "code",
   "execution_count": 22,
   "metadata": {},
   "outputs": [
    {
     "name": "stdout",
     "output_type": "stream",
     "text": [
      "Epoch: 0001 cost = 0.536394000\n",
      "Epoch: 0002 cost = 0.260699809\n",
      "Epoch: 0003 cost = 0.204029799\n",
      "Epoch: 0004 cost = 0.165554598\n",
      "Epoch: 0005 cost = 0.138056755\n",
      "Epoch: 0006 cost = 0.118204676\n",
      "Epoch: 0007 cost = 0.103416398\n",
      "Epoch: 0008 cost = 0.091083072\n",
      "Epoch: 0009 cost = 0.081025429\n",
      "Epoch: 0010 cost = 0.073093779\n",
      "Learning finished\n"
     ]
    }
   ],
   "source": [
    "for epoch in range(training_epochs):  # 앞서 training_epochs의 값은 15로 지정함.\n",
    "    avg_cost = 0\n",
    "    total_batch = len(data_loader)\n",
    "\n",
    "    for X, Y in data_loader:\n",
    "\n",
    "        # 배치 크기가 100이므로 아래의 연산에서 X는 (100, 784)의 텐서가 된다.\n",
    "        # X = X.view(-1, 28 * 28).to(device)    # model.forward()에서 nn.Flatten()을 사용하므로 필요 없음.\n",
    "        X = X.to(device)\n",
    "\n",
    "        # 레이블은 원-핫 인코딩이 된 상태가 아니라 0 ~ 9의 정수.\n",
    "        Y = Y.to(device)    # 원-핫 인코딩을 하지 않아도 nn.CrossEntropyLoss()를 사용할 수 있음. (torch에서 자동으로 해줌.)\n",
    "\n",
    "        optimizer.zero_grad()\n",
    "\n",
    "        hypothesis = model(X)            # hypothesis : y_hat (예측값)\n",
    "\n",
    "        cost = criterion(hypothesis, Y)\n",
    "        cost.backward()\n",
    "        optimizer.step()\n",
    "\n",
    "        avg_cost += cost / total_batch\n",
    "\n",
    "    print(\"Epoch:\", \"%04d\" % (epoch + 1), \"cost =\", \"{:.9f}\".format(avg_cost))\n",
    "\n",
    "print(\"Learning finished\")"
   ]
  },
  {
   "cell_type": "code",
   "execution_count": 18,
   "metadata": {
    "scrolled": true
   },
   "outputs": [
    {
     "name": "stdout",
     "output_type": "stream",
     "text": [
      "Accuracy: 0.9106000065803528\n",
      "Label:  9\n",
      "Prediction:  9\n"
     ]
    },
    {
     "name": "stderr",
     "output_type": "stream",
     "text": [
      "C:\\Users\\jewon\\anaconda3\\envs\\AIClass\\lib\\site-packages\\torchvision\\datasets\\mnist.py:80: UserWarning: test_data has been renamed data\n",
      "  warnings.warn(\"test_data has been renamed data\")\n",
      "C:\\Users\\jewon\\anaconda3\\envs\\AIClass\\lib\\site-packages\\torchvision\\datasets\\mnist.py:70: UserWarning: test_labels has been renamed targets\n",
      "  warnings.warn(\"test_labels has been renamed targets\")\n"
     ]
    },
    {
     "data": {
      "image/png": "[encoded data removed]",
      "text/plain": [
       "<Figure size 640x480 with 1 Axes>"
      ]
     },
     "metadata": {},
     "output_type": "display_data"
    }
   ],
   "source": [
    "# 테스트 데이터를 사용하여 모델을 테스트한다.\n",
    "with torch.no_grad():  # torch.no_grad()를 하면 gradient 계산을 수행하지 않는다.\n",
    "    # X_test = mnist_test.test_data.view(-1, 28 * 28).float().to(device)\n",
    "    X_test = mnist_test.test_data.float().to(device)\n",
    "    Y_test = mnist_test.test_labels.to(device)\n",
    "    #torch.utils.data.random_split\n",
    "    prediction = model(X_test)\n",
    "    correct_prediction = torch.argmax(prediction, 1) == Y_test\n",
    "    accuracy = correct_prediction.float().mean()\n",
    "    print(\"Accuracy:\", accuracy.item())\n",
    "\n",
    "    # MNIST 테스트 데이터에서 무작위로 하나를 뽑아서 예측을 해본다\n",
    "    r = random.randint(0, len(mnist_test) - 1)\n",
    "    # X_single_data = mnist_test.test_data[r : r + 1].view(-1, 28 * 28).float().to(device)\n",
    "    X_single_data = mnist_test.test_data[r : r + 1].float().to(device)\n",
    "    Y_single_data = mnist_test.test_labels[r : r + 1].to(device)\n",
    "\n",
    "    print(\"Label: \", Y_single_data.item())\n",
    "    single_prediction = model(X_single_data)\n",
    "    print(\"Prediction: \", torch.argmax(single_prediction, 1).item())\n",
    "\n",
    "    plt.imshow(mnist_test.test_data[r : r + 1].view(28, 28), cmap=\"Greys\", interpolation=\"nearest\")\n",
    "    plt.show()"
   ]
  },
  {
   "attachments": {},
   "cell_type": "markdown",
   "metadata": {},
   "source": [
    "# 개선사항\n",
    "\n",
    "1. 입력 데이터 X의 데이터를 0 ~ 1 사이의 값으로 정규화(normalize)한다. (X / 255) # 여기선 정규화가 되어있는 상태로 데이터가 들어왔다. \n",
    "2. Validation 데이터 셋을 분리하고 검증과정을 추가한다.\n",
    "3. 정확도(Accuracy)와 손실함수(Loss)를 플로팅한다.\n",
    "4. 학습률과 배치 사이즈, 에포크를 변경해 본다.\n",
    "\n",
    "# 추가 고려사항\n",
    "1. 다른 activation 함수를 사용해 본다. (sigmoid(0.9106), tanh, relu(0.9736), leaky relu, elu, selu, swish)\n",
    "2. 가중치 초기화 방법을 변경해 본다. (uniform, normal, xavier, he)\n",
    "3. 다른 optimizer를 사용해 본다. (SGD, RMSprop, Adagrad, Adadelta, Adam, Adamax, Nadam, AMSGrad)\n",
    "4. Dropout, Batch Normalization 등을 사용해 본다."
   ]
  }
 ],
 "metadata": {
  "kernelspec": {
   "display_name": "Python 3 (ipykernel)",
   "language": "python",
   "name": "python3"
  },
  "language_info": {
   "codemirror_mode": {
    "name": "ipython",
    "version": 3
   },
   "file_extension": ".py",
   "mimetype": "text/x-python",
   "name": "python",
   "nbconvert_exporter": "python",
   "pygments_lexer": "ipython3",
   "version": "3.10.13"
  }
 },
 "nbformat": 4,
 "nbformat_minor": 4
}
