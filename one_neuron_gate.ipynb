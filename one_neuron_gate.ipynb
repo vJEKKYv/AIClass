{
 "cells": [
  {
   "cell_type": "code",
   "execution_count": 1,
   "id": "3ae98c49-5ccb-4c49-b76f-dccbebd90590",
   "metadata": {},
   "outputs": [
    {
     "data": {
      "image/png": "[encoded data removed]",
      "text/plain": [
       "<Figure size 640x480 with 1 Axes>"
      ]
     },
     "metadata": {},
     "output_type": "display_data"
    }
   ],
   "source": [
    "import numpy as np\n",
    "import matplotlib.pyplot as plt\n",
    "\n",
    "x = np.array([[0, 0],\n",
    "              [0, 1],\n",
    "              [1, 0],\n",
    "              [1, 1]])\n",
    "\n",
    "y = np.array([0, 0, 0, 1])\n",
    "\n",
    "weights = np.array([0.5, 0.5])\n",
    "bias = -0.6\n",
    "\n",
    "x1_values = np.linspace(0, 1, 2)\n",
    "# 수업시간 보여준 식 그대로 적용\n",
    "x2_values = -(weights[0] * x1_values + bias) / weights[1]\n",
    "\n",
    "plt.scatter(x[:,0], x[:,1], c=y)\n",
    "plt.plot(x1_values, x2_values, 'r')\n",
    "\n",
    "plt.show()"
   ]
  },
  {
   "cell_type": "code",
   "execution_count": 2,
   "id": "511e8b1a-5597-4f9c-a472-f1211247052c",
   "metadata": {},
   "outputs": [
    {
     "name": "stdout",
     "output_type": "stream",
     "text": [
      "XOR 결과: [0 1 1 0]\n"
     ]
    }
   ],
   "source": [
    "import numpy as np\n",
    "\n",
    "# 입력값\n",
    "x = np.array([[0, 0],\n",
    "              [0, 1],\n",
    "              [1, 0],\n",
    "              [1, 1]])\n",
    "\n",
    "# AND 게이트\n",
    "def AND(x):\n",
    "    weights = np.array([0.5, 0.5])\n",
    "    bias = -0.7\n",
    "    # 아래의 코드의 경우 순전파의 과정 중 Summation 과정에 해당\n",
    "    result = weights.T @ x + bias\n",
    "    # 아래의 코드는 Summation된 값에 활성화 함수 적용하는 과정에 해당\n",
    "    # np.where의 경우 2차원 배열을 처리하기 위해 사용하였으며 \n",
    "    # x1, x2와 같이 스칼라 값들이 각각 들어오는 경우 조건문을 사용가능(아래 예시)\n",
    "    # return 1 if result > 0 else 0\n",
    "    return np.where(result > 0, 1, 0)\n",
    "\n",
    "# OR 게이트\n",
    "# bias가 달라지며 결정경계 변경\n",
    "# AND 게이트와 큰 차이 없음\n",
    "def OR(x):\n",
    "    weights = np.array([0.5, 0.5])\n",
    "    bias = -0.2\n",
    "    result = weights.T @ x + bias\n",
    "    return np.where(result > 0, 1, 0)\n",
    "\n",
    "# NOT 게이트\n",
    "# 필수적으로 원뉴런으로 만들 필요 x\n",
    "def NOT(x):\n",
    "    weights = -1\n",
    "    bias = 0.5\n",
    "    result = weights * x + bias\n",
    "    return np.where(result > 0, 1, 0)\n",
    "\n",
    "# XOR 게이트\n",
    "# eclass의 사진과 동일하게 구성\n",
    "def XOR(x):\n",
    "    s1 = AND(np.array([NOT(x[:,0]), x[:,1]]))\n",
    "    s2 = AND(np.array([x[:,0], NOT(x[:,1])]))\n",
    "    return OR(np.array([s1, s2]))\n",
    "\n",
    "print(\"XOR 결과:\", XOR(x))"
   ]
  },
  {
   "cell_type": "code",
   "execution_count": null,
   "id": "f23bcd8d",
   "metadata": {},
   "outputs": [],
   "source": []
  }
 ],
 "metadata": {
  "kernelspec": {
   "display_name": "Python 3 (ipykernel)",
   "language": "python",
   "name": "python3"
  },
  "language_info": {
   "codemirror_mode": {
    "name": "ipython",
    "version": 3
   },
   "file_extension": ".py",
   "mimetype": "text/x-python",
   "name": "python",
   "nbconvert_exporter": "python",
   "pygments_lexer": "ipython3",
   "version": "3.10.13"
  }
 },
 "nbformat": 4,
 "nbformat_minor": 5
}
