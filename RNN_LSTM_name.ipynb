{
 "cells": [
  {
   "cell_type": "code",
   "execution_count": 1,
   "metadata": {
    "executionInfo": {
     "elapsed": 7063,
     "status": "ok",
     "timestamp": 1717562364381,
     "user": {
      "displayName": "구숭모/소프트웨어전공/학생",
      "userId": "10928247944007895356"
     },
     "user_tz": -540
    },
    "id": "8vqjGy2a2XfX"
   },
   "outputs": [],
   "source": [
    "from __future__ import unicode_literals, print_function, division\n",
    "from io import open\n",
    "import glob\n",
    "import os\n",
    "import torch.nn.functional as F\n",
    "from torch.autograd import Variable\n",
    "import unicodedata\n",
    "import string"
   ]
  },
  {
   "cell_type": "code",
   "execution_count": 2,
   "metadata": {
    "colab": {
     "base_uri": "https://localhost:8080/"
    },
    "executionInfo": {
     "elapsed": 452,
     "status": "ok",
     "timestamp": 1717562364832,
     "user": {
      "displayName": "구숭모/소프트웨어전공/학생",
      "userId": "10928247944007895356"
     },
     "user_tz": -540
    },
    "id": "INPrKLP8wROJ",
    "outputId": "3853a014-f59e-4c9f-9708-7aadf2c323ff"
   },
   "outputs": [
    {
     "name": "stdout",
     "output_type": "stream",
     "text": [
      "['C:\\\\Users\\\\jewon\\\\AIClass\\\\names\\\\Arabic.txt', 'C:\\\\Users\\\\jewon\\\\AIClass\\\\names\\\\Chinese.txt', 'C:\\\\Users\\\\jewon\\\\AIClass\\\\names\\\\Czech.txt', 'C:\\\\Users\\\\jewon\\\\AIClass\\\\names\\\\Dutch.txt', 'C:\\\\Users\\\\jewon\\\\AIClass\\\\names\\\\English.txt', 'C:\\\\Users\\\\jewon\\\\AIClass\\\\names\\\\French.txt', 'C:\\\\Users\\\\jewon\\\\AIClass\\\\names\\\\German.txt', 'C:\\\\Users\\\\jewon\\\\AIClass\\\\names\\\\Greek.txt', 'C:\\\\Users\\\\jewon\\\\AIClass\\\\names\\\\Irish.txt', 'C:\\\\Users\\\\jewon\\\\AIClass\\\\names\\\\Italian.txt', 'C:\\\\Users\\\\jewon\\\\AIClass\\\\names\\\\Japanese.txt', 'C:\\\\Users\\\\jewon\\\\AIClass\\\\names\\\\Korean.txt', 'C:\\\\Users\\\\jewon\\\\AIClass\\\\names\\\\Polish.txt', 'C:\\\\Users\\\\jewon\\\\AIClass\\\\names\\\\Portuguese.txt', 'C:\\\\Users\\\\jewon\\\\AIClass\\\\names\\\\Russian.txt', 'C:\\\\Users\\\\jewon\\\\AIClass\\\\names\\\\Scottish.txt', 'C:\\\\Users\\\\jewon\\\\AIClass\\\\names\\\\Spanish.txt', 'C:\\\\Users\\\\jewon\\\\AIClass\\\\names\\\\Vietnamese.txt']\n",
      "Slusarski\n"
     ]
    }
   ],
   "source": [
    "# 받은 데이터 파일의 디렉도리 주소로 주기\n",
    "path = r\"C:\\Users\\jewon\\AIClass\\names\"\n",
    "def findFiles(path): return glob.glob(path)\n",
    "print(findFiles(path+'/*.txt'))\n",
    "\n",
    "all_letters = string.ascii_letters + \" .,;'\"\n",
    "n_letters = len(all_letters)\n",
    "\n",
    "# 유니코드 문자열을 ASCII로 변환, https://stackoverflow.com/a/518232/2809427\n",
    "def unicodeToAscii(s):\n",
    "    return ''.join(\n",
    "        c for c in unicodedata.normalize('NFD', s)\n",
    "        if unicodedata.category(c) != 'Mn'\n",
    "        and c in all_letters\n",
    "    )\n",
    "\n",
    "print(unicodeToAscii('Ślusàrski'))"
   ]
  },
  {
   "cell_type": "code",
   "execution_count": 3,
   "metadata": {
    "colab": {
     "base_uri": "https://localhost:8080/"
    },
    "executionInfo": {
     "elapsed": 5512,
     "status": "ok",
     "timestamp": 1717562421951,
     "user": {
      "displayName": "구숭모/소프트웨어전공/학생",
      "userId": "10928247944007895356"
     },
     "user_tz": -540
    },
    "id": "DlB3mbq0WLJV",
    "outputId": "a88fba29-94e1-4c9f-e678-ae3b41ef0967"
   },
   "outputs": [
    {
     "name": "stdout",
     "output_type": "stream",
     "text": [
      "18\n"
     ]
    }
   ],
   "source": [
    "# 각 언어의 이름 목록인 category_lines 사전 생성\n",
    "category_lines = {}\n",
    "all_categories = []\n",
    "\n",
    "# 파일을 읽고 줄 단위로 분리\n",
    "def readLines(filename):\n",
    "    lines = open(filename, encoding='utf-8').read().strip().split('\\n')\n",
    "    return [unicodeToAscii(line) for line in lines]\n",
    "\n",
    "for filename in findFiles(path+'/*.txt'):\n",
    "    category = os.path.splitext(os.path.basename(filename))[0] # 나라별 이름이 들어간다\n",
    "    all_categories.append(category)\n",
    "    lines = readLines(filename)\n",
    "    category_lines[category] = lines # {나라:[이름 배열]}\n",
    "\n",
    "n_categories = len(all_categories) # 나라 종류\n",
    "print(n_categories)"
   ]
  },
  {
   "cell_type": "code",
   "execution_count": 4,
   "metadata": {
    "colab": {
     "base_uri": "https://localhost:8080/"
    },
    "executionInfo": {
     "elapsed": 309,
     "status": "ok",
     "timestamp": 1717562423315,
     "user": {
      "displayName": "구숭모/소프트웨어전공/학생",
      "userId": "10928247944007895356"
     },
     "user_tz": -540
    },
    "id": "Z8uldOZdyYX5",
    "outputId": "4d3290d5-9c1f-4485-d580-f9fdc4e5ccab"
   },
   "outputs": [
    {
     "name": "stdout",
     "output_type": "stream",
     "text": [
      "['Abandonato', 'Abatangelo', 'Abatantuono', 'Abate', 'Abategiovanni']\n"
     ]
    }
   ],
   "source": [
    "print(category_lines['Italian'][:5]) # 이탈리아 이름 예시"
   ]
  },
  {
   "cell_type": "code",
   "execution_count": 5,
   "metadata": {
    "executionInfo": {
     "elapsed": 1,
     "status": "ok",
     "timestamp": 1717562424307,
     "user": {
      "displayName": "구숭모/소프트웨어전공/학생",
      "userId": "10928247944007895356"
     },
     "user_tz": -540
    },
    "id": "ttPvGOClyzls"
   },
   "outputs": [],
   "source": [
    "import torch\n",
    "\n",
    "# all_letters 로 문자의 주소 찾기, 예시 \"a\" = 0\n",
    "def letterToIndex(letter):\n",
    "    return all_letters.find(letter)\n",
    "\n",
    "# 검증을 위해서 한 개의 문자를 <1 x n_letters> Tensor로 변환\n",
    "def letterToTensor(letter):\n",
    "    tensor = torch.zeros(1, n_letters)\n",
    "    tensor[0][letterToIndex(letter)] = 1\n",
    "    return tensor\n",
    "\n",
    "# 한 줄(이름)을  <line_length x 1 x n_letters>,\n",
    "# 또는 One-Hot 문자 벡터의 Array로 변경\n",
    "def lineToTensor(line):\n",
    "    tensor = torch.zeros(len(line), 1, n_letters)\n",
    "    for li, letter in enumerate(line):\n",
    "        tensor[li][0][letterToIndex(letter)] = 1\n",
    "    return tensor"
   ]
  },
  {
   "cell_type": "code",
   "execution_count": 6,
   "metadata": {
    "colab": {
     "base_uri": "https://localhost:8080/"
    },
    "executionInfo": {
     "elapsed": 2,
     "status": "ok",
     "timestamp": 1717562426142,
     "user": {
      "displayName": "구숭모/소프트웨어전공/학생",
      "userId": "10928247944007895356"
     },
     "user_tz": -540
    },
    "id": "I5RuZpmxXe-c",
    "outputId": "51360e79-44d7-4e48-ad85-2400aebafb53"
   },
   "outputs": [
    {
     "name": "stdout",
     "output_type": "stream",
     "text": [
      "0\n",
      "56\n"
     ]
    }
   ],
   "source": [
    "print(letterToIndex('a')) # 모든 알파벳과 .,;' 합친 순서 리턴\n",
    "print(letterToIndex('\\'')) # a는 0부터 '는56 까지"
   ]
  },
  {
   "cell_type": "code",
   "execution_count": 7,
   "metadata": {
    "colab": {
     "base_uri": "https://localhost:8080/"
    },
    "executionInfo": {
     "elapsed": 1,
     "status": "ok",
     "timestamp": 1717562427383,
     "user": {
      "displayName": "구숭모/소프트웨어전공/학생",
      "userId": "10928247944007895356"
     },
     "user_tz": -540
    },
    "id": "oikc5UjyXdqY",
    "outputId": "6b0f18c3-d849-4bf4-c414-d5d3a62feeb2"
   },
   "outputs": [
    {
     "name": "stdout",
     "output_type": "stream",
     "text": [
      "tensor([[0., 0., 0., 0., 0., 0., 0., 0., 0., 0., 0., 0., 0., 0., 0., 0., 0., 0.,\n",
      "         0., 0., 0., 0., 0., 0., 0., 0., 0., 0., 0., 0., 0., 0., 0., 0., 0., 1.,\n",
      "         0., 0., 0., 0., 0., 0., 0., 0., 0., 0., 0., 0., 0., 0., 0., 0., 0., 0.,\n",
      "         0., 0., 0.]])\n",
      "torch.Size([5, 1, 57])\n"
     ]
    }
   ],
   "source": [
    "print(letterToTensor('J')) # 인덱스를 텐서로 변환\n",
    "print(lineToTensor('Jones').size()) # 각 문자를 one-hot encoding한 문자열 길이의 텐서로 만든다"
   ]
  },
  {
   "cell_type": "code",
   "execution_count": 8,
   "metadata": {
    "executionInfo": {
     "elapsed": 1,
     "status": "ok",
     "timestamp": 1717562428984,
     "user": {
      "displayName": "구숭모/소프트웨어전공/학생",
      "userId": "10928247944007895356"
     },
     "user_tz": -540
    },
    "id": "ASgD-qaFzBxN"
   },
   "outputs": [],
   "source": [
    "import torch.nn as nn\n",
    "\n",
    "class RNN(nn.Module):\n",
    "    def __init__(self, input_size, hidden_size, output_size):\n",
    "        super(RNN, self).__init__()\n",
    "\n",
    "        self.hidden_size = hidden_size\n",
    "\n",
    "        self.i2h = nn.Linear(input_size + hidden_size, hidden_size)\n",
    "        self.i2o = nn.Linear(input_size + hidden_size, output_size)\n",
    "        self.softmax = nn.LogSoftmax(dim=1)\n",
    "\n",
    "    def forward(self, input, hidden):\n",
    "        combined = torch.cat((input, hidden), 1) # 입력과 히든 레이어 결과를 concat한다\n",
    "        hidden = self.i2h(combined) # hidden 레이어\n",
    "        output = self.i2o(combined) # output 레이어\n",
    "        output = self.softmax(output) # 클래스별 분류를 위한 activation function\n",
    "        return output, hidden # 결과와 hidden layer 값 반환\n",
    "\n",
    "    def initHidden(self):\n",
    "        return torch.zeros(1, self.hidden_size)\n",
    "\n",
    "n_hidden = 128 # 히든 레이터의 feature 크기를 128로 지정\n",
    "rnn = RNN(n_letters, n_hidden, n_categories) # 글자 개수, 히든 레이어 크기, 나라 개수"
   ]
  },
  {
   "cell_type": "code",
   "execution_count": 9,
   "metadata": {
    "executionInfo": {
     "elapsed": 295,
     "status": "ok",
     "timestamp": 1717562431370,
     "user": {
      "displayName": "구숭모/소프트웨어전공/학생",
      "userId": "10928247944007895356"
     },
     "user_tz": -540
    },
    "id": "rhelkyvn0LEz"
   },
   "outputs": [],
   "source": [
    "input = letterToTensor('A')\n",
    "hidden = torch.zeros(1, n_hidden)\n",
    "output, next_hidden = rnn(input, hidden)"
   ]
  },
  {
   "cell_type": "code",
   "execution_count": 10,
   "metadata": {
    "colab": {
     "base_uri": "https://localhost:8080/"
    },
    "executionInfo": {
     "elapsed": 1,
     "status": "ok",
     "timestamp": 1717562432417,
     "user": {
      "displayName": "구숭모/소프트웨어전공/학생",
      "userId": "10928247944007895356"
     },
     "user_tz": -540
    },
    "id": "84oNvMcbZYyH",
    "outputId": "42bef82b-05e0-46dd-b5c5-4f8c40d0946d"
   },
   "outputs": [
    {
     "name": "stdout",
     "output_type": "stream",
     "text": [
      "torch.Size([1, 57])\n",
      "torch.Size([1, 18]) torch.Size([1, 128])\n"
     ]
    }
   ],
   "source": [
    "print(input.size()) # a의 벡터화 된\n",
    "print(output.size(), next_hidden.size()) # 반환된 output과 hidden vector의 크기"
   ]
  },
  {
   "cell_type": "code",
   "execution_count": 11,
   "metadata": {
    "colab": {
     "base_uri": "https://localhost:8080/"
    },
    "executionInfo": {
     "elapsed": 1,
     "status": "ok",
     "timestamp": 1717562435471,
     "user": {
      "displayName": "구숭모/소프트웨어전공/학생",
      "userId": "10928247944007895356"
     },
     "user_tz": -540
    },
    "id": "1vd7lIl20mdZ",
    "outputId": "4bfaf29a-411e-434e-9943-a9cb86038c11"
   },
   "outputs": [
    {
     "name": "stdout",
     "output_type": "stream",
     "text": [
      "('French', 5)\n"
     ]
    }
   ],
   "source": [
    "def categoryFromOutput(output):\n",
    "    top_n, top_i = output.topk(1)  # 텐서의 가장 큰 값 및 주소\n",
    "    category_i = top_i[0].item()   # 텐서에서 정수 값으로 변경, top_i는 [[17]] 형태\n",
    "    return all_categories[category_i], category_i # 클래스와 해당하는 나라 return\n",
    "\n",
    "print(categoryFromOutput(output))"
   ]
  },
  {
   "cell_type": "code",
   "execution_count": 12,
   "metadata": {
    "colab": {
     "base_uri": "https://localhost:8080/"
    },
    "executionInfo": {
     "elapsed": 307,
     "status": "ok",
     "timestamp": 1717562437687,
     "user": {
      "displayName": "구숭모/소프트웨어전공/학생",
      "userId": "10928247944007895356"
     },
     "user_tz": -540
    },
    "id": "W_Yuhjzi06zO",
    "outputId": "fe683598-2f2f-43d2-c570-9034abc90a24"
   },
   "outputs": [
    {
     "name": "stdout",
     "output_type": "stream",
     "text": [
      "category = Greek / line = Strilakos\n",
      "category = Vietnamese / line = Giang\n",
      "category = Scottish / line = Milne\n",
      "category = Russian / line = Isayan\n",
      "category = Irish / line = Donndubhan\n",
      "category = Czech / line = Cernohous\n",
      "category = Scottish / line = Muir\n",
      "category = German / line = Spannagel\n",
      "category = Irish / line = Aonghus\n",
      "category = Spanish / line = Escamilla\n"
     ]
    }
   ],
   "source": [
    "import random\n",
    "\n",
    "def randomChoice(l):\n",
    "    return l[random.randint(0, len(l) - 1)]\n",
    "\n",
    "# 랜덤으로 선택된 국가와 라인(이름), 국가 인덱스, 라인 텐서 반환\n",
    "def randomTrainingExample():\n",
    "    category = randomChoice(all_categories) # 랜덤 국가\n",
    "    line = randomChoice(category_lines[category]) # 랜덤 이름\n",
    "    category_tensor = torch.tensor([all_categories.index(category)], dtype=torch.long)\n",
    "    line_tensor = lineToTensor(line)\n",
    "    return category, line, category_tensor, line_tensor\n",
    "\n",
    "for i in range(10):\n",
    "    category, line, category_tensor, line_tensor = randomTrainingExample()\n",
    "    print('category =', category, '/ line =', line)"
   ]
  },
  {
   "cell_type": "markdown",
   "metadata": {
    "id": "JyLyAlxhVPyq"
   },
   "source": [
    "## 네트워크 학습"
   ]
  },
  {
   "cell_type": "markdown",
   "metadata": {
    "id": "XdpJPGgLbIN1"
   },
   "source": [
    "## Negative Log-likelihood Loss\n",
    "$ NLLLoss = -∑^{n}_{1}{y_{i}\\log{\\hat{y}_i}} $  \n",
    "즉 CE Loss와 수식은 동일"
   ]
  },
  {
   "cell_type": "code",
   "execution_count": 13,
   "metadata": {
    "executionInfo": {
     "elapsed": 306,
     "status": "ok",
     "timestamp": 1717562441315,
     "user": {
      "displayName": "구숭모/소프트웨어전공/학생",
      "userId": "10928247944007895356"
     },
     "user_tz": -540
    },
    "id": "UPKOIqSOVOWV"
   },
   "outputs": [],
   "source": [
    "'''\n",
    "pytorch에서 CELoss와 차이는 softmax이다\n",
    "CELoss는 실제 값을 바로 받지만 NLLLoss는 확률값을 입력으로 받는다.\n",
    "즉, CELoss는 모델안에 마지막 활성화 함수가 Softmax가 아니어야 하지만\n",
    "    NLLLoss를 사용하기 위해서는 모델의 마지막에 Softmax가 필요하다.\n",
    "'''\n",
    "criterion = nn.NLLLoss()"
   ]
  },
  {
   "cell_type": "code",
   "execution_count": 14,
   "metadata": {
    "executionInfo": {
     "elapsed": 1,
     "status": "ok",
     "timestamp": 1717562441951,
     "user": {
      "displayName": "구숭모/소프트웨어전공/학생",
      "userId": "10928247944007895356"
     },
     "user_tz": -540
    },
    "id": "tCP4dVEeVTO3"
   },
   "outputs": [],
   "source": [
    "learning_rate = 0.005  # 학습률을 너무 높게 설정하면 발산할 수 있고, 너무 낮으면 학습이 되지 않을 수 있습니다.\n",
    "\n",
    "def train(category_tensor, line_tensor):\n",
    "    hidden = rnn.initHidden()\n",
    "\n",
    "    rnn.zero_grad()\n",
    "\n",
    "    for i in range(line_tensor.size()[0]):\n",
    "        output, hidden = rnn(line_tensor[i], hidden)\n",
    "    loss = criterion(output, category_tensor)\n",
    "    loss.backward()\n",
    "\n",
    "    # 매개변수의 경사도에 학습률을 곱해서 그 매개변수의 값에 더합니다.\n",
    "    for p in rnn.parameters():\n",
    "        p.data.add_(p.grad.data, alpha=-learning_rate)\n",
    "\n",
    "    return output, loss.item()"
   ]
  },
  {
   "cell_type": "code",
   "execution_count": 15,
   "metadata": {
    "colab": {
     "base_uri": "https://localhost:8080/"
    },
    "executionInfo": {
     "elapsed": 134105,
     "status": "ok",
     "timestamp": 1717562577581,
     "user": {
      "displayName": "구숭모/소프트웨어전공/학생",
      "userId": "10928247944007895356"
     },
     "user_tz": -540
    },
    "id": "rkYDWWVWVTi_",
    "outputId": "074d07c9-cbdc-4a4f-8c51-22838f2d9c90"
   },
   "outputs": [
    {
     "name": "stdout",
     "output_type": "stream",
     "text": [
      "5000 5% (0m 3s) 2.4761 Piontek / Polish ✓\n",
      "10000 10% (0m 7s) 1.2273 Hang / Chinese ✓\n",
      "15000 15% (0m 11s) 1.5709 Nanni / Italian ✓\n",
      "20000 20% (0m 14s) 4.0440 Nave / Vietnamese ✗ (Italian)\n",
      "25000 25% (0m 18s) 1.4228 Krusen / Dutch ✓\n",
      "30000 30% (0m 21s) 2.2906 Kim / Korean ✗ (Vietnamese)\n",
      "35000 35% (0m 25s) 1.4624 Labelle / Italian ✗ (French)\n",
      "40000 40% (0m 28s) 1.9726 Rojo / Italian ✗ (Spanish)\n",
      "45000 45% (0m 32s) 1.0269 Yeo / Chinese ✗ (Korean)\n",
      "50000 50% (0m 35s) 0.0067 Georgeakopoulos / Greek ✓\n",
      "55000 55% (0m 39s) 0.1534 Thai / Vietnamese ✓\n",
      "60000 60% (0m 43s) 0.6257 O'Bree / Irish ✓\n",
      "65000 65% (0m 46s) 0.2416 Rademakers / Dutch ✓\n",
      "70000 70% (0m 50s) 1.1824 Crespo / Spanish ✗ (Portuguese)\n",
      "75000 75% (0m 53s) 0.7387 Beaulieu / French ✓\n",
      "80000 80% (0m 57s) 0.0712 Georgeakopoulos / Greek ✓\n",
      "85000 85% (1m 0s) 1.0904 Hellewege / German ✓\n",
      "90000 90% (1m 4s) 1.9865 Haanrath / German ✗ (Dutch)\n",
      "95000 95% (1m 7s) 0.1519 Qian / Chinese ✓\n",
      "100000 100% (1m 11s) 1.3617 Rocha / Czech ✗ (Portuguese)\n"
     ]
    }
   ],
   "source": [
    "import time\n",
    "import math\n",
    "\n",
    "n_iters = 100000\n",
    "print_every = 5000\n",
    "plot_every = 1000\n",
    "\n",
    "# 도식화를 위한 손실 추적\n",
    "current_loss = 0\n",
    "all_losses = []\n",
    "\n",
    "def timeSince(since):\n",
    "    now = time.time()\n",
    "    s = now - since\n",
    "    m = math.floor(s / 60)\n",
    "    s -= m * 60\n",
    "    return '%dm %ds' % (m, s)\n",
    "\n",
    "start = time.time()\n",
    "\n",
    "for iter in range(1, n_iters + 1):\n",
    "    category, line, category_tensor, line_tensor = randomTrainingExample()\n",
    "    output, loss = train(category_tensor, line_tensor)\n",
    "    current_loss += loss\n",
    "\n",
    "    # ``iter`` 숫자, 손실, 이름, 추측 화면 출력\n",
    "    if iter % print_every == 0:\n",
    "        guess, guess_i = categoryFromOutput(output)\n",
    "        correct = '✓' if guess == category else '✗ (%s)' % category\n",
    "        print('%d %d%% (%s) %.4f %s / %s %s' % (iter, iter / n_iters * 100, timeSince(start), loss, line, guess, correct))\n",
    "\n",
    "    # 현재 평균 손실을 전체 손실 리스트에 추가\n",
    "    if iter % plot_every == 0:\n",
    "        all_losses.append(current_loss / plot_every)\n",
    "        current_loss = 0\n"
   ]
  },
  {
   "cell_type": "code",
   "execution_count": 16,
   "metadata": {
    "colab": {
     "base_uri": "https://localhost:8080/",
     "height": 448
    },
    "executionInfo": {
     "elapsed": 562,
     "status": "ok",
     "timestamp": 1717562578133,
     "user": {
      "displayName": "구숭모/소프트웨어전공/학생",
      "userId": "10928247944007895356"
     },
     "user_tz": -540
    },
    "id": "P8F0amBCVWTS",
    "outputId": "a628a806-e5c1-4811-e138-d81b806c592c"
   },
   "outputs": [
    {
     "data": {
      "text/plain": [
       "[<matplotlib.lines.Line2D at 0x151aa07ad10>]"
      ]
     },
     "execution_count": 16,
     "metadata": {},
     "output_type": "execute_result"
    },
    {
     "data": {
      "image/png": "[encoded data removed]",
      "text/plain": [
       "<Figure size 640x480 with 1 Axes>"
      ]
     },
     "metadata": {},
     "output_type": "display_data"
    }
   ],
   "source": [
    "import matplotlib.pyplot as plt\n",
    "import matplotlib.ticker as ticker\n",
    "\n",
    "plt.figure()\n",
    "plt.plot(all_losses)"
   ]
  },
  {
   "cell_type": "code",
   "execution_count": 17,
   "metadata": {
    "colab": {
     "base_uri": "https://localhost:8080/",
     "height": 579
    },
    "executionInfo": {
     "elapsed": 12546,
     "status": "ok",
     "timestamp": 1717562602118,
     "user": {
      "displayName": "구숭모/소프트웨어전공/학생",
      "userId": "10928247944007895356"
     },
     "user_tz": -540
    },
    "id": "R_QrCGBmVcAF",
    "outputId": "917ecc73-9c8c-4895-9248-88f08b882744"
   },
   "outputs": [
    {
     "name": "stderr",
     "output_type": "stream",
     "text": [
      "C:\\Users\\jewon\\AppData\\Local\\Temp\\ipykernel_7960\\2811754854.py:33: UserWarning: set_ticklabels() should only be used with a fixed number of ticks, i.e. after set_ticks() or using a FixedLocator.\n",
      "  ax.set_xticklabels([''] + all_categories, rotation=90)\n",
      "C:\\Users\\jewon\\AppData\\Local\\Temp\\ipykernel_7960\\2811754854.py:34: UserWarning: set_ticklabels() should only be used with a fixed number of ticks, i.e. after set_ticks() or using a FixedLocator.\n",
      "  ax.set_yticklabels([''] + all_categories)\n"
     ]
    },
    {
     "data": {
      "image/png": "[encoded data removed]",
      "text/plain": [
       "<Figure size 640x480 with 2 Axes>"
      ]
     },
     "metadata": {},
     "output_type": "display_data"
    }
   ],
   "source": [
    "# 혼란 행렬에서 정확한 추측을 추적\n",
    "confusion = torch.zeros(n_categories, n_categories)\n",
    "n_confusion = 10000\n",
    "\n",
    "# 주어진 라인의 출력 반환\n",
    "def evaluate(line_tensor):\n",
    "    hidden = rnn.initHidden()\n",
    "\n",
    "    for i in range(line_tensor.size()[0]):\n",
    "        output, hidden = rnn(line_tensor[i], hidden)\n",
    "\n",
    "    return output\n",
    "\n",
    "# 예시 중 어떤 것이 정확히 예측되었는지 기록\n",
    "for i in range(n_confusion):\n",
    "    category, line, category_tensor, line_tensor = randomTrainingExample()\n",
    "    output = evaluate(line_tensor)\n",
    "    guess, guess_i = categoryFromOutput(output)\n",
    "    category_i = all_categories.index(category)\n",
    "    confusion[category_i][guess_i] += 1\n",
    "\n",
    "# 모든 행을 합계로 나누어 정규화\n",
    "for i in range(n_categories):\n",
    "    confusion[i] = confusion[i] / confusion[i].sum()\n",
    "\n",
    "# 도식 설정\n",
    "fig = plt.figure()\n",
    "ax = fig.add_subplot(111)\n",
    "cax = ax.matshow(confusion.numpy())\n",
    "fig.colorbar(cax)\n",
    "\n",
    "# 축 설정\n",
    "ax.set_xticklabels([''] + all_categories, rotation=90)\n",
    "ax.set_yticklabels([''] + all_categories)\n",
    "\n",
    "# 모든 tick에서 레이블 지정\n",
    "ax.xaxis.set_major_locator(ticker.MultipleLocator(1))\n",
    "ax.yaxis.set_major_locator(ticker.MultipleLocator(1))\n",
    "\n",
    "# sphinx_gallery_thumbnail_number = 2\n",
    "plt.show()"
   ]
  },
  {
   "cell_type": "code",
   "execution_count": 26,
   "metadata": {
    "colab": {
     "base_uri": "https://localhost:8080/"
    },
    "executionInfo": {
     "elapsed": 377,
     "status": "ok",
     "timestamp": 1717562602493,
     "user": {
      "displayName": "구숭모/소프트웨어전공/학생",
      "userId": "10928247944007895356"
     },
     "user_tz": -540
    },
    "id": "MO1a6F4dVeE6",
    "outputId": "98dadb94-44bd-43d4-f9f8-4ee37ba9f0fe"
   },
   "outputs": [
    {
     "name": "stdout",
     "output_type": "stream",
     "text": [
      "\n",
      "> Dovesky\n",
      "(-0.69) Russian\n",
      "(-0.89) Czech\n",
      "(-2.89) Polish\n",
      "\n",
      "> Jackson\n",
      "(-0.94) English\n",
      "(-1.03) Scottish\n",
      "(-1.86) Russian\n",
      "\n",
      "> Satoshi\n",
      "(-1.38) Italian\n",
      "(-1.45) Arabic\n",
      "(-1.47) Japanese\n",
      "\n",
      "> kyeongmin\n",
      "(-0.11) Russian\n",
      "(-3.61) English\n",
      "(-3.68) Dutch\n"
     ]
    }
   ],
   "source": [
    "def predict(input_line, n_predictions=3):\n",
    "    print('\\n> %s' % input_line)\n",
    "    with torch.no_grad():\n",
    "        output = evaluate(lineToTensor(input_line))\n",
    "\n",
    "        # Get top N categories\n",
    "        topv, topi = output.topk(n_predictions, 1, True)\n",
    "        predictions = []\n",
    "\n",
    "        for i in range(n_predictions):\n",
    "            value = topv[0][i].item()\n",
    "            category_index = topi[0][i].item()\n",
    "            print('(%.2f) %s' % (value, all_categories[category_index]))\n",
    "            predictions.append([value, all_categories[category_index]])\n",
    "\n",
    "predict('Dovesky')\n",
    "predict('Jackson')\n",
    "predict('Satoshi')"
   ]
  },
  {
   "cell_type": "markdown",
   "metadata": {
    "id": "IAYdXA29m9BY"
   },
   "source": [
    "---"
   ]
  },
  {
   "cell_type": "code",
   "execution_count": 19,
   "metadata": {
    "executionInfo": {
     "elapsed": 281,
     "status": "ok",
     "timestamp": 1717562607194,
     "user": {
      "displayName": "구숭모/소프트웨어전공/학생",
      "userId": "10928247944007895356"
     },
     "user_tz": -540
    },
    "id": "VKSEiZ1vVfXH"
   },
   "outputs": [],
   "source": [
    "class LSTMCell(nn.Module) :\n",
    "  def __init__(self, input_size, hidden_size, bias=True) :\n",
    "    super(LSTMCell, self).__init__()\n",
    "    self.input_size = input_size\n",
    "    self.hidden_size = hidden_size\n",
    "    self.bias = bias\n",
    "    self.x2h = nn.Linear(input_size, 4*hidden_size, bias=bias)\n",
    "    self.h2h = nn.Linear(hidden_size, 4*hidden_size, bias=bias)\n",
    "    self.reset_parameters()\n",
    "\n",
    "  def reset_parameters(self) :\n",
    "    std = 1.0 / math.sqrt(self.hidden_size)\n",
    "    for w in self.parameters() :\n",
    "        w.data.uniform_(-std, std)\n",
    "\n",
    "  def forward(self, x, hidden) :\n",
    "    hx, cx = hidden\n",
    "    x = x.view(-1, x.size(1))\n",
    "\n",
    "    gates = self.x2h(x) + self.h2h(hx)\n",
    "    # gates = gates.squeeze()\n",
    "\n",
    "    ingate, forgetgate, cellgate, outgate = gates.chunk(4, 1)\n",
    "\n",
    "    ingate = F.sigmoid(ingate) # 입력 게이트에 시그모이드 적용\n",
    "    forgetgate = F.sigmoid(forgetgate) # 망각 게이트에 시그모이드 적용\n",
    "    cellgate = F.tanh(cellgate) # 셀 게이트에 탄젠트 적용\n",
    "    outgate = F.sigmoid(outgate) # 출력 게이트에 시그모이드 적용\n",
    "\n",
    "    cy = torch.mul(cx, forgetgate) + torch.mul(ingate, cellgate)\n",
    "    hy = torch.mul(outgate, F.tanh(cy))\n",
    "\n",
    "    return (hy, cy)"
   ]
  },
  {
   "cell_type": "code",
   "execution_count": 20,
   "metadata": {
    "executionInfo": {
     "elapsed": 1,
     "status": "ok",
     "timestamp": 1717562998312,
     "user": {
      "displayName": "구숭모/소프트웨어전공/학생",
      "userId": "10928247944007895356"
     },
     "user_tz": -540
    },
    "id": "Q8eK9nUEnu4r"
   },
   "outputs": [],
   "source": [
    "class LSTMModel(nn.Module) :\n",
    "  def __init__(self, input_dim, hidden_dim, layer_dim, output_dim, bias=True) :\n",
    "    super(LSTMModel, self).__init__()\n",
    "    self.hidden_dim = hidden_dim\n",
    "\n",
    "    self.layer_dim = layer_dim\n",
    "    self.lstm = LSTMCell(input_dim, hidden_dim, layer_dim)\n",
    "    self.fc = nn.Linear(hidden_dim, output_dim)\n",
    "\n",
    "  def forward(self, x) :\n",
    "    h0 = Variable(torch.zeros(self.layer_dim, x.size(0), self.hidden_dim))\n",
    "    c0 = Variable(torch.zeros(self.layer_dim, x.size(0), self.hidden_dim))\n",
    "\n",
    "    outs = []\n",
    "    cn =  c0[0,:,:]\n",
    "    hn = h0[0,:,:]\n",
    "\n",
    "    for seq in range(x.size(1)) :\n",
    "        hn, cn = self.lstm(x, (hn, cn))\n",
    "        outs.append(hn)\n",
    "\n",
    "    out = outs[-1]#.squeeze()\n",
    "    out = self.fc(out)\n",
    "    return out"
   ]
  },
  {
   "cell_type": "code",
   "execution_count": 21,
   "metadata": {
    "executionInfo": {
     "elapsed": 2,
     "status": "ok",
     "timestamp": 1717562998599,
     "user": {
      "displayName": "구숭모/소프트웨어전공/학생",
      "userId": "10928247944007895356"
     },
     "user_tz": -540
    },
    "id": "b0HzDYaFnHfZ"
   },
   "outputs": [],
   "source": [
    "lstm_input_dim=57\n",
    "lstm_hidden_dim=128\n",
    "lstm_layer_dim=1\n",
    "lstm_output_dim=18\n",
    "\n",
    "lstm_model =  LSTMModel(lstm_input_dim, lstm_hidden_dim, lstm_layer_dim, lstm_output_dim)"
   ]
  },
  {
   "cell_type": "code",
   "execution_count": 22,
   "metadata": {
    "executionInfo": {
     "elapsed": 288,
     "status": "ok",
     "timestamp": 1717563022526,
     "user": {
      "displayName": "구숭모/소프트웨어전공/학생",
      "userId": "10928247944007895356"
     },
     "user_tz": -540
    },
    "id": "3DyQiYx4o4pS"
   },
   "outputs": [],
   "source": [
    "learning_rate = 0.005\n",
    "criterion = nn.CrossEntropyLoss()\n",
    "def lstm_train(category_tensor, line_tensor):\n",
    "    lstm_model.zero_grad()\n",
    "\n",
    "    for i in range(line_tensor.size()[0]):\n",
    "        output = lstm_model(line_tensor[i])\n",
    "\n",
    "    loss = criterion(output, category_tensor)\n",
    "    loss.backward()\n",
    "\n",
    "    # 매개변수의 경사도에 학습률을 곱해서 그 매개변수의 값에 더합니다.\n",
    "    for p in lstm_model.parameters():\n",
    "        p.data.add_(p.grad.data, alpha=-learning_rate)\n",
    "\n",
    "    return output, loss.item()"
   ]
  },
  {
   "cell_type": "code",
   "execution_count": 23,
   "metadata": {
    "colab": {
     "base_uri": "https://localhost:8080/"
    },
    "executionInfo": {
     "elapsed": 889760,
     "status": "ok",
     "timestamp": 1717563912617,
     "user": {
      "displayName": "구숭모/소프트웨어전공/학생",
      "userId": "10928247944007895356"
     },
     "user_tz": -540
    },
    "id": "VI2QDc9Wm-Rr",
    "outputId": "5c4818f3-a3e1-4572-b699-412c69e05ce5"
   },
   "outputs": [
    {
     "ename": "KeyboardInterrupt",
     "evalue": "",
     "output_type": "error",
     "traceback": [
      "\u001b[1;31m---------------------------------------------------------------------------\u001b[0m",
      "\u001b[1;31mKeyboardInterrupt\u001b[0m                         Traceback (most recent call last)",
      "Cell \u001b[1;32mIn[23], line 14\u001b[0m\n\u001b[0;32m     12\u001b[0m \u001b[38;5;28;01mfor\u001b[39;00m \u001b[38;5;28miter\u001b[39m \u001b[38;5;129;01min\u001b[39;00m \u001b[38;5;28mrange\u001b[39m(\u001b[38;5;241m1\u001b[39m, n_iters \u001b[38;5;241m+\u001b[39m \u001b[38;5;241m1\u001b[39m):\n\u001b[0;32m     13\u001b[0m     category, line, category_tensor, line_tensor \u001b[38;5;241m=\u001b[39m randomTrainingExample()\n\u001b[1;32m---> 14\u001b[0m     output, loss \u001b[38;5;241m=\u001b[39m \u001b[43mlstm_train\u001b[49m\u001b[43m(\u001b[49m\u001b[43mcategory_tensor\u001b[49m\u001b[43m,\u001b[49m\u001b[43m \u001b[49m\u001b[43mline_tensor\u001b[49m\u001b[43m)\u001b[49m\n\u001b[0;32m     15\u001b[0m     current_loss \u001b[38;5;241m+\u001b[39m\u001b[38;5;241m=\u001b[39m loss\n\u001b[0;32m     17\u001b[0m     \u001b[38;5;66;03m# ``iter`` 숫자, 손실, 이름, 추측 화면 출력\u001b[39;00m\n",
      "Cell \u001b[1;32mIn[22], line 7\u001b[0m, in \u001b[0;36mlstm_train\u001b[1;34m(category_tensor, line_tensor)\u001b[0m\n\u001b[0;32m      4\u001b[0m lstm_model\u001b[38;5;241m.\u001b[39mzero_grad()\n\u001b[0;32m      6\u001b[0m \u001b[38;5;28;01mfor\u001b[39;00m i \u001b[38;5;129;01min\u001b[39;00m \u001b[38;5;28mrange\u001b[39m(line_tensor\u001b[38;5;241m.\u001b[39msize()[\u001b[38;5;241m0\u001b[39m]):\n\u001b[1;32m----> 7\u001b[0m     output \u001b[38;5;241m=\u001b[39m \u001b[43mlstm_model\u001b[49m\u001b[43m(\u001b[49m\u001b[43mline_tensor\u001b[49m\u001b[43m[\u001b[49m\u001b[43mi\u001b[49m\u001b[43m]\u001b[49m\u001b[43m)\u001b[49m\n\u001b[0;32m      9\u001b[0m loss \u001b[38;5;241m=\u001b[39m criterion(output, category_tensor)\n\u001b[0;32m     10\u001b[0m loss\u001b[38;5;241m.\u001b[39mbackward()\n",
      "File \u001b[1;32m~\\anaconda3\\envs\\AIClass\\lib\\site-packages\\torch\\nn\\modules\\module.py:1511\u001b[0m, in \u001b[0;36mModule._wrapped_call_impl\u001b[1;34m(self, *args, **kwargs)\u001b[0m\n\u001b[0;32m   1509\u001b[0m     \u001b[38;5;28;01mreturn\u001b[39;00m \u001b[38;5;28mself\u001b[39m\u001b[38;5;241m.\u001b[39m_compiled_call_impl(\u001b[38;5;241m*\u001b[39margs, \u001b[38;5;241m*\u001b[39m\u001b[38;5;241m*\u001b[39mkwargs)  \u001b[38;5;66;03m# type: ignore[misc]\u001b[39;00m\n\u001b[0;32m   1510\u001b[0m \u001b[38;5;28;01melse\u001b[39;00m:\n\u001b[1;32m-> 1511\u001b[0m     \u001b[38;5;28;01mreturn\u001b[39;00m \u001b[38;5;28mself\u001b[39m\u001b[38;5;241m.\u001b[39m_call_impl(\u001b[38;5;241m*\u001b[39margs, \u001b[38;5;241m*\u001b[39m\u001b[38;5;241m*\u001b[39mkwargs)\n",
      "File \u001b[1;32m~\\anaconda3\\envs\\AIClass\\lib\\site-packages\\torch\\nn\\modules\\module.py:1520\u001b[0m, in \u001b[0;36mModule._call_impl\u001b[1;34m(self, *args, **kwargs)\u001b[0m\n\u001b[0;32m   1515\u001b[0m \u001b[38;5;66;03m# If we don't have any hooks, we want to skip the rest of the logic in\u001b[39;00m\n\u001b[0;32m   1516\u001b[0m \u001b[38;5;66;03m# this function, and just call forward.\u001b[39;00m\n\u001b[0;32m   1517\u001b[0m \u001b[38;5;28;01mif\u001b[39;00m \u001b[38;5;129;01mnot\u001b[39;00m (\u001b[38;5;28mself\u001b[39m\u001b[38;5;241m.\u001b[39m_backward_hooks \u001b[38;5;129;01mor\u001b[39;00m \u001b[38;5;28mself\u001b[39m\u001b[38;5;241m.\u001b[39m_backward_pre_hooks \u001b[38;5;129;01mor\u001b[39;00m \u001b[38;5;28mself\u001b[39m\u001b[38;5;241m.\u001b[39m_forward_hooks \u001b[38;5;129;01mor\u001b[39;00m \u001b[38;5;28mself\u001b[39m\u001b[38;5;241m.\u001b[39m_forward_pre_hooks\n\u001b[0;32m   1518\u001b[0m         \u001b[38;5;129;01mor\u001b[39;00m _global_backward_pre_hooks \u001b[38;5;129;01mor\u001b[39;00m _global_backward_hooks\n\u001b[0;32m   1519\u001b[0m         \u001b[38;5;129;01mor\u001b[39;00m _global_forward_hooks \u001b[38;5;129;01mor\u001b[39;00m _global_forward_pre_hooks):\n\u001b[1;32m-> 1520\u001b[0m     \u001b[38;5;28;01mreturn\u001b[39;00m forward_call(\u001b[38;5;241m*\u001b[39margs, \u001b[38;5;241m*\u001b[39m\u001b[38;5;241m*\u001b[39mkwargs)\n\u001b[0;32m   1522\u001b[0m \u001b[38;5;28;01mtry\u001b[39;00m:\n\u001b[0;32m   1523\u001b[0m     result \u001b[38;5;241m=\u001b[39m \u001b[38;5;28;01mNone\u001b[39;00m\n",
      "Cell \u001b[1;32mIn[20], line 19\u001b[0m, in \u001b[0;36mLSTMModel.forward\u001b[1;34m(self, x)\u001b[0m\n\u001b[0;32m     16\u001b[0m hn \u001b[38;5;241m=\u001b[39m h0[\u001b[38;5;241m0\u001b[39m,:,:]\n\u001b[0;32m     18\u001b[0m \u001b[38;5;28;01mfor\u001b[39;00m seq \u001b[38;5;129;01min\u001b[39;00m \u001b[38;5;28mrange\u001b[39m(x\u001b[38;5;241m.\u001b[39msize(\u001b[38;5;241m1\u001b[39m)) :\n\u001b[1;32m---> 19\u001b[0m     hn, cn \u001b[38;5;241m=\u001b[39m \u001b[38;5;28;43mself\u001b[39;49m\u001b[38;5;241;43m.\u001b[39;49m\u001b[43mlstm\u001b[49m\u001b[43m(\u001b[49m\u001b[43mx\u001b[49m\u001b[43m,\u001b[49m\u001b[43m \u001b[49m\u001b[43m(\u001b[49m\u001b[43mhn\u001b[49m\u001b[43m,\u001b[49m\u001b[43m \u001b[49m\u001b[43mcn\u001b[49m\u001b[43m)\u001b[49m\u001b[43m)\u001b[49m\n\u001b[0;32m     20\u001b[0m     outs\u001b[38;5;241m.\u001b[39mappend(hn)\n\u001b[0;32m     22\u001b[0m out \u001b[38;5;241m=\u001b[39m outs[\u001b[38;5;241m-\u001b[39m\u001b[38;5;241m1\u001b[39m]\u001b[38;5;66;03m#.squeeze()\u001b[39;00m\n",
      "File \u001b[1;32m~\\anaconda3\\envs\\AIClass\\lib\\site-packages\\torch\\nn\\modules\\module.py:1511\u001b[0m, in \u001b[0;36mModule._wrapped_call_impl\u001b[1;34m(self, *args, **kwargs)\u001b[0m\n\u001b[0;32m   1509\u001b[0m     \u001b[38;5;28;01mreturn\u001b[39;00m \u001b[38;5;28mself\u001b[39m\u001b[38;5;241m.\u001b[39m_compiled_call_impl(\u001b[38;5;241m*\u001b[39margs, \u001b[38;5;241m*\u001b[39m\u001b[38;5;241m*\u001b[39mkwargs)  \u001b[38;5;66;03m# type: ignore[misc]\u001b[39;00m\n\u001b[0;32m   1510\u001b[0m \u001b[38;5;28;01melse\u001b[39;00m:\n\u001b[1;32m-> 1511\u001b[0m     \u001b[38;5;28;01mreturn\u001b[39;00m \u001b[38;5;28mself\u001b[39m\u001b[38;5;241m.\u001b[39m_call_impl(\u001b[38;5;241m*\u001b[39margs, \u001b[38;5;241m*\u001b[39m\u001b[38;5;241m*\u001b[39mkwargs)\n",
      "File \u001b[1;32m~\\anaconda3\\envs\\AIClass\\lib\\site-packages\\torch\\nn\\modules\\module.py:1520\u001b[0m, in \u001b[0;36mModule._call_impl\u001b[1;34m(self, *args, **kwargs)\u001b[0m\n\u001b[0;32m   1515\u001b[0m \u001b[38;5;66;03m# If we don't have any hooks, we want to skip the rest of the logic in\u001b[39;00m\n\u001b[0;32m   1516\u001b[0m \u001b[38;5;66;03m# this function, and just call forward.\u001b[39;00m\n\u001b[0;32m   1517\u001b[0m \u001b[38;5;28;01mif\u001b[39;00m \u001b[38;5;129;01mnot\u001b[39;00m (\u001b[38;5;28mself\u001b[39m\u001b[38;5;241m.\u001b[39m_backward_hooks \u001b[38;5;129;01mor\u001b[39;00m \u001b[38;5;28mself\u001b[39m\u001b[38;5;241m.\u001b[39m_backward_pre_hooks \u001b[38;5;129;01mor\u001b[39;00m \u001b[38;5;28mself\u001b[39m\u001b[38;5;241m.\u001b[39m_forward_hooks \u001b[38;5;129;01mor\u001b[39;00m \u001b[38;5;28mself\u001b[39m\u001b[38;5;241m.\u001b[39m_forward_pre_hooks\n\u001b[0;32m   1518\u001b[0m         \u001b[38;5;129;01mor\u001b[39;00m _global_backward_pre_hooks \u001b[38;5;129;01mor\u001b[39;00m _global_backward_hooks\n\u001b[0;32m   1519\u001b[0m         \u001b[38;5;129;01mor\u001b[39;00m _global_forward_hooks \u001b[38;5;129;01mor\u001b[39;00m _global_forward_pre_hooks):\n\u001b[1;32m-> 1520\u001b[0m     \u001b[38;5;28;01mreturn\u001b[39;00m forward_call(\u001b[38;5;241m*\u001b[39margs, \u001b[38;5;241m*\u001b[39m\u001b[38;5;241m*\u001b[39mkwargs)\n\u001b[0;32m   1522\u001b[0m \u001b[38;5;28;01mtry\u001b[39;00m:\n\u001b[0;32m   1523\u001b[0m     result \u001b[38;5;241m=\u001b[39m \u001b[38;5;28;01mNone\u001b[39;00m\n",
      "Cell \u001b[1;32mIn[19], line 26\u001b[0m, in \u001b[0;36mLSTMCell.forward\u001b[1;34m(self, x, hidden)\u001b[0m\n\u001b[0;32m     23\u001b[0m ingate, forgetgate, cellgate, outgate \u001b[38;5;241m=\u001b[39m gates\u001b[38;5;241m.\u001b[39mchunk(\u001b[38;5;241m4\u001b[39m, \u001b[38;5;241m1\u001b[39m)\n\u001b[0;32m     25\u001b[0m ingate \u001b[38;5;241m=\u001b[39m F\u001b[38;5;241m.\u001b[39msigmoid(ingate) \u001b[38;5;66;03m# 입력 게이트에 시그모이드 적용\u001b[39;00m\n\u001b[1;32m---> 26\u001b[0m forgetgate \u001b[38;5;241m=\u001b[39m \u001b[43mF\u001b[49m\u001b[38;5;241;43m.\u001b[39;49m\u001b[43msigmoid\u001b[49m\u001b[43m(\u001b[49m\u001b[43mforgetgate\u001b[49m\u001b[43m)\u001b[49m \u001b[38;5;66;03m# 망각 게이트에 시그모이드 적용\u001b[39;00m\n\u001b[0;32m     27\u001b[0m cellgate \u001b[38;5;241m=\u001b[39m F\u001b[38;5;241m.\u001b[39mtanh(cellgate) \u001b[38;5;66;03m# 셀 게이트에 탄젠트 적용\u001b[39;00m\n\u001b[0;32m     28\u001b[0m outgate \u001b[38;5;241m=\u001b[39m F\u001b[38;5;241m.\u001b[39msigmoid(outgate) \u001b[38;5;66;03m# 출력 게이트에 시그모이드 적용\u001b[39;00m\n",
      "File \u001b[1;32m~\\anaconda3\\envs\\AIClass\\lib\\site-packages\\torch\\nn\\functional.py:1983\u001b[0m, in \u001b[0;36msigmoid\u001b[1;34m(input)\u001b[0m\n\u001b[0;32m   1976\u001b[0m \u001b[38;5;28;01mdef\u001b[39;00m \u001b[38;5;21msigmoid\u001b[39m(\u001b[38;5;28minput\u001b[39m):  \u001b[38;5;66;03m# noqa: D400,D402\u001b[39;00m\n\u001b[0;32m   1977\u001b[0m \u001b[38;5;250m    \u001b[39m\u001b[38;5;124mr\u001b[39m\u001b[38;5;124;03m\"\"\"sigmoid(input) -> Tensor\u001b[39;00m\n\u001b[0;32m   1978\u001b[0m \n\u001b[0;32m   1979\u001b[0m \u001b[38;5;124;03m    Applies the element-wise function :math:`\\text{Sigmoid}(x) = \\frac{1}{1 + \\exp(-x)}`\u001b[39;00m\n\u001b[0;32m   1980\u001b[0m \n\u001b[0;32m   1981\u001b[0m \u001b[38;5;124;03m    See :class:`~torch.nn.Sigmoid` for more details.\u001b[39;00m\n\u001b[0;32m   1982\u001b[0m \u001b[38;5;124;03m    \"\"\"\u001b[39;00m\n\u001b[1;32m-> 1983\u001b[0m     \u001b[38;5;28;01mreturn\u001b[39;00m \u001b[38;5;28;43minput\u001b[39;49m\u001b[38;5;241;43m.\u001b[39;49m\u001b[43msigmoid\u001b[49m\u001b[43m(\u001b[49m\u001b[43m)\u001b[49m\n",
      "\u001b[1;31mKeyboardInterrupt\u001b[0m: "
     ]
    }
   ],
   "source": [
    "n_iters = 100000\n",
    "print_every = 5000\n",
    "plot_every = 5000\n",
    "\n",
    "# 도식화를 위한 손실 추적\n",
    "lstm_current_loss = 0\n",
    "lstm_all_losses = []\n",
    "\n",
    "start = time.time()\n",
    "\n",
    "current_loss = 0\n",
    "for iter in range(1, n_iters + 1):\n",
    "    category, line, category_tensor, line_tensor = randomTrainingExample()\n",
    "    output, loss = lstm_train(category_tensor, line_tensor)\n",
    "    current_loss += loss\n",
    "\n",
    "    # ``iter`` 숫자, 손실, 이름, 추측 화면 출력\n",
    "    if iter % print_every == 0:\n",
    "        guess, guess_i = categoryFromOutput(output)\n",
    "        correct = '✓' if guess == category else '✗ (%s)' % category\n",
    "        print('%d %d%% (%s) %.4f %s / %s %s' % (iter, iter / n_iters * 100, timeSince(start), loss, line, guess, correct))\n",
    "\n",
    "    # 현재 평균 손실을 전체 손실 리스트에 추가\n",
    "    if iter % plot_every == 0:\n",
    "        lstm_all_losses.append(current_loss / plot_every)\n",
    "        current_loss = 0"
   ]
  },
  {
   "cell_type": "code",
   "execution_count": null,
   "metadata": {
    "colab": {
     "base_uri": "https://localhost:8080/",
     "height": 448
    },
    "executionInfo": {
     "elapsed": 557,
     "status": "ok",
     "timestamp": 1717563913163,
     "user": {
      "displayName": "구숭모/소프트웨어전공/학생",
      "userId": "10928247944007895356"
     },
     "user_tz": -540
    },
    "id": "lh221aiPpaNr",
    "outputId": "9a9787fb-d1a9-47dc-d4ca-d64488383002"
   },
   "outputs": [],
   "source": [
    "import matplotlib.pyplot as plt\n",
    "import matplotlib.ticker as ticker\n",
    "\n",
    "plt.figure()\n",
    "plt.plot(lstm_all_losses)"
   ]
  },
  {
   "cell_type": "code",
   "execution_count": null,
   "metadata": {
    "colab": {
     "base_uri": "https://localhost:8080/",
     "height": 579
    },
    "executionInfo": {
     "elapsed": 72360,
     "status": "ok",
     "timestamp": 1717563985521,
     "user": {
      "displayName": "구숭모/소프트웨어전공/학생",
      "userId": "10928247944007895356"
     },
     "user_tz": -540
    },
    "id": "gax83c5a6eo5",
    "outputId": "0f719c87-0e60-476a-de64-aaf4e5db2668"
   },
   "outputs": [],
   "source": [
    "# 혼란 행렬에서 정확한 추측을 추적\n",
    "confusion = torch.zeros(n_categories, n_categories)\n",
    "n_confusion = 10000\n",
    "\n",
    "# 주어진 라인의 출력 반환\n",
    "def evaluate_lstm(line_tensor):\n",
    "\n",
    "    for i in range(line_tensor.size()[0]):\n",
    "        output = lstm_model(line_tensor[i])\n",
    "\n",
    "    return output\n",
    "\n",
    "# 예시 중 어떤 것이 정확히 예측되었는지 기록\n",
    "for i in range(n_confusion):\n",
    "    category, line, category_tensor, line_tensor = randomTrainingExample()\n",
    "    output = evaluate(line_tensor)\n",
    "    guess, guess_i = categoryFromOutput(output)\n",
    "    category_i = all_categories.index(category)\n",
    "    confusion[category_i][guess_i] += 1\n",
    "\n",
    "# 모든 행을 합계로 나누어 정규화\n",
    "for i in range(n_categories):\n",
    "    confusion[i] = confusion[i] / confusion[i].sum()\n",
    "\n",
    "# 도식 설정\n",
    "fig = plt.figure()\n",
    "ax = fig.add_subplot(111)\n",
    "cax = ax.matshow(confusion.numpy())\n",
    "fig.colorbar(cax)\n",
    "\n",
    "# 축 설정\n",
    "ax.set_xticklabels([''] + all_categories, rotation=90)\n",
    "ax.set_yticklabels([''] + all_categories)\n",
    "\n",
    "# 모든 tick에서 레이블 지정\n",
    "ax.xaxis.set_major_locator(ticker.MultipleLocator(1))\n",
    "ax.yaxis.set_major_locator(ticker.MultipleLocator(1))\n",
    "\n",
    "# sphinx_gallery_thumbnail_number = 2\n",
    "plt.show()"
   ]
  },
  {
   "cell_type": "code",
   "execution_count": null,
   "metadata": {
    "id": "lmetasfG6we6"
   },
   "outputs": [],
   "source": [
    "def predict_lstm(input_line, n_predictions=3):\n",
    "    print('\\n> %s' % input_line)\n",
    "    with torch.no_grad():\n",
    "        output = evaluate_lstm(lineToTensor(input_line))\n",
    "\n",
    "        # Get top N categories\n",
    "        topv, topi = output.topk(n_predictions, 1, True)\n",
    "        predictions = []\n",
    "\n",
    "        for i in range(n_predictions):\n",
    "            value = topv[0][i].item()\n",
    "            category_index = topi[0][i].item()\n",
    "            print('(%.2f) %s' % (value, all_categories[category_index]))\n",
    "            predictions.append([value, all_categories[category_index]])\n",
    "\n",
    "predict_lstm('Dovesky')\n",
    "predict_lstm('Jackson')\n",
    "predict_lstm('Satoshi')"
   ]
  }
 ],
 "metadata": {
  "colab": {
   "authorship_tag": "ABX9TyOOQ8CkP6fSvxkdHjQY07Iu",
   "mount_file_id": "1ZTclfs0dPJWSeFLsqQvBncZBsLF4-DzU",
   "provenance": []
  },
  "kernelspec": {
   "display_name": "Python 3 (ipykernel)",
   "language": "python",
   "name": "python3"
  },
  "language_info": {
   "codemirror_mode": {
    "name": "ipython",
    "version": 3
   },
   "file_extension": ".py",
   "mimetype": "text/x-python",
   "name": "python",
   "nbconvert_exporter": "python",
   "pygments_lexer": "ipython3",
   "version": "3.10.13"
  }
 },
 "nbformat": 4,
 "nbformat_minor": 4
}
