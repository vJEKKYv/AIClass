{
 "cells": [
  {
   "cell_type": "markdown",
   "metadata": {},
   "source": [
    "# What is `Import`?  \n",
    "`import`:다른 파이썬 파일에서 사용할 코드를 가져오는 행위  \n",
    "`import ~ as @`: 가져올 라이브러리를 @란 별칭으로 사용하겠다 선언  \n",
    "`from ~ import @`: ~파일의 @만 불러오겠다"
   ]
  },
  {
   "cell_type": "code",
   "execution_count": 1,
   "metadata": {},
   "outputs": [
    {
     "data": {
      "text/plain": [
       "array([1, 2, 3])"
      ]
     },
     "execution_count": 1,
     "metadata": {},
     "output_type": "execute_result"
    }
   ],
   "source": [
    "import numpy as np\n",
    "np.array([1,2,3])"
   ]
  },
  {
   "cell_type": "markdown",
   "metadata": {},
   "source": [
    "# 자료형"
   ]
  },
  {
   "cell_type": "markdown",
   "metadata": {},
   "source": [
    "## 일반 변수 선언  \n",
    "파이썬에서는 C 및 C++과 다르게 변수의 자료형을 선언할 필요가 없다!  \n",
    "원하는 대로 돌리고 섞어서 사용해라!"
   ]
  },
  {
   "cell_type": "code",
   "execution_count": 78,
   "metadata": {},
   "outputs": [],
   "source": [
    "int_variable = 10\n",
    "float_variable = 10.2\n",
    "string_variable = '문자열 입니다'\n",
    "list_variable =  [1,2,3]\n",
    "dict_variable = {'key1':'value1', 'key2':'value2'}"
   ]
  },
  {
   "cell_type": "markdown",
   "metadata": {},
   "source": [
    "## 정수 및 실수형\n",
    "파이썬에서는 C와 다르게 문제 일으키는 경우는 많지 않다  \n",
    "기본적인 연산이 가능하다"
   ]
  },
  {
   "cell_type": "code",
   "execution_count": 98,
   "metadata": {},
   "outputs": [
    {
     "name": "stdout",
     "output_type": "stream",
     "text": [
      "더하기 + : 10.5\n",
      "빼기 - : 10.5\n",
      "곱하기 * : 5.0\n",
      "나누기 / : 20.0\n",
      "제곱 ** : 3.1622776601683795\n",
      "몫 // : 20.0\n",
      "나머지 % : 0.0\n"
     ]
    }
   ],
   "source": [
    "a = 10\n",
    "b = 0.5\n",
    "print(f'더하기 + : {a+b}')  # 더하기\n",
    "print(f'빼기 - : {a+b}')  # 빼기\n",
    "print(f'곱하기 * : {a*b}') # 곱하기\n",
    "print(f'나누기 / : {a/b}')  # 나누기\n",
    "print(f'제곱 ** : {a**b}') # 제곱\n",
    "print(f'몫 // : {a//b}') # 몫\n",
    "print(f'나머지 % : {a%b}')  # 나머지"
   ]
  },
  {
   "cell_type": "markdown",
   "metadata": {},
   "source": [
    "## 문자열\n",
    "문자열의 기본적인 선언은 '' 이며, str()함수로도 가능하다  \n",
    "문자열의 인덱싱도 가능하며, 시작 번호는 0번으로 시작된다.  \n",
    "문자열끼리의 인접은 + 기호로 사용한다"
   ]
  },
  {
   "cell_type": "code",
   "execution_count": 16,
   "metadata": {},
   "outputs": [
    {
     "name": "stdout",
     "output_type": "stream",
     "text": [
      "문자열 1000\n",
      "문\n"
     ]
    }
   ],
   "source": [
    "string1 = '문자열 '\n",
    "string2 = str(1000)\n",
    "\n",
    "print( string1 + string2 )\n",
    "print(string1[0]) # string1의 첫번째 문자"
   ]
  },
  {
   "cell_type": "markdown",
   "metadata": {},
   "source": [
    "## 리스트\n",
    "쬬꾜가 생각하는 파이썬의 꽃이라고 생각하는 자료형인 리스트이다  \n",
    "인덱싱이 가능하며 0번부터 시작한다.  \n",
    "파이썬의 리스트는 동적으로 메모리를 할당하는데 이는 아직 몰라도 된다.(궁금하면 찾아보세요)  \n",
    "인공지능에서 리스트는 가중치, 데이터를 다루는데 사용이 된다. 데이터의 경우 pandas에서 dataframe이라는 자료형으로 사용하기도 한다.  \n",
    "\n",
    "리스트의 선언 방법으로는 [] 및 list()가 있으며,\n",
    "리스트의 주요 함수로는 append, pop, remove, 등이 있다."
   ]
  },
  {
   "cell_type": "markdown",
   "metadata": {},
   "source": [
    "### 인덱싱\n",
    "주로 리스트 및 문자열에서 사용하며, `변수[]` 형태가 많다  \n",
    "[]안에 들어가는 인자는 int이며, 0이면 첫 번째, -1이면 마지막 요소를 말한다.  \n",
    "슬라이싱이라는 기법이 존재하며, `[:]`이면 전체를, `[0:2]`면 첫번째와 두번째 요소까지(인덱스 0,1) 불러온다."
   ]
  },
  {
   "cell_type": "code",
   "execution_count": 29,
   "metadata": {},
   "outputs": [
    {
     "name": "stdout",
     "output_type": "stream",
     "text": [
      "리스트에 6 추가\n",
      "[1, 2, 3, 4, 5, 6]\n",
      "\n",
      "리스트의 마지막 요소 제거\n",
      "제거요소:6, 리스트:[1, 2, 3, 4, 5]\n",
      "\n",
      "리스트의 첫번째 요소 제거\n",
      "제거요소:1, 리스트:[2, 3, 4, 5]\n",
      "\n",
      "리스트의 첫번째 자리에 1 추가\n",
      "리스트: [1, 2, 3, 4, 5]\n",
      "\n",
      "리스트의 첫번째 1 제거\n",
      "리스트: [2, 3, 4, 5]\n",
      "\n",
      "요소 2의 인덱스 위치 반환: index0\n",
      "요소 2의 개수 반환:1\n",
      "\n",
      "리스트 뒤집기:[5, 4, 3, 2]\n",
      "\n",
      "리스트 정렬:[2, 3, 4, 5]\n",
      "\n",
      "리스트 슬라이싱[0:2]는 인덱스0부터 2직전까지를 말한다:[2, 3]\n",
      "\n"
     ]
    }
   ],
   "source": [
    "list_1 = [1,2,3,4,5]\n",
    "\n",
    "\n",
    "print('리스트에 6 추가')\n",
    "list_1.append(6)\n",
    "print(f'{list_1}\\n')\n",
    "\n",
    "print('리스트의 마지막 요소 제거')\n",
    "pop = list_1.pop()\n",
    "print(f'제거요소:{pop}, 리스트:{list_1}\\n')\n",
    "\n",
    "print('리스트의 첫번째 요소 제거')\n",
    "pop = list_1.pop(0)\n",
    "print(f'제거요소:{pop}, 리스트:{list_1}\\n')\n",
    "\n",
    "print('리스트의 첫번째 자리에 1 추가')\n",
    "list_1.insert(0, 1)\n",
    "print(f'리스트: {list_1}\\n')\n",
    "\n",
    "print('리스트의 첫번째 1 제거')\n",
    "list_1.remove(1)\n",
    "print(f'리스트: {list_1}\\n')\n",
    "\n",
    "print(f'요소 2의 인덱스 위치 반환: index{list_1.index(2)}') # 2의 위치 반환\n",
    "print(f'요소 2의 개수 반환:{list_1.count(2)}\\n') # 2의 개수 반환\n",
    "\n",
    "list_1.reverse() # 리스트 뒤집기\n",
    "print(f'리스트 뒤집기:{list_1}\\n')\n",
    "\n",
    "list_1.sort() # 리스트 정렬\n",
    "print(f'리스트 정렬:{list_1}\\n')\n",
    "\n",
    "print(f'리스트 슬라이싱[0:2]는 인덱스0부터 2직전까지를 말한다:{list_1[0:2]}\\n')"
   ]
  },
  {
   "cell_type": "markdown",
   "metadata": {},
   "source": [
    "## 딕셔너리\n",
    "아마 대부분의 친구들이 딕셔너리를 싫어할 거 같다. 나도 그랬으니...  \n",
    "하지만 딕셔너리의 진가는 key:value라는 구조라는 점이다. 이때 value는 신기한 것도 들어간다.  \n",
    "딕셔너리의 기본적인 생성은 {}이다.  \n",
    "내용물을 추가하는 것은 dict[key]=value 형식이다"
   ]
  },
  {
   "cell_type": "code",
   "execution_count": 79,
   "metadata": {},
   "outputs": [
    {
     "name": "stdout",
     "output_type": "stream",
     "text": [
      "딕셔너리: {'key1': 'value1', 'key2': 'value2'}\n",
      "\n",
      "딕셔너리의 key값만 반환: dict_keys(['key1', 'key2', 'key3'])\n",
      "\n",
      "딕셔너리의 value값만 반환: dict_values(['value1', 'value2', 'value3'])\n",
      "\n",
      "딕셔너리의 key와 value값을 반환: dict_items([('key1', 'value1'), ('key2', 'value2'), ('key3', 'value3')])\n",
      "\n",
      "딕셔너리 활용법1: for문을 이용하여 key와 value값을 출력하는 방법\n",
      "key: key1, value: value1\n",
      "key: key2, value: value2\n",
      "key: key3, value: value3\n",
      "\n",
      "딕셔너리 활용법2: value에 함수를 넣어서 사용하는 방법\n",
      "Hello World!\n",
      "\n",
      "딕셔너리 활용법3: 딕셔너리에 리스트를 넣어서 사용하는 방법\n",
      "리스트: [2, 3, 4, 5]\n",
      "\n"
     ]
    }
   ],
   "source": [
    "dictionary = {'key1':'value1', 'key2':'value2'}\n",
    "print(f'딕셔너리: {dictionary}\\n')\n",
    "\n",
    "dictionary['key3'] = 'value3' # 딕셔너리에 key와 value 추가\n",
    "\n",
    "print(f'딕셔너리의 key값만 반환: {dictionary.keys()}\\n')\n",
    "print(f'딕셔너리의 value값만 반환: {dictionary.values()}\\n')\n",
    "print(f'딕셔너리의 key와 value값을 반환: {dictionary.items()}\\n')\n",
    "# 위 세가지 모두 반복문에서 활용 할 수 있다.\n",
    "\n",
    "print('딕셔너리 활용법1: for문을 이용하여 key와 value값을 출력하는 방법')\n",
    "for key, value in dictionary.items():\n",
    "    print(f'key: {key}, value: {value}')\n",
    "print()\n",
    "\n",
    "print('딕셔너리 활용법2: value에 함수를 넣어서 사용하는 방법 // 함수 핸들 이용')\n",
    "func_dict = { 'print':print}\n",
    "func_dict['print']('Hello World!\\n') # 딕셔너리에 함수를 넣어 키값으로 원하는 함수를 호출할 수 있다.\n",
    "\n",
    "print('딕셔너리 활용법3: 딕셔너리에 리스트를 넣어서 사용하는 방법') # 키를 이름 값은 데이터(리스트)라고 생각할 수 있다.\n",
    "list_dict = {'list':list_1}\n",
    "print(f'리스트: {list_dict[\"list\"]}\\n')"
   ]
  },
  {
   "cell_type": "markdown",
   "metadata": {},
   "source": [
    "# 반복문\n",
    "반복문의 종류는 for과 while이 존재한다.  \n",
    "`break, continue`로 분기를 다루기도 한다."
   ]
  },
  {
   "cell_type": "markdown",
   "metadata": {},
   "source": [
    "## for\n",
    "for은 주로 정해진 횟수를 반복할 때 주로 사용한다\n",
    "for의 주요 사용 방법으로는\n",
    "```\n",
    "for i in [0,1,2,3,4]: \n",
    "    print(i)\n",
    "형태로 사용한다 \n",
    "```\n",
    "\n",
    "range(시작, 끝, 간격) 함수는 시작부터 끝 숫자까지 간격만큼 움직이는 `iterable`객체를 반환한다.  \n",
    "기본적으로 인수를 넣으면 시작은 0이고 끝이 인수로 된 1간격의 객체가 만들어진다"
   ]
  },
  {
   "cell_type": "code",
   "execution_count": 45,
   "metadata": {},
   "outputs": [
    {
     "name": "stdout",
     "output_type": "stream",
     "text": [
      "epoch: 0\n",
      "epoch: 1\n",
      "epoch: 2\n",
      "epoch: 3\n",
      "epoch: 4\n",
      "epoch: 5\n",
      "epoch: 6\n",
      "epoch: 7\n",
      "epoch: 8\n",
      "epoch: 9\n",
      "range1: [0, 1, 2, 3, 4, 5, 6, 7, 8, 9]\n",
      "range2: [0, 2, 4, 6, 8]\n",
      "range3: [10, 9, 8, 7, 6, 5, 4, 3, 2, 1]\n"
     ]
    }
   ],
   "source": [
    "epochs = 10\n",
    "\n",
    "for epoch in range(epochs):\n",
    "    print(f'epoch: {epoch}')\n",
    "\n",
    "range_1 = range(10)\n",
    "range_2 = range(0, 10, 2)\n",
    "range_3 = range(10, 0, -1)\n",
    "\n",
    "print(f'range1: {list(range_1)}')\n",
    "print(f'range2: {list(range_2)}')\n",
    "print(f'range3: {list(range_3)}')"
   ]
  },
  {
   "cell_type": "code",
   "execution_count": 97,
   "metadata": {},
   "outputs": [
    {
     "name": "stdout",
     "output_type": "stream",
     "text": [
      "리스트 컴프리헨션: [0, 1, 2, 3, 4, 5, 6, 7, 8, 9]\n"
     ]
    }
   ],
   "source": [
    "# 플러스 알파 // 리스트 컴프리헨션 list comprehension\n",
    "list_2 = [i for i in range(10)]\n",
    "print(f'리스트 컴프리헨션: {list_2}')"
   ]
  },
  {
   "cell_type": "markdown",
   "metadata": {},
   "source": [
    "## While\n",
    "While은 조건문을 기준으로 동작한다.  \n",
    "엥간해서 인공지능 시간에서는 for문을 많이 활용한다.\n",
    "```\n",
    "while(조건):\n",
    "```"
   ]
  },
  {
   "cell_type": "code",
   "execution_count": 46,
   "metadata": {},
   "outputs": [
    {
     "name": "stdout",
     "output_type": "stream",
     "text": [
      "epoch: 10\n",
      "epoch: 9\n",
      "epoch: 8\n",
      "epoch: 7\n",
      "epoch: 6\n",
      "epoch: 5\n",
      "epoch: 4\n",
      "epoch: 3\n",
      "epoch: 2\n",
      "epoch: 1\n"
     ]
    }
   ],
   "source": [
    "while epochs > 0:\n",
    "    print(f'epoch: {epochs}')\n",
    "    epochs -= 1"
   ]
  },
  {
   "cell_type": "markdown",
   "metadata": {},
   "source": [
    "# 조건문 if~ else~\n",
    "개발자의 모든 알고리즘은 조건문에서 나온다.  \n",
    "```\n",
    "if 조건식:\n",
    "    print('')\n",
    "```  \n",
    "으로 활용한다.  \n",
    "\n",
    "if가 작동하는 경우는 조건식이 True인 경우이며, 반대는 False인 경우이다.  \n",
    "`False, 0, 0.0, 빈컨테이너(빈 리스트, 딕셔너리, 문자열 등)`인 경우만 False이고 나머지는 True로 인식한다.  \n",
    "문자열, 함수 등 엥간한 무언가 존재한 값이 들어온다면, True로 인식한다.  \n",
    "  \n",
    "  and or not 등등은 알아서 잘 한다고 믿는다.  \n",
    "  참고로 is와 ==, and와 &, or과 |, not과~ 은 약간 사용법이 다르다.[(진짜로)](https://velog.io/@kkiyou/py0040)  \n"
   ]
  },
  {
   "cell_type": "code",
   "execution_count": 89,
   "metadata": {},
   "outputs": [
    {
     "name": "stdout",
     "output_type": "stream",
     "text": [
      "bool-True 조건문\n",
      "True activated!\n",
      "--------------------\n",
      "bool-False 조건문\n",
      "False activated!\n",
      "--------------------\n",
      "문자열 조건문\n",
      "True activated!\n",
      "--------------------\n",
      "함수 조건문\n",
      "True activated!\n",
      "--------------------\n",
      "자료형:<class 'list'>\n",
      "True activated!\n",
      "--------------------\n",
      "자료형:<class 'list'>\n",
      "False activated!\n",
      "--------------------\n",
      "자료형:<class 'dict'>\n",
      "True activated!\n",
      "--------------------\n",
      "자료형:<class 'dict'>\n",
      "False activated!\n",
      "--------------------\n"
     ]
    }
   ],
   "source": [
    "print('bool-True 조건문')\n",
    "if True:\n",
    "    print('True activated!')\n",
    "else:\n",
    "    print('False activated!')\n",
    "print('-'*20)\n",
    "\n",
    "print('bool-False 조건문')\n",
    "if False:\n",
    "    print('True activated!')\n",
    "else:\n",
    "    print('False activated!')\n",
    "print('-'*20)\n",
    "\n",
    "print('문자열 조건문')\n",
    "if 'true?': # 값이 존재하는 문자열은 True로 인식, 빈 문자열은 False로 인식\n",
    "    print('True activated!')\n",
    "else:\n",
    "    print('False activated!')\n",
    "print('-'*20)\n",
    "\n",
    "print('함수 조건문')\n",
    "if print: # 요렇게도 된다// 리스트 딕셔너리 등 엥간한 값이 있는건 다 된다.\n",
    "    print('True activated!')\n",
    "else:\n",
    "    print('False activated!')\n",
    "print('-'*20)\n",
    "\n",
    "dic = {'key0':[1,2,3],'key1':[], 'key2':{1:1, 2:2, 3:3}, 'key3':{}}\n",
    "for key in dic: # 이런경우 key값만 반환한다.\n",
    "    print(f'자료형:{type(dic[key])}')\n",
    "    if dic[key]:\n",
    "        print('True activated!')\n",
    "    else:\n",
    "        print('False activated!')\n",
    "    print('-'*20)"
   ]
  },
  {
   "cell_type": "markdown",
   "metadata": {},
   "source": [
    "# 함수 선언\n",
    "효율적인 코드를 위해서는 반복되는 코드는 함수화를 하여 모듈로 사용하면 편하다!\n",
    "\n",
    "```\n",
    "def 밤양갱(인자<없어도 됨>):\n",
    "    함수 내용\n",
    "```  \n",
    "C와 다른점은 리턴값의 타입을 적을 필요가 없다(int나 void 같은거)  \n",
    "함수의 경우에는 기본적인 내용 외에도 데코레이션, 인자 타입 힌트, 결과물 타입 힌트 등 다양하게 꾸밀 수 있다."
   ]
  },
  {
   "cell_type": "code",
   "execution_count": 92,
   "metadata": {},
   "outputs": [],
   "source": [
    "# 아래의 함수의 경우에는 number인자는 int형이고 반환값은 int형이다.\n",
    "# 파이썬에서는 함수의 인자 타입 선언은 일종의 권고사항이다. 즉, 다르더라도 동작은 한다.\n",
    "def 밤양갱(number:int) -> int:\n",
    "    print(number)\n",
    "    return number\n",
    "\n",
    "# 아래 함수는 number인자는 str또는 None이 권고사항이고 기본값은 None이다.\n",
    "def 밤양갱2(number:str|None=None):\n",
    "    print(number)\n",
    "\n",
    "def 밤양갱3():\n",
    "    print('밤양갱3')"
   ]
  },
  {
   "cell_type": "code",
   "execution_count": 93,
   "metadata": {},
   "outputs": [
    {
     "name": "stdout",
     "output_type": "stream",
     "text": [
      "10\n",
      "맛있다!\n",
      "달다!\n",
      "None\n",
      "밤양갱3\n"
     ]
    }
   ],
   "source": [
    "밤양갱(10) #리턴값 10 존재\n",
    "밤양갱('맛있다!') #리턴값 '맛있다!' 존재\n",
    "밤양갱2('달다!')\n",
    "밤양갱2()\n",
    "밤양갱3()"
   ]
  },
  {
   "cell_type": "markdown",
   "metadata": {},
   "source": [
    "# Class\n",
    "클래스는 객체의, 객체에 의한, 객체를 위한 모든 것이다.  \n",
    "상속 등 다양한 기법이 존재하지만, 인공지능 시간에는 그 정도까지 잘 사용하진 않는다."
   ]
  },
  {
   "cell_type": "markdown",
   "metadata": {},
   "source": [
    "## 클래스 선언\n",
    "클래스 선언은 함수 선언과 비슷하다. 단지 def에서 class로 변했을 뿐\n",
    "```\n",
    "class 밤양갱공장():\n",
    "```  \n",
    "클래스와 연관되어있는 함수들(혹은 메소드)들을 한테 모아 관리한다.  \n",
    "  \n",
    "  클래스를 비유 할 때는 붕어빵에 비교하는 경우가 많다  \n",
    "  대신해서 공장으로 예시를 든다."
   ]
  },
  {
   "cell_type": "code",
   "execution_count": 82,
   "metadata": {},
   "outputs": [],
   "source": [
    "class 공장():\n",
    "    def __init__(self, 제품맛:str) -> None:\n",
    "        self.맛 = 제품맛\n",
    "\n",
    "    def 양갱_홍보(self):\n",
    "        print(f'{self.맛}양갱 맛있다!')\n",
    "\n",
    "    def 아이스크림_홍보(self):\n",
    "        print(f'{self.맛}아이스크림 맛있다!')"
   ]
  },
  {
   "cell_type": "code",
   "execution_count": 95,
   "metadata": {},
   "outputs": [
    {
     "name": "stdout",
     "output_type": "stream",
     "text": [
      "딸기양갱 맛있다!\n",
      "딸기아이스크림 맛있다!\n",
      "민트초코양갱 맛있다!\n",
      "민트초코아이스크림 맛있다!\n",
      "<__main__.공장 object at 0x0000019855BE2D10>\n",
      "<__main__.공장 object at 0x0000019855BE3340>\n"
     ]
    }
   ],
   "source": [
    "# 클래스의 선언 - 딸기에 미친 공장을 만들어보자\n",
    "딸기공장 = 공장('딸기')\n",
    "딸기공장.양갱_홍보()\n",
    "딸기공장.아이스크림_홍보()\n",
    "\n",
    "# 클래스의 선언 - 민트초코에 미친 공장을 만들어보자\n",
    "초코공장 = 공장('민트초코')\n",
    "초코공장.양갱_홍보()\n",
    "초코공장.아이스크림_홍보()\n",
    "\n",
    "# 딸기공장과 초코공장은 같은 공장(건물)으로 구성되지만 건설 부지가 다르다고 생각하면 된다.\n",
    "print(딸기공장)\n",
    "print(초코공장)\n",
    "\n",
    "# 위와 같이 같은 클래스를 사용하더라도 인스턴스를 생성할때마다 다른 객체로 활용이 가능하다.\n",
    "# 이것이 클래스의 장점이다. 같은 기능을 하는데도 다른 값을 가질 수 있다.\n",
    "# 클래스를 잘 사용하면 코드가 간결해진다."
   ]
  },
  {
   "cell_type": "markdown",
   "metadata": {},
   "source": [
    "#"
   ]
  },
  {
   "cell_type": "markdown",
   "metadata": {},
   "source": [
    "# 조교와 쬬꾜한테 궁금한 점 연락주셔도 됩니다~"
   ]
  },
  {
   "cell_type": "markdown",
   "metadata": {},
   "source": []
  }
 ],
 "metadata": {
  "kernelspec": {
   "display_name": "Python 3 (ipykernel)",
   "language": "python",
   "name": "python3"
  },
  "language_info": {
   "codemirror_mode": {
    "name": "ipython",
    "version": 3
   },
   "file_extension": ".py",
   "mimetype": "text/x-python",
   "name": "python",
   "nbconvert_exporter": "python",
   "pygments_lexer": "ipython3",
   "version": "3.10.13"
  }
 },
 "nbformat": 4,
 "nbformat_minor": 4
}
