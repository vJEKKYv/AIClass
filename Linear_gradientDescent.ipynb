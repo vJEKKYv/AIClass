{
 "cells": [
  {
   "cell_type": "code",
   "execution_count": null,
   "id": "fe6a98cd",
   "metadata": {},
   "outputs": [],
   "source": [
    "import numpy as np\n",
    "# AND 게이트 입력(x)과 출력(y)\n",
    "X = np.array([[0, 0], [0, 1], [1, 0], [1, 1]])\n",
    "y = np.array([[0], [0], [0], [1]])\n",
    "\n",
    "# 시그모이드 활성화 함수\n",
    "def sigmoid(x):\n",
    "    return 1 / (1 + np.exp(-x))\n",
    "\n",
    "# MSE\n",
    "def mse_loss(x,y):\n",
    "    return np.square(np.subtract(x, y)).mean()\n",
    "\n",
    "class Perceptron:\n",
    "    def __init__(self, input_size):\n",
    "        self.weights = np.random.randn(input_size, 1)\n",
    "        self.bias = np.random.randn(1)\n",
    "\n",
    "    # 순전파 코드 여기에 넣기\n",
    "    def forward(self, X):\n",
    "        # 코드\n",
    "        X_sum = np.sum(weights*(X[:,0])) + bias\n",
    "        return sigmoid(X_sum)\n",
    "\n",
    "    # 역전파 코드 여기에 넣기\n",
    "    def backward(self, X, y, learning_rate):\n",
    "        # 코드\n",
    "        # return 없음\n",
    "\n",
    "    def train(self, X, y, learning_rate, epochs):\n",
    "        for epoch in range(epochs):\n",
    "            self.backward(X, y, learning_rate)\n",
    "            if epoch % 100 == 0:\n",
    "                loss = mse_loss(y, self.forward(X))\n",
    "                print(f'Epoch {epoch}, Loss: {loss:.4f}')\n",
    "\n",
    "input_size = X.shape[1]\n",
    "perceptron = Perceptron(input_size)\n",
    "learning_rate = 0.1\n",
    "epochs = 1000\n",
    "perceptron.train(X, y, learning_rate, epochs)\n",
    "\n",
    "predictions = perceptron.forward(X)\n",
    "print(\"예측 결과:\", predictions)"
   ]
  }
 ],
 "metadata": {
  "kernelspec": {
   "display_name": "Python 3 (ipykernel)",
   "language": "python",
   "name": "python3"
  },
  "language_info": {
   "codemirror_mode": {
    "name": "ipython",
    "version": 3
   },
   "file_extension": ".py",
   "mimetype": "text/x-python",
   "name": "python",
   "nbconvert_exporter": "python",
   "pygments_lexer": "ipython3",
   "version": "3.10.13"
  }
 },
 "nbformat": 4,
 "nbformat_minor": 5
}
