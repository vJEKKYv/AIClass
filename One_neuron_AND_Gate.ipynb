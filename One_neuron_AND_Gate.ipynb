{
 "cells": [
  {
   "cell_type": "code",
   "execution_count": 4,
   "id": "b33bdf52-dfb6-4ca9-8a8d-7df606ba30cf",
   "metadata": {},
   "outputs": [],
   "source": [
    "import numpy as np\n",
    "import matplotlib.pyplot as plt"
   ]
  },
  {
   "cell_type": "code",
   "execution_count": 22,
   "id": "facf2430-826f-42dc-84eb-d4f2bb812d19",
   "metadata": {},
   "outputs": [
    {
     "name": "stdout",
     "output_type": "stream",
     "text": [
      "[0 2 4]\n",
      "0 2 4\n"
     ]
    }
   ],
   "source": [
    "vector_x = np.arange(5)\n",
    "print(vector_x[0:5:2])"
   ]
  },
  {
   "cell_type": "code",
   "execution_count": 12,
   "id": "275c9a37-37e1-4e27-aefe-1b8fe6bc9f9b",
   "metadata": {},
   "outputs": [
    {
     "name": "stdout",
     "output_type": "stream",
     "text": [
      "[0 4 8]\n"
     ]
    }
   ],
   "source": [
    "matrix_A = np.arange(12).reshape(4,3)\n",
    "print(np.diag(matrix_A))"
   ]
  },
  {
   "cell_type": "code",
   "execution_count": 29,
   "id": "7d5a1903-402e-4155-877a-51f92e3c582d",
   "metadata": {},
   "outputs": [
    {
     "name": "stdout",
     "output_type": "stream",
     "text": [
      "[[[0. 0.]\n",
      "  [0. 0.]\n",
      "  [0. 0.]]\n",
      "\n",
      " [[0. 0.]\n",
      "  [0. 0.]\n",
      "  [0. 0.]]\n",
      "\n",
      " [[1. 1.]\n",
      "  [1. 1.]\n",
      "  [1. 1.]]\n",
      "\n",
      " [[0. 0.]\n",
      "  [0. 0.]\n",
      "  [0. 0.]]\n",
      "\n",
      " [[0. 0.]\n",
      "  [0. 0.]\n",
      "  [0. 0.]]]\n"
     ]
    }
   ],
   "source": [
    "Tensor_H = np.zeros((5,3,2))\n",
    "Tensor_H[2:3,:,:] = 1\n",
    "print(Tensor_H)"
   ]
  }
 ],
 "metadata": {
  "kernelspec": {
   "display_name": "Python 3 (ipykernel)",
   "language": "python",
   "name": "python3"
  },
  "language_info": {
   "codemirror_mode": {
    "name": "ipython",
    "version": 3
   },
   "file_extension": ".py",
   "mimetype": "text/x-python",
   "name": "python",
   "nbconvert_exporter": "python",
   "pygments_lexer": "ipython3",
   "version": "3.10.13"
  }
 },
 "nbformat": 4,
 "nbformat_minor": 5
}
