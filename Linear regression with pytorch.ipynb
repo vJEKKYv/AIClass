{
 "cells": [
  {
   "cell_type": "markdown",
   "id": "df8f2893-f121-4d19-9a1c-b07e3d3ef994",
   "metadata": {},
   "source": [
    "# pytorch로 원 뉴런 학습 실습"
   ]
  },
  {
   "cell_type": "markdown",
   "id": "c8bd243f-3577-4f8b-b39c-50b3ebe4a6bc",
   "metadata": {
    "jp-MarkdownHeadingCollapsed": true
   },
   "source": [
    "초기 하이퍼파라미터 : x1 = 1, x2 = 1, w1 = 1, w2 = 2, y(target) = 4\r\n",
    "\r\n",
    " - 활성화 함수, 손실 함수의 경우 각 4가지 사용하여 결과비교\r\n",
    "\r\n",
    " - 옵티마이저는 경사하강법 사용\r\n",
    "\r\n",
    " - 활성화 함수 : ReLU, Sigmoid, Tanh, linear\r\n",
    "\r\n",
    " - 손실 함수 : MSE, MAE, BCE, Huber\r\n",
    "\r\n",
    " - 매 학습 횟수에 따른 Error, 가중치 값 변화 확인 및 작성\r\n",
    "\r\n",
    " - 각 결과에 따른 해석 첨부"
   ]
  },
  {
   "cell_type": "code",
   "execution_count": 87,
   "id": "9c6c2570-a064-484b-af74-175348af5787",
   "metadata": {
    "scrolled": true
   },
   "outputs": [
    {
     "name": "stdout",
     "output_type": "stream",
     "text": [
      "Epoch : 5, Loss: 0.6096, Weight : tensor([[1.0887, 2.0887]]), Bias : tensor([0.0887]), Output : 3.2193\n",
      "Epoch : 10, Loss: 0.3283, Weight : tensor([[1.1538, 2.1538]]), Bias : tensor([0.1538]), Output : 3.4270\n",
      "Epoch : 15, Loss: 0.1768, Weight : tensor([[1.2016, 2.2016]]), Bias : tensor([0.2016]), Output : 3.5795\n",
      "Epoch : 20, Loss: 0.0952, Weight : tensor([[1.2366, 2.2366]]), Bias : tensor([0.2366]), Output : 3.6914\n",
      "Epoch : 25, Loss: 0.0513, Weight : tensor([[1.2624, 2.2624]]), Bias : tensor([0.2624]), Output : 3.7735\n",
      "Epoch : 30, Loss: 0.0276, Weight : tensor([[1.2812, 2.2812]]), Bias : tensor([0.2812]), Output : 3.8338\n",
      "Epoch : 35, Loss: 0.0149, Weight : tensor([[1.2951, 2.2951]]), Bias : tensor([0.2951]), Output : 3.8780\n",
      "Epoch : 40, Loss: 0.0080, Weight : tensor([[1.3053, 2.3053]]), Bias : tensor([0.3053]), Output : 3.9105\n",
      "Epoch : 45, Loss: 0.0043, Weight : tensor([[1.3127, 2.3127]]), Bias : tensor([0.3127]), Output : 3.9343\n",
      "Epoch : 50, Loss: 0.0023, Weight : tensor([[1.3182, 2.3182]]), Bias : tensor([0.3182]), Output : 3.9518\n",
      "Epoch : 55, Loss: 0.0013, Weight : tensor([[1.3222, 2.3222]]), Bias : tensor([0.3222]), Output : 3.9646\n",
      "Epoch : 60, Loss: 0.0007, Weight : tensor([[1.3252, 2.3252]]), Bias : tensor([0.3252]), Output : 3.9740\n",
      "Epoch : 65, Loss: 0.0004, Weight : tensor([[1.3274, 2.3274]]), Bias : tensor([0.3274]), Output : 3.9809\n",
      "Epoch : 70, Loss: 0.0002, Weight : tensor([[1.3290, 2.3289]]), Bias : tensor([0.3290]), Output : 3.9860\n",
      "Epoch : 75, Loss: 0.0001, Weight : tensor([[1.3301, 2.3301]]), Bias : tensor([0.3301]), Output : 3.9897\n",
      "Epoch : 80, Loss: 0.0001, Weight : tensor([[1.3310, 2.3310]]), Bias : tensor([0.3310]), Output : 3.9925\n",
      "Epoch : 85, Loss: 0.0000, Weight : tensor([[1.3316, 2.3316]]), Bias : tensor([0.3316]), Output : 3.9945\n",
      "Epoch : 90, Loss: 0.0000, Weight : tensor([[1.3321, 2.3321]]), Bias : tensor([0.3321]), Output : 3.9959\n",
      "Epoch : 95, Loss: 0.0000, Weight : tensor([[1.3324, 2.3324]]), Bias : tensor([0.3324]), Output : 3.9970\n",
      "Epoch : 100, Loss: 0.0000, Weight : tensor([[1.3326, 2.3326]]), Bias : tensor([0.3326]), Output : 3.9978\n",
      "Epoch : 100, Loss: 0.0000, Weight : tensor([[1.3326, 2.3326]]), Bias : tensor([0.3326]), Output : 3.9978\n",
      "====================================================================================================================\n",
      "Epoch : 200, Loss: 0.0000, Weight : tensor([[1.3333, 2.3333]]), Bias : tensor([0.3333]), Output : 4.0000\n",
      "Epoch : 300, Loss: 0.0000, Weight : tensor([[1.3333, 2.3333]]), Bias : tensor([0.3333]), Output : 4.0000\n",
      "Epoch : 400, Loss: 0.0000, Weight : tensor([[1.3333, 2.3333]]), Bias : tensor([0.3333]), Output : 4.0000\n",
      "Epoch : 500, Loss: 0.0000, Weight : tensor([[1.3333, 2.3333]]), Bias : tensor([0.3333]), Output : 4.0000\n"
     ]
    }
   ],
   "source": [
    "import torch\n",
    "import torch.nn as nn\n",
    "import numpy as np\n",
    "import matplotlib.pyplot as plt\n",
    "import random as rd\n",
    "#x1과 x2를 1로 조정 / y를 4로 조정\n",
    "x_train = np.array([[1,1]])\n",
    "y_train = np.array([[4.0]])\n",
    "#텐서화\n",
    "x_train_tensor = torch.FloatTensor(x_train)\n",
    "y_train_tensor = torch.FloatTensor(y_train)\n",
    "# Hyper parameters\n",
    "input_size = 2\n",
    "output_size = 1\n",
    "num_epochs = 500\n",
    "learning_rate = 0.01\n",
    "#뉴런 정의\n",
    "class Perceptron(nn.Module):\n",
    "    def __init__(self):\n",
    "        super(Perceptron, self).__init__()\n",
    "        self.fc = nn.Linear(2, 1)\n",
    "        self.fc.weight.data = torch.tensor([[1.0,2.0]])\n",
    "        self.fc.bias.data = torch.tensor([0.0])\n",
    "    def forward(self, x):\n",
    "        return torch.relu(self.fc(x))\n",
    "        #return torch.sigmoid(self.fc(x))\n",
    "        #return torch.tanh(self.fc(x))\n",
    "        #return self.fc(x) # linear\n",
    "# Linear Regression Model\n",
    "model = Perceptron()\n",
    "#Loss function, Optimizer 정의\n",
    "criterion = torch.nn.MSELoss()\n",
    "#criterion = torch.nn.L1Loss() #MAELoss\n",
    "#criterion = torch.nn.BCELoss()\n",
    "#criterion = torch.nn.HuberLoss()\n",
    "optimizer = torch.optim.SGD(model.parameters(), lr= learning_rate)\n",
    "#학습 반복.\n",
    "for epoch in range(num_epochs):\n",
    "    optimizer.zero_grad()\n",
    "    outputs = model(x_train_tensor)\n",
    "    loss = criterion(outputs, y_train_tensor)\n",
    "    #학습\n",
    "    loss.backward()\n",
    "    optimizer.step()\n",
    "    #loss 확인하기\n",
    "    if epoch < 100 and (epoch+1)%5==0:\n",
    "        print(f'Epoch : {epoch+1}, Loss: {loss.item():.4f}, Weight : {model.fc.weight.data}, Bias : {model.fc.bias.data}, Output : {outputs.item():.4f}')\n",
    "    if epoch==100:\n",
    "        print(\"====================================================================================================================\")\n",
    "    if(epoch+1)%100==0:\n",
    "        print(f'Epoch : {epoch+1}, Loss: {loss.item():.4f}, Weight : {model.fc.weight.data}, Bias : {model.fc.bias.data}, Output : {outputs.item():.4f}')"
   ]
  },
  {
   "cell_type": "code",
   "execution_count": null,
   "id": "87a5fd88-5421-41ad-a3fc-eb887d072d0f",
   "metadata": {},
   "outputs": [],
   "source": []
  }
 ],
 "metadata": {
  "kernelspec": {
   "display_name": "Python 3 (ipykernel)",
   "language": "python",
   "name": "python3"
  },
  "language_info": {
   "codemirror_mode": {
    "name": "ipython",
    "version": 3
   },
   "file_extension": ".py",
   "mimetype": "text/x-python",
   "name": "python",
   "nbconvert_exporter": "python",
   "pygments_lexer": "ipython3",
   "version": "3.10.13"
  }
 },
 "nbformat": 4,
 "nbformat_minor": 5
}
