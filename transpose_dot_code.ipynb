{
 "cells": [
  {
   "cell_type": "code",
   "execution_count": null,
   "id": "f8651600",
   "metadata": {},
   "outputs": [],
   "source": [
    "def transpose(matrix):\n",
    "    # 결과 저장 변수 선언\n",
    "    transposed_matrix = np.empty((shape[1], shape[0]), dtype=matrix.dtype)\n",
    "    \n",
    "    for i in range(shape[0]):\n",
    "        for j in range(shape[1]):\n",
    "            # 전치를 위해서 기존 i행 j열의 값을 결과 저장 행렬 j행 i열에 저장\n",
    "            transposed_matrix[j][i] = matrix[i][j]\n",
    "    return transposed_matrix"
   ]
  },
  {
   "cell_type": "code",
   "execution_count": null,
   "id": "458da73e",
   "metadata": {},
   "outputs": [],
   "source": [
    "def matrix_inner_product(A, B):\n",
    "    # transpose 함수 사용\n",
    "    transposed_A = transpose(A)\n",
    "\n",
    "    # 결과 저장 변수 선언\n",
    "    result = np.zeros((transposed_A.shape[0], B.shape[1]))\n",
    "\n",
    "    for i in range(transposed_A.shape[0]):\n",
    "        for j in range(B.shape[1]):\n",
    "            # A의 i행과 B의 j열 계산 값 저장을 위한 변수 sum\n",
    "            sum = 0\n",
    "            for k in range(A.shape[1]):\n",
    "                # A 행렬의 i행 k열 원소와 B행렬 k행 j열 원소를 곱해준 후 전체 값에 더해줌\n",
    "                sum += transposed_A[i][k] * B[k][j]\n",
    "            # 결과 저장 변수의 i행 j열에 원소 하나의 값 저장\n",
    "            result[i][j] = sum\n",
    "    \n",
    "    return result"
   ]
  }
 ],
 "metadata": {
  "kernelspec": {
   "display_name": "Python 3 (ipykernel)",
   "language": "python",
   "name": "python3"
  },
  "language_info": {
   "codemirror_mode": {
    "name": "ipython",
    "version": 3
   },
   "file_extension": ".py",
   "mimetype": "text/x-python",
   "name": "python",
   "nbconvert_exporter": "python",
   "pygments_lexer": "ipython3",
   "version": "3.11.3"
  }
 },
 "nbformat": 4,
 "nbformat_minor": 5
}
